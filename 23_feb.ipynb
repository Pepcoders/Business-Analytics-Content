{
  "nbformat": 4,
  "nbformat_minor": 0,
  "metadata": {
    "colab": {
      "name": "23_feb.ipynb",
      "provenance": [],
      "authorship_tag": "ABX9TyN0yO8wGW5fXoK+N0Upj2rw",
      "include_colab_link": true
    },
    "kernelspec": {
      "name": "ir",
      "display_name": "R"
    },
    "language_info": {
      "name": "R"
    }
  },
  "cells": [
    {
      "cell_type": "markdown",
      "metadata": {
        "id": "view-in-github",
        "colab_type": "text"
      },
      "source": [
        "<a href=\"https://colab.research.google.com/github/Pepcoders/Business-Analytics-Content/blob/BA/23_feb.ipynb\" target=\"_parent\"><img src=\"https://colab.research.google.com/assets/colab-badge.svg\" alt=\"Open In Colab\"/></a>"
      ]
    },
    {
      "cell_type": "code",
      "execution_count": null,
      "metadata": {
        "id": "tKFaF5Y-NGuD"
      },
      "outputs": [],
      "source": [
        "install.packages(\"tidyverse\")\n",
        "library(tidyverse)"
      ]
    },
    {
      "cell_type": "code",
      "source": [
        "table1"
      ],
      "metadata": {
        "colab": {
          "base_uri": "https://localhost:8080/",
          "height": 286
        },
        "id": "arVlnJ_1O0bW",
        "outputId": "1f5642cf-6938-4658-925a-7a9f4869d9d8"
      },
      "execution_count": 2,
      "outputs": [
        {
          "output_type": "display_data",
          "data": {
            "text/plain": [
              "  country     year cases  population\n",
              "1 Afghanistan 1999    745   19987071\n",
              "2 Afghanistan 2000   2666   20595360\n",
              "3 Brazil      1999  37737  172006362\n",
              "4 Brazil      2000  80488  174504898\n",
              "5 China       1999 212258 1272915272\n",
              "6 China       2000 213766 1280428583"
            ],
            "text/latex": "A tibble: 6 × 4\n\\begin{tabular}{llll}\n country & year & cases & population\\\\\n <chr> & <int> & <int> & <int>\\\\\n\\hline\n\t Afghanistan & 1999 &    745 &   19987071\\\\\n\t Afghanistan & 2000 &   2666 &   20595360\\\\\n\t Brazil      & 1999 &  37737 &  172006362\\\\\n\t Brazil      & 2000 &  80488 &  174504898\\\\\n\t China       & 1999 & 212258 & 1272915272\\\\\n\t China       & 2000 & 213766 & 1280428583\\\\\n\\end{tabular}\n",
            "text/markdown": "\nA tibble: 6 × 4\n\n| country &lt;chr&gt; | year &lt;int&gt; | cases &lt;int&gt; | population &lt;int&gt; |\n|---|---|---|---|\n| Afghanistan | 1999 |    745 |   19987071 |\n| Afghanistan | 2000 |   2666 |   20595360 |\n| Brazil      | 1999 |  37737 |  172006362 |\n| Brazil      | 2000 |  80488 |  174504898 |\n| China       | 1999 | 212258 | 1272915272 |\n| China       | 2000 | 213766 | 1280428583 |\n\n",
            "text/html": [
              "<table class=\"dataframe\">\n",
              "<caption>A tibble: 6 × 4</caption>\n",
              "<thead>\n",
              "\t<tr><th scope=col>country</th><th scope=col>year</th><th scope=col>cases</th><th scope=col>population</th></tr>\n",
              "\t<tr><th scope=col>&lt;chr&gt;</th><th scope=col>&lt;int&gt;</th><th scope=col>&lt;int&gt;</th><th scope=col>&lt;int&gt;</th></tr>\n",
              "</thead>\n",
              "<tbody>\n",
              "\t<tr><td>Afghanistan</td><td>1999</td><td>   745</td><td>  19987071</td></tr>\n",
              "\t<tr><td>Afghanistan</td><td>2000</td><td>  2666</td><td>  20595360</td></tr>\n",
              "\t<tr><td>Brazil     </td><td>1999</td><td> 37737</td><td> 172006362</td></tr>\n",
              "\t<tr><td>Brazil     </td><td>2000</td><td> 80488</td><td> 174504898</td></tr>\n",
              "\t<tr><td>China      </td><td>1999</td><td>212258</td><td>1272915272</td></tr>\n",
              "\t<tr><td>China      </td><td>2000</td><td>213766</td><td>1280428583</td></tr>\n",
              "</tbody>\n",
              "</table>\n"
            ]
          },
          "metadata": {}
        }
      ]
    },
    {
      "cell_type": "code",
      "source": [
        "table4a"
      ],
      "metadata": {
        "id": "AsABsmR9PApG"
      },
      "execution_count": null,
      "outputs": []
    },
    {
      "cell_type": "code",
      "source": [
        "table2"
      ],
      "metadata": {
        "colab": {
          "base_uri": "https://localhost:8080/",
          "height": 474
        },
        "id": "kE2bmkfEPB9r",
        "outputId": "516c40bc-17f5-4243-f7f9-4d775b901424"
      },
      "execution_count": 6,
      "outputs": [
        {
          "output_type": "display_data",
          "data": {
            "text/plain": [
              "   country     year type       count     \n",
              "1  Afghanistan 1999 cases             745\n",
              "2  Afghanistan 1999 population   19987071\n",
              "3  Afghanistan 2000 cases            2666\n",
              "4  Afghanistan 2000 population   20595360\n",
              "5  Brazil      1999 cases           37737\n",
              "6  Brazil      1999 population  172006362\n",
              "7  Brazil      2000 cases           80488\n",
              "8  Brazil      2000 population  174504898\n",
              "9  China       1999 cases          212258\n",
              "10 China       1999 population 1272915272\n",
              "11 China       2000 cases          213766\n",
              "12 China       2000 population 1280428583"
            ],
            "text/latex": "A tibble: 12 × 4\n\\begin{tabular}{llll}\n country & year & type & count\\\\\n <chr> & <int> & <chr> & <int>\\\\\n\\hline\n\t Afghanistan & 1999 & cases      &        745\\\\\n\t Afghanistan & 1999 & population &   19987071\\\\\n\t Afghanistan & 2000 & cases      &       2666\\\\\n\t Afghanistan & 2000 & population &   20595360\\\\\n\t Brazil      & 1999 & cases      &      37737\\\\\n\t Brazil      & 1999 & population &  172006362\\\\\n\t Brazil      & 2000 & cases      &      80488\\\\\n\t Brazil      & 2000 & population &  174504898\\\\\n\t China       & 1999 & cases      &     212258\\\\\n\t China       & 1999 & population & 1272915272\\\\\n\t China       & 2000 & cases      &     213766\\\\\n\t China       & 2000 & population & 1280428583\\\\\n\\end{tabular}\n",
            "text/markdown": "\nA tibble: 12 × 4\n\n| country &lt;chr&gt; | year &lt;int&gt; | type &lt;chr&gt; | count &lt;int&gt; |\n|---|---|---|---|\n| Afghanistan | 1999 | cases      |        745 |\n| Afghanistan | 1999 | population |   19987071 |\n| Afghanistan | 2000 | cases      |       2666 |\n| Afghanistan | 2000 | population |   20595360 |\n| Brazil      | 1999 | cases      |      37737 |\n| Brazil      | 1999 | population |  172006362 |\n| Brazil      | 2000 | cases      |      80488 |\n| Brazil      | 2000 | population |  174504898 |\n| China       | 1999 | cases      |     212258 |\n| China       | 1999 | population | 1272915272 |\n| China       | 2000 | cases      |     213766 |\n| China       | 2000 | population | 1280428583 |\n\n",
            "text/html": [
              "<table class=\"dataframe\">\n",
              "<caption>A tibble: 12 × 4</caption>\n",
              "<thead>\n",
              "\t<tr><th scope=col>country</th><th scope=col>year</th><th scope=col>type</th><th scope=col>count</th></tr>\n",
              "\t<tr><th scope=col>&lt;chr&gt;</th><th scope=col>&lt;int&gt;</th><th scope=col>&lt;chr&gt;</th><th scope=col>&lt;int&gt;</th></tr>\n",
              "</thead>\n",
              "<tbody>\n",
              "\t<tr><td>Afghanistan</td><td>1999</td><td>cases     </td><td>       745</td></tr>\n",
              "\t<tr><td>Afghanistan</td><td>1999</td><td>population</td><td>  19987071</td></tr>\n",
              "\t<tr><td>Afghanistan</td><td>2000</td><td>cases     </td><td>      2666</td></tr>\n",
              "\t<tr><td>Afghanistan</td><td>2000</td><td>population</td><td>  20595360</td></tr>\n",
              "\t<tr><td>Brazil     </td><td>1999</td><td>cases     </td><td>     37737</td></tr>\n",
              "\t<tr><td>Brazil     </td><td>1999</td><td>population</td><td> 172006362</td></tr>\n",
              "\t<tr><td>Brazil     </td><td>2000</td><td>cases     </td><td>     80488</td></tr>\n",
              "\t<tr><td>Brazil     </td><td>2000</td><td>population</td><td> 174504898</td></tr>\n",
              "\t<tr><td>China      </td><td>1999</td><td>cases     </td><td>    212258</td></tr>\n",
              "\t<tr><td>China      </td><td>1999</td><td>population</td><td>1272915272</td></tr>\n",
              "\t<tr><td>China      </td><td>2000</td><td>cases     </td><td>    213766</td></tr>\n",
              "\t<tr><td>China      </td><td>2000</td><td>population</td><td>1280428583</td></tr>\n",
              "</tbody>\n",
              "</table>\n"
            ]
          },
          "metadata": {}
        }
      ]
    },
    {
      "cell_type": "code",
      "source": [
        "table4a %>%     # \"then\"\n",
        "pivot_longer(cols = c('1999','2000'),names_to=\"year\",values_to = \"cases\") %>%    #Unpivot\n",
        "arrange(country,year)"
      ],
      "metadata": {
        "colab": {
          "base_uri": "https://localhost:8080/",
          "height": 286
        },
        "id": "Auv0_9fvPDAp",
        "outputId": "a92767ca-1aa1-43bc-9b27-28321f255947"
      },
      "execution_count": 5,
      "outputs": [
        {
          "output_type": "display_data",
          "data": {
            "text/plain": [
              "  country     year cases \n",
              "1 Afghanistan 1999    745\n",
              "2 Afghanistan 2000   2666\n",
              "3 Brazil      1999  37737\n",
              "4 Brazil      2000  80488\n",
              "5 China       1999 212258\n",
              "6 China       2000 213766"
            ],
            "text/latex": "A tibble: 6 × 3\n\\begin{tabular}{lll}\n country & year & cases\\\\\n <chr> & <chr> & <int>\\\\\n\\hline\n\t Afghanistan & 1999 &    745\\\\\n\t Afghanistan & 2000 &   2666\\\\\n\t Brazil      & 1999 &  37737\\\\\n\t Brazil      & 2000 &  80488\\\\\n\t China       & 1999 & 212258\\\\\n\t China       & 2000 & 213766\\\\\n\\end{tabular}\n",
            "text/markdown": "\nA tibble: 6 × 3\n\n| country &lt;chr&gt; | year &lt;chr&gt; | cases &lt;int&gt; |\n|---|---|---|\n| Afghanistan | 1999 |    745 |\n| Afghanistan | 2000 |   2666 |\n| Brazil      | 1999 |  37737 |\n| Brazil      | 2000 |  80488 |\n| China       | 1999 | 212258 |\n| China       | 2000 | 213766 |\n\n",
            "text/html": [
              "<table class=\"dataframe\">\n",
              "<caption>A tibble: 6 × 3</caption>\n",
              "<thead>\n",
              "\t<tr><th scope=col>country</th><th scope=col>year</th><th scope=col>cases</th></tr>\n",
              "\t<tr><th scope=col>&lt;chr&gt;</th><th scope=col>&lt;chr&gt;</th><th scope=col>&lt;int&gt;</th></tr>\n",
              "</thead>\n",
              "<tbody>\n",
              "\t<tr><td>Afghanistan</td><td>1999</td><td>   745</td></tr>\n",
              "\t<tr><td>Afghanistan</td><td>2000</td><td>  2666</td></tr>\n",
              "\t<tr><td>Brazil     </td><td>1999</td><td> 37737</td></tr>\n",
              "\t<tr><td>Brazil     </td><td>2000</td><td> 80488</td></tr>\n",
              "\t<tr><td>China      </td><td>1999</td><td>212258</td></tr>\n",
              "\t<tr><td>China      </td><td>2000</td><td>213766</td></tr>\n",
              "</tbody>\n",
              "</table>\n"
            ]
          },
          "metadata": {}
        }
      ]
    },
    {
      "cell_type": "code",
      "source": [
        "table2 %>% \n",
        "pivot_wider(names_from =\"type\",values_from = \"count\" )\n"
      ],
      "metadata": {
        "colab": {
          "base_uri": "https://localhost:8080/",
          "height": 286
        },
        "id": "RDO2Ue_HQpaE",
        "outputId": "e7a71048-249f-44e9-c332-04564bcee77e"
      },
      "execution_count": 7,
      "outputs": [
        {
          "output_type": "display_data",
          "data": {
            "text/plain": [
              "  country     year cases  population\n",
              "1 Afghanistan 1999    745   19987071\n",
              "2 Afghanistan 2000   2666   20595360\n",
              "3 Brazil      1999  37737  172006362\n",
              "4 Brazil      2000  80488  174504898\n",
              "5 China       1999 212258 1272915272\n",
              "6 China       2000 213766 1280428583"
            ],
            "text/latex": "A tibble: 6 × 4\n\\begin{tabular}{llll}\n country & year & cases & population\\\\\n <chr> & <int> & <int> & <int>\\\\\n\\hline\n\t Afghanistan & 1999 &    745 &   19987071\\\\\n\t Afghanistan & 2000 &   2666 &   20595360\\\\\n\t Brazil      & 1999 &  37737 &  172006362\\\\\n\t Brazil      & 2000 &  80488 &  174504898\\\\\n\t China       & 1999 & 212258 & 1272915272\\\\\n\t China       & 2000 & 213766 & 1280428583\\\\\n\\end{tabular}\n",
            "text/markdown": "\nA tibble: 6 × 4\n\n| country &lt;chr&gt; | year &lt;int&gt; | cases &lt;int&gt; | population &lt;int&gt; |\n|---|---|---|---|\n| Afghanistan | 1999 |    745 |   19987071 |\n| Afghanistan | 2000 |   2666 |   20595360 |\n| Brazil      | 1999 |  37737 |  172006362 |\n| Brazil      | 2000 |  80488 |  174504898 |\n| China       | 1999 | 212258 | 1272915272 |\n| China       | 2000 | 213766 | 1280428583 |\n\n",
            "text/html": [
              "<table class=\"dataframe\">\n",
              "<caption>A tibble: 6 × 4</caption>\n",
              "<thead>\n",
              "\t<tr><th scope=col>country</th><th scope=col>year</th><th scope=col>cases</th><th scope=col>population</th></tr>\n",
              "\t<tr><th scope=col>&lt;chr&gt;</th><th scope=col>&lt;int&gt;</th><th scope=col>&lt;int&gt;</th><th scope=col>&lt;int&gt;</th></tr>\n",
              "</thead>\n",
              "<tbody>\n",
              "\t<tr><td>Afghanistan</td><td>1999</td><td>   745</td><td>  19987071</td></tr>\n",
              "\t<tr><td>Afghanistan</td><td>2000</td><td>  2666</td><td>  20595360</td></tr>\n",
              "\t<tr><td>Brazil     </td><td>1999</td><td> 37737</td><td> 172006362</td></tr>\n",
              "\t<tr><td>Brazil     </td><td>2000</td><td> 80488</td><td> 174504898</td></tr>\n",
              "\t<tr><td>China      </td><td>1999</td><td>212258</td><td>1272915272</td></tr>\n",
              "\t<tr><td>China      </td><td>2000</td><td>213766</td><td>1280428583</td></tr>\n",
              "</tbody>\n",
              "</table>\n"
            ]
          },
          "metadata": {}
        }
      ]
    },
    {
      "cell_type": "code",
      "source": [
        "table3"
      ],
      "metadata": {
        "colab": {
          "base_uri": "https://localhost:8080/",
          "height": 286
        },
        "id": "LiItWUl9R5o8",
        "outputId": "09a35372-8c94-418f-bed6-824535bb5aab"
      },
      "execution_count": 8,
      "outputs": [
        {
          "output_type": "display_data",
          "data": {
            "text/plain": [
              "  country     year rate             \n",
              "1 Afghanistan 1999 745/19987071     \n",
              "2 Afghanistan 2000 2666/20595360    \n",
              "3 Brazil      1999 37737/172006362  \n",
              "4 Brazil      2000 80488/174504898  \n",
              "5 China       1999 212258/1272915272\n",
              "6 China       2000 213766/1280428583"
            ],
            "text/latex": "A tibble: 6 × 3\n\\begin{tabular}{r|lll}\n  & country & year & rate\\\\\n  & <chr> & <int> & <chr>\\\\\n\\hline\n\t1 & Afghanistan & 1999 & 745/19987071     \\\\\n\t2 & Afghanistan & 2000 & 2666/20595360    \\\\\n\t3 & Brazil      & 1999 & 37737/172006362  \\\\\n\t4 & Brazil      & 2000 & 80488/174504898  \\\\\n\t5 & China       & 1999 & 212258/1272915272\\\\\n\t6 & China       & 2000 & 213766/1280428583\\\\\n\\end{tabular}\n",
            "text/markdown": "\nA tibble: 6 × 3\n\n| <!--/--> | country &lt;chr&gt; | year &lt;int&gt; | rate &lt;chr&gt; |\n|---|---|---|---|\n| 1 | Afghanistan | 1999 | 745/19987071      |\n| 2 | Afghanistan | 2000 | 2666/20595360     |\n| 3 | Brazil      | 1999 | 37737/172006362   |\n| 4 | Brazil      | 2000 | 80488/174504898   |\n| 5 | China       | 1999 | 212258/1272915272 |\n| 6 | China       | 2000 | 213766/1280428583 |\n\n",
            "text/html": [
              "<table class=\"dataframe\">\n",
              "<caption>A tibble: 6 × 3</caption>\n",
              "<thead>\n",
              "\t<tr><th></th><th scope=col>country</th><th scope=col>year</th><th scope=col>rate</th></tr>\n",
              "\t<tr><th></th><th scope=col>&lt;chr&gt;</th><th scope=col>&lt;int&gt;</th><th scope=col>&lt;chr&gt;</th></tr>\n",
              "</thead>\n",
              "<tbody>\n",
              "\t<tr><th scope=row>1</th><td>Afghanistan</td><td>1999</td><td>745/19987071     </td></tr>\n",
              "\t<tr><th scope=row>2</th><td>Afghanistan</td><td>2000</td><td>2666/20595360    </td></tr>\n",
              "\t<tr><th scope=row>3</th><td>Brazil     </td><td>1999</td><td>37737/172006362  </td></tr>\n",
              "\t<tr><th scope=row>4</th><td>Brazil     </td><td>2000</td><td>80488/174504898  </td></tr>\n",
              "\t<tr><th scope=row>5</th><td>China      </td><td>1999</td><td>212258/1272915272</td></tr>\n",
              "\t<tr><th scope=row>6</th><td>China      </td><td>2000</td><td>213766/1280428583</td></tr>\n",
              "</tbody>\n",
              "</table>\n"
            ]
          },
          "metadata": {}
        }
      ]
    },
    {
      "cell_type": "code",
      "source": [
        "table3 %>%\n",
        "separate(rate, into = c(\"cases\",\"population\"),sep=\"/\",convert = TRUE) # convert argument allows to auto-detect the data type of the new columns"
      ],
      "metadata": {
        "colab": {
          "base_uri": "https://localhost:8080/",
          "height": 286
        },
        "id": "fzoQz5qfSU2o",
        "outputId": "afbac702-ec68-4f85-d65b-13cdcdfbdfa2"
      },
      "execution_count": 9,
      "outputs": [
        {
          "output_type": "display_data",
          "data": {
            "text/plain": [
              "  country     year cases  population\n",
              "1 Afghanistan 1999    745   19987071\n",
              "2 Afghanistan 2000   2666   20595360\n",
              "3 Brazil      1999  37737  172006362\n",
              "4 Brazil      2000  80488  174504898\n",
              "5 China       1999 212258 1272915272\n",
              "6 China       2000 213766 1280428583"
            ],
            "text/latex": "A tibble: 6 × 4\n\\begin{tabular}{llll}\n country & year & cases & population\\\\\n <chr> & <int> & <int> & <int>\\\\\n\\hline\n\t Afghanistan & 1999 &    745 &   19987071\\\\\n\t Afghanistan & 2000 &   2666 &   20595360\\\\\n\t Brazil      & 1999 &  37737 &  172006362\\\\\n\t Brazil      & 2000 &  80488 &  174504898\\\\\n\t China       & 1999 & 212258 & 1272915272\\\\\n\t China       & 2000 & 213766 & 1280428583\\\\\n\\end{tabular}\n",
            "text/markdown": "\nA tibble: 6 × 4\n\n| country &lt;chr&gt; | year &lt;int&gt; | cases &lt;int&gt; | population &lt;int&gt; |\n|---|---|---|---|\n| Afghanistan | 1999 |    745 |   19987071 |\n| Afghanistan | 2000 |   2666 |   20595360 |\n| Brazil      | 1999 |  37737 |  172006362 |\n| Brazil      | 2000 |  80488 |  174504898 |\n| China       | 1999 | 212258 | 1272915272 |\n| China       | 2000 | 213766 | 1280428583 |\n\n",
            "text/html": [
              "<table class=\"dataframe\">\n",
              "<caption>A tibble: 6 × 4</caption>\n",
              "<thead>\n",
              "\t<tr><th scope=col>country</th><th scope=col>year</th><th scope=col>cases</th><th scope=col>population</th></tr>\n",
              "\t<tr><th scope=col>&lt;chr&gt;</th><th scope=col>&lt;int&gt;</th><th scope=col>&lt;int&gt;</th><th scope=col>&lt;int&gt;</th></tr>\n",
              "</thead>\n",
              "<tbody>\n",
              "\t<tr><td>Afghanistan</td><td>1999</td><td>   745</td><td>  19987071</td></tr>\n",
              "\t<tr><td>Afghanistan</td><td>2000</td><td>  2666</td><td>  20595360</td></tr>\n",
              "\t<tr><td>Brazil     </td><td>1999</td><td> 37737</td><td> 172006362</td></tr>\n",
              "\t<tr><td>Brazil     </td><td>2000</td><td> 80488</td><td> 174504898</td></tr>\n",
              "\t<tr><td>China      </td><td>1999</td><td>212258</td><td>1272915272</td></tr>\n",
              "\t<tr><td>China      </td><td>2000</td><td>213766</td><td>1280428583</td></tr>\n",
              "</tbody>\n",
              "</table>\n"
            ]
          },
          "metadata": {}
        }
      ]
    },
    {
      "cell_type": "code",
      "source": [
        "table5"
      ],
      "metadata": {
        "colab": {
          "base_uri": "https://localhost:8080/",
          "height": 286
        },
        "id": "yeDshrm2TTBv",
        "outputId": "f010e78a-d9db-4322-9a72-52affec60fae"
      },
      "execution_count": 10,
      "outputs": [
        {
          "output_type": "display_data",
          "data": {
            "text/plain": [
              "  country     century year rate             \n",
              "1 Afghanistan 19      99   745/19987071     \n",
              "2 Afghanistan 20      00   2666/20595360    \n",
              "3 Brazil      19      99   37737/172006362  \n",
              "4 Brazil      20      00   80488/174504898  \n",
              "5 China       19      99   212258/1272915272\n",
              "6 China       20      00   213766/1280428583"
            ],
            "text/latex": "A tibble: 6 × 4\n\\begin{tabular}{r|llll}\n  & country & century & year & rate\\\\\n  & <chr> & <chr> & <chr> & <chr>\\\\\n\\hline\n\t1 & Afghanistan & 19 & 99 & 745/19987071     \\\\\n\t2 & Afghanistan & 20 & 00 & 2666/20595360    \\\\\n\t3 & Brazil      & 19 & 99 & 37737/172006362  \\\\\n\t4 & Brazil      & 20 & 00 & 80488/174504898  \\\\\n\t5 & China       & 19 & 99 & 212258/1272915272\\\\\n\t6 & China       & 20 & 00 & 213766/1280428583\\\\\n\\end{tabular}\n",
            "text/markdown": "\nA tibble: 6 × 4\n\n| <!--/--> | country &lt;chr&gt; | century &lt;chr&gt; | year &lt;chr&gt; | rate &lt;chr&gt; |\n|---|---|---|---|---|\n| 1 | Afghanistan | 19 | 99 | 745/19987071      |\n| 2 | Afghanistan | 20 | 00 | 2666/20595360     |\n| 3 | Brazil      | 19 | 99 | 37737/172006362   |\n| 4 | Brazil      | 20 | 00 | 80488/174504898   |\n| 5 | China       | 19 | 99 | 212258/1272915272 |\n| 6 | China       | 20 | 00 | 213766/1280428583 |\n\n",
            "text/html": [
              "<table class=\"dataframe\">\n",
              "<caption>A tibble: 6 × 4</caption>\n",
              "<thead>\n",
              "\t<tr><th></th><th scope=col>country</th><th scope=col>century</th><th scope=col>year</th><th scope=col>rate</th></tr>\n",
              "\t<tr><th></th><th scope=col>&lt;chr&gt;</th><th scope=col>&lt;chr&gt;</th><th scope=col>&lt;chr&gt;</th><th scope=col>&lt;chr&gt;</th></tr>\n",
              "</thead>\n",
              "<tbody>\n",
              "\t<tr><th scope=row>1</th><td>Afghanistan</td><td>19</td><td>99</td><td>745/19987071     </td></tr>\n",
              "\t<tr><th scope=row>2</th><td>Afghanistan</td><td>20</td><td>00</td><td>2666/20595360    </td></tr>\n",
              "\t<tr><th scope=row>3</th><td>Brazil     </td><td>19</td><td>99</td><td>37737/172006362  </td></tr>\n",
              "\t<tr><th scope=row>4</th><td>Brazil     </td><td>20</td><td>00</td><td>80488/174504898  </td></tr>\n",
              "\t<tr><th scope=row>5</th><td>China      </td><td>19</td><td>99</td><td>212258/1272915272</td></tr>\n",
              "\t<tr><th scope=row>6</th><td>China      </td><td>20</td><td>00</td><td>213766/1280428583</td></tr>\n",
              "</tbody>\n",
              "</table>\n"
            ]
          },
          "metadata": {}
        }
      ]
    },
    {
      "cell_type": "code",
      "source": [
        "table5 %>%\n",
        "unite(new,century,year)"
      ],
      "metadata": {
        "colab": {
          "base_uri": "https://localhost:8080/",
          "height": 286
        },
        "id": "O9tWPbnBT9IW",
        "outputId": "0ce4071c-1c66-400d-fa9c-07f5962955ca"
      },
      "execution_count": 11,
      "outputs": [
        {
          "output_type": "display_data",
          "data": {
            "text/plain": [
              "  country     new   rate             \n",
              "1 Afghanistan 19_99 745/19987071     \n",
              "2 Afghanistan 20_00 2666/20595360    \n",
              "3 Brazil      19_99 37737/172006362  \n",
              "4 Brazil      20_00 80488/174504898  \n",
              "5 China       19_99 212258/1272915272\n",
              "6 China       20_00 213766/1280428583"
            ],
            "text/latex": "A tibble: 6 × 3\n\\begin{tabular}{lll}\n country & new & rate\\\\\n <chr> & <chr> & <chr>\\\\\n\\hline\n\t Afghanistan & 19\\_99 & 745/19987071     \\\\\n\t Afghanistan & 20\\_00 & 2666/20595360    \\\\\n\t Brazil      & 19\\_99 & 37737/172006362  \\\\\n\t Brazil      & 20\\_00 & 80488/174504898  \\\\\n\t China       & 19\\_99 & 212258/1272915272\\\\\n\t China       & 20\\_00 & 213766/1280428583\\\\\n\\end{tabular}\n",
            "text/markdown": "\nA tibble: 6 × 3\n\n| country &lt;chr&gt; | new &lt;chr&gt; | rate &lt;chr&gt; |\n|---|---|---|\n| Afghanistan | 19_99 | 745/19987071      |\n| Afghanistan | 20_00 | 2666/20595360     |\n| Brazil      | 19_99 | 37737/172006362   |\n| Brazil      | 20_00 | 80488/174504898   |\n| China       | 19_99 | 212258/1272915272 |\n| China       | 20_00 | 213766/1280428583 |\n\n",
            "text/html": [
              "<table class=\"dataframe\">\n",
              "<caption>A tibble: 6 × 3</caption>\n",
              "<thead>\n",
              "\t<tr><th scope=col>country</th><th scope=col>new</th><th scope=col>rate</th></tr>\n",
              "\t<tr><th scope=col>&lt;chr&gt;</th><th scope=col>&lt;chr&gt;</th><th scope=col>&lt;chr&gt;</th></tr>\n",
              "</thead>\n",
              "<tbody>\n",
              "\t<tr><td>Afghanistan</td><td>19_99</td><td>745/19987071     </td></tr>\n",
              "\t<tr><td>Afghanistan</td><td>20_00</td><td>2666/20595360    </td></tr>\n",
              "\t<tr><td>Brazil     </td><td>19_99</td><td>37737/172006362  </td></tr>\n",
              "\t<tr><td>Brazil     </td><td>20_00</td><td>80488/174504898  </td></tr>\n",
              "\t<tr><td>China      </td><td>19_99</td><td>212258/1272915272</td></tr>\n",
              "\t<tr><td>China      </td><td>20_00</td><td>213766/1280428583</td></tr>\n",
              "</tbody>\n",
              "</table>\n"
            ]
          },
          "metadata": {}
        }
      ]
    },
    {
      "cell_type": "code",
      "source": [
        "table5 %>%\n",
        "unite(new,century,year,sep=\"\") %>% # remove argument is for retaining the old columns \n",
        "mutate(new = as.integer(new))"
      ],
      "metadata": {
        "colab": {
          "base_uri": "https://localhost:8080/",
          "height": 286
        },
        "id": "m_oDIfl-TwP4",
        "outputId": "b22c6ac0-7bd7-47b2-c63e-54ad9f4b0b0e"
      },
      "execution_count": 15,
      "outputs": [
        {
          "output_type": "display_data",
          "data": {
            "text/plain": [
              "  country     new  rate             \n",
              "1 Afghanistan 1999 745/19987071     \n",
              "2 Afghanistan 2000 2666/20595360    \n",
              "3 Brazil      1999 37737/172006362  \n",
              "4 Brazil      2000 80488/174504898  \n",
              "5 China       1999 212258/1272915272\n",
              "6 China       2000 213766/1280428583"
            ],
            "text/latex": "A tibble: 6 × 3\n\\begin{tabular}{lll}\n country & new & rate\\\\\n <chr> & <int> & <chr>\\\\\n\\hline\n\t Afghanistan & 1999 & 745/19987071     \\\\\n\t Afghanistan & 2000 & 2666/20595360    \\\\\n\t Brazil      & 1999 & 37737/172006362  \\\\\n\t Brazil      & 2000 & 80488/174504898  \\\\\n\t China       & 1999 & 212258/1272915272\\\\\n\t China       & 2000 & 213766/1280428583\\\\\n\\end{tabular}\n",
            "text/markdown": "\nA tibble: 6 × 3\n\n| country &lt;chr&gt; | new &lt;int&gt; | rate &lt;chr&gt; |\n|---|---|---|\n| Afghanistan | 1999 | 745/19987071      |\n| Afghanistan | 2000 | 2666/20595360     |\n| Brazil      | 1999 | 37737/172006362   |\n| Brazil      | 2000 | 80488/174504898   |\n| China       | 1999 | 212258/1272915272 |\n| China       | 2000 | 213766/1280428583 |\n\n",
            "text/html": [
              "<table class=\"dataframe\">\n",
              "<caption>A tibble: 6 × 3</caption>\n",
              "<thead>\n",
              "\t<tr><th scope=col>country</th><th scope=col>new</th><th scope=col>rate</th></tr>\n",
              "\t<tr><th scope=col>&lt;chr&gt;</th><th scope=col>&lt;int&gt;</th><th scope=col>&lt;chr&gt;</th></tr>\n",
              "</thead>\n",
              "<tbody>\n",
              "\t<tr><td>Afghanistan</td><td>1999</td><td>745/19987071     </td></tr>\n",
              "\t<tr><td>Afghanistan</td><td>2000</td><td>2666/20595360    </td></tr>\n",
              "\t<tr><td>Brazil     </td><td>1999</td><td>37737/172006362  </td></tr>\n",
              "\t<tr><td>Brazil     </td><td>2000</td><td>80488/174504898  </td></tr>\n",
              "\t<tr><td>China      </td><td>1999</td><td>212258/1272915272</td></tr>\n",
              "\t<tr><td>China      </td><td>2000</td><td>213766/1280428583</td></tr>\n",
              "</tbody>\n",
              "</table>\n"
            ]
          },
          "metadata": {}
        }
      ]
    },
    {
      "cell_type": "code",
      "source": [
        "#Example Data \n",
        "stocks <- tibble(\n",
        "  year=c(2015,2015,2015,2015,2016,2016,2016),\n",
        "  qtr=c(1,2,3,4,2,3,4),\n",
        "  yield=c(1.88,0.59,0.35,NA,0.91,0.17,2.66)\n",
        ")"
      ],
      "metadata": {
        "id": "EOajEWEhUu2V"
      },
      "execution_count": 16,
      "outputs": []
    },
    {
      "cell_type": "code",
      "source": [
        "stocks"
      ],
      "metadata": {
        "id": "9mmadrvyXp8z"
      },
      "execution_count": null,
      "outputs": []
    },
    {
      "cell_type": "code",
      "source": [
        "stocks %>%\n",
        "fill(yield,.direction = \"down\" )"
      ],
      "metadata": {
        "id": "Tpn77u_dXrkC"
      },
      "execution_count": null,
      "outputs": []
    },
    {
      "cell_type": "code",
      "source": [
        "stocks %>%\n",
        "complete(year,qtr) "
      ],
      "metadata": {
        "colab": {
          "base_uri": "https://localhost:8080/",
          "height": 349
        },
        "id": "Ga1V9m0WY1qh",
        "outputId": "6262d673-5384-456b-9ba5-2690540ee866"
      },
      "execution_count": 21,
      "outputs": [
        {
          "output_type": "display_data",
          "data": {
            "text/plain": [
              "  year qtr yield\n",
              "1 2015 1   1.88 \n",
              "2 2015 2   0.59 \n",
              "3 2015 3   0.35 \n",
              "4 2015 4     NA \n",
              "5 2016 1     NA \n",
              "6 2016 2   0.91 \n",
              "7 2016 3   0.17 \n",
              "8 2016 4   2.66 "
            ],
            "text/latex": "A tibble: 8 × 3\n\\begin{tabular}{lll}\n year & qtr & yield\\\\\n <dbl> & <dbl> & <dbl>\\\\\n\\hline\n\t 2015 & 1 & 1.88\\\\\n\t 2015 & 2 & 0.59\\\\\n\t 2015 & 3 & 0.35\\\\\n\t 2015 & 4 &   NA\\\\\n\t 2016 & 1 &   NA\\\\\n\t 2016 & 2 & 0.91\\\\\n\t 2016 & 3 & 0.17\\\\\n\t 2016 & 4 & 2.66\\\\\n\\end{tabular}\n",
            "text/markdown": "\nA tibble: 8 × 3\n\n| year &lt;dbl&gt; | qtr &lt;dbl&gt; | yield &lt;dbl&gt; |\n|---|---|---|\n| 2015 | 1 | 1.88 |\n| 2015 | 2 | 0.59 |\n| 2015 | 3 | 0.35 |\n| 2015 | 4 |   NA |\n| 2016 | 1 |   NA |\n| 2016 | 2 | 0.91 |\n| 2016 | 3 | 0.17 |\n| 2016 | 4 | 2.66 |\n\n",
            "text/html": [
              "<table class=\"dataframe\">\n",
              "<caption>A tibble: 8 × 3</caption>\n",
              "<thead>\n",
              "\t<tr><th scope=col>year</th><th scope=col>qtr</th><th scope=col>yield</th></tr>\n",
              "\t<tr><th scope=col>&lt;dbl&gt;</th><th scope=col>&lt;dbl&gt;</th><th scope=col>&lt;dbl&gt;</th></tr>\n",
              "</thead>\n",
              "<tbody>\n",
              "\t<tr><td>2015</td><td>1</td><td>1.88</td></tr>\n",
              "\t<tr><td>2015</td><td>2</td><td>0.59</td></tr>\n",
              "\t<tr><td>2015</td><td>3</td><td>0.35</td></tr>\n",
              "\t<tr><td>2015</td><td>4</td><td>  NA</td></tr>\n",
              "\t<tr><td>2016</td><td>1</td><td>  NA</td></tr>\n",
              "\t<tr><td>2016</td><td>2</td><td>0.91</td></tr>\n",
              "\t<tr><td>2016</td><td>3</td><td>0.17</td></tr>\n",
              "\t<tr><td>2016</td><td>4</td><td>2.66</td></tr>\n",
              "</tbody>\n",
              "</table>\n"
            ]
          },
          "metadata": {}
        }
      ]
    },
    {
      "cell_type": "code",
      "source": [
        "stocks %>%\n",
        "complete(year,qtr) %>%\n",
        "fill(yield,.direction = \"down\")"
      ],
      "metadata": {
        "colab": {
          "base_uri": "https://localhost:8080/",
          "height": 349
        },
        "id": "xwCad1QOZVaU",
        "outputId": "5e9099de-0557-4b2a-95ca-7a61482d12e8"
      },
      "execution_count": 22,
      "outputs": [
        {
          "output_type": "display_data",
          "data": {
            "text/plain": [
              "  year qtr yield\n",
              "1 2015 1   1.88 \n",
              "2 2015 2   0.59 \n",
              "3 2015 3   0.35 \n",
              "4 2015 4   0.35 \n",
              "5 2016 1   0.35 \n",
              "6 2016 2   0.91 \n",
              "7 2016 3   0.17 \n",
              "8 2016 4   2.66 "
            ],
            "text/latex": "A tibble: 8 × 3\n\\begin{tabular}{lll}\n year & qtr & yield\\\\\n <dbl> & <dbl> & <dbl>\\\\\n\\hline\n\t 2015 & 1 & 1.88\\\\\n\t 2015 & 2 & 0.59\\\\\n\t 2015 & 3 & 0.35\\\\\n\t 2015 & 4 & 0.35\\\\\n\t 2016 & 1 & 0.35\\\\\n\t 2016 & 2 & 0.91\\\\\n\t 2016 & 3 & 0.17\\\\\n\t 2016 & 4 & 2.66\\\\\n\\end{tabular}\n",
            "text/markdown": "\nA tibble: 8 × 3\n\n| year &lt;dbl&gt; | qtr &lt;dbl&gt; | yield &lt;dbl&gt; |\n|---|---|---|\n| 2015 | 1 | 1.88 |\n| 2015 | 2 | 0.59 |\n| 2015 | 3 | 0.35 |\n| 2015 | 4 | 0.35 |\n| 2016 | 1 | 0.35 |\n| 2016 | 2 | 0.91 |\n| 2016 | 3 | 0.17 |\n| 2016 | 4 | 2.66 |\n\n",
            "text/html": [
              "<table class=\"dataframe\">\n",
              "<caption>A tibble: 8 × 3</caption>\n",
              "<thead>\n",
              "\t<tr><th scope=col>year</th><th scope=col>qtr</th><th scope=col>yield</th></tr>\n",
              "\t<tr><th scope=col>&lt;dbl&gt;</th><th scope=col>&lt;dbl&gt;</th><th scope=col>&lt;dbl&gt;</th></tr>\n",
              "</thead>\n",
              "<tbody>\n",
              "\t<tr><td>2015</td><td>1</td><td>1.88</td></tr>\n",
              "\t<tr><td>2015</td><td>2</td><td>0.59</td></tr>\n",
              "\t<tr><td>2015</td><td>3</td><td>0.35</td></tr>\n",
              "\t<tr><td>2015</td><td>4</td><td>0.35</td></tr>\n",
              "\t<tr><td>2016</td><td>1</td><td>0.35</td></tr>\n",
              "\t<tr><td>2016</td><td>2</td><td>0.91</td></tr>\n",
              "\t<tr><td>2016</td><td>3</td><td>0.17</td></tr>\n",
              "\t<tr><td>2016</td><td>4</td><td>2.66</td></tr>\n",
              "</tbody>\n",
              "</table>\n"
            ]
          },
          "metadata": {}
        }
      ]
    },
    {
      "cell_type": "code",
      "source": [
        "# dplyr\n",
        "install.packages('nycflights13')\n",
        "library(nycflights13)"
      ],
      "metadata": {
        "colab": {
          "base_uri": "https://localhost:8080/"
        },
        "id": "5tB_rz2DZjvp",
        "outputId": "349598ca-480a-4e13-d6a4-226742021050"
      },
      "execution_count": 23,
      "outputs": [
        {
          "output_type": "stream",
          "name": "stderr",
          "text": [
            "Installing package into ‘/usr/local/lib/R/site-library’\n",
            "(as ‘lib’ is unspecified)\n",
            "\n"
          ]
        }
      ]
    },
    {
      "cell_type": "code",
      "source": [
        "flights = flights\n",
        "airlines<- airlines"
      ],
      "metadata": {
        "id": "hRi3WkGWbh30"
      },
      "execution_count": 25,
      "outputs": []
    },
    {
      "cell_type": "code",
      "source": [
        "colnames(flights)"
      ],
      "metadata": {
        "colab": {
          "base_uri": "https://localhost:8080/",
          "height": 52
        },
        "id": "fCbws0E7dV7B",
        "outputId": "9483b686-23d2-46f9-d563-cfea7e630a31"
      },
      "execution_count": 27,
      "outputs": [
        {
          "output_type": "display_data",
          "data": {
            "text/plain": [
              " [1] \"year\"           \"month\"          \"day\"            \"dep_time\"      \n",
              " [5] \"sched_dep_time\" \"dep_delay\"      \"arr_time\"       \"sched_arr_time\"\n",
              " [9] \"arr_delay\"      \"carrier\"        \"flight\"         \"tailnum\"       \n",
              "[13] \"origin\"         \"dest\"           \"air_time\"       \"distance\"      \n",
              "[17] \"hour\"           \"minute\"         \"time_hour\"     "
            ],
            "text/latex": "\\begin{enumerate*}\n\\item 'year'\n\\item 'month'\n\\item 'day'\n\\item 'dep\\_time'\n\\item 'sched\\_dep\\_time'\n\\item 'dep\\_delay'\n\\item 'arr\\_time'\n\\item 'sched\\_arr\\_time'\n\\item 'arr\\_delay'\n\\item 'carrier'\n\\item 'flight'\n\\item 'tailnum'\n\\item 'origin'\n\\item 'dest'\n\\item 'air\\_time'\n\\item 'distance'\n\\item 'hour'\n\\item 'minute'\n\\item 'time\\_hour'\n\\end{enumerate*}\n",
            "text/markdown": "1. 'year'\n2. 'month'\n3. 'day'\n4. 'dep_time'\n5. 'sched_dep_time'\n6. 'dep_delay'\n7. 'arr_time'\n8. 'sched_arr_time'\n9. 'arr_delay'\n10. 'carrier'\n11. 'flight'\n12. 'tailnum'\n13. 'origin'\n14. 'dest'\n15. 'air_time'\n16. 'distance'\n17. 'hour'\n18. 'minute'\n19. 'time_hour'\n\n\n",
            "text/html": [
              "<style>\n",
              ".list-inline {list-style: none; margin:0; padding: 0}\n",
              ".list-inline>li {display: inline-block}\n",
              ".list-inline>li:not(:last-child)::after {content: \"\\00b7\"; padding: 0 .5ex}\n",
              "</style>\n",
              "<ol class=list-inline><li>'year'</li><li>'month'</li><li>'day'</li><li>'dep_time'</li><li>'sched_dep_time'</li><li>'dep_delay'</li><li>'arr_time'</li><li>'sched_arr_time'</li><li>'arr_delay'</li><li>'carrier'</li><li>'flight'</li><li>'tailnum'</li><li>'origin'</li><li>'dest'</li><li>'air_time'</li><li>'distance'</li><li>'hour'</li><li>'minute'</li><li>'time_hour'</li></ol>\n"
            ]
          },
          "metadata": {}
        }
      ]
    },
    {
      "cell_type": "code",
      "source": [
        "flights %>%\n",
        "dplyr::filter(month==1|month==2,day==1)    # filtering the rows"
      ],
      "metadata": {
        "id": "zN4u_lfaboKF"
      },
      "execution_count": null,
      "outputs": []
    },
    {
      "cell_type": "code",
      "source": [
        "flightsFiltered = flights %>%\n",
        "dplyr::filter(month %in% c(11,12))  %>%   # month==11 | month==12\n",
        "dplyr::filter(dep_time >=700) %>%\n",
        "dplyr::filter(carrier!=\"UA\")\n"
      ],
      "metadata": {
        "id": "eER9jqS3clhg"
      },
      "execution_count": 29,
      "outputs": []
    },
    {
      "cell_type": "code",
      "source": [
        "#june july flights between 5-10 pm of UA \n",
        "flights %>%\n",
        "dplyr::filter(month %in% c(6,7))  %>%   # month==6 | month==7\n",
        "dplyr::filter(dep_time >=1700 & dep_time <= 2200) %>%\n",
        "dplyr::filter(carrier==\"UA\")\n"
      ],
      "metadata": {
        "id": "YQQdpCWBdwW7"
      },
      "execution_count": null,
      "outputs": []
    },
    {
      "cell_type": "code",
      "source": [
        "flightsArranged <- flightsFiltered %>%\n",
        "arrange(year,month,day,desc(dep_delay))"
      ],
      "metadata": {
        "id": "-4KsrTOzhElD"
      },
      "execution_count": 33,
      "outputs": []
    },
    {
      "cell_type": "code",
      "source": [
        "flightsSelected <- flightsArranged %>%\n",
        "dplyr::select(-(hour:time_hour)) %>%\n",
        "dplyr::select(-(sched_dep_time),-(sched_arr_time),-(tailnum)) %>%\n",
        "dplyr::rename(\"airtime\"=\"air_time\",\"destination\"=\"dest\")"
      ],
      "metadata": {
        "id": "4bAePl38hhem"
      },
      "execution_count": 38,
      "outputs": []
    },
    {
      "cell_type": "code",
      "source": [
        "flightsMutated <- flightsSelected %>%\n",
        "mutate(gain=dep_delay-arr_delay,\n",
        "        hours =airtime/60,\n",
        "        gain_per_hour=gain/hours)"
      ],
      "metadata": {
        "id": "PZ1SuL90iYHN"
      },
      "execution_count": 40,
      "outputs": []
    },
    {
      "cell_type": "code",
      "source": [
        "meanDelays <- flightsMutated %>%\n",
        "group_by(carrier) %>%\n",
        "dplyr::summarize(meanDelay=mean(dep_delay,na.rm = TRUE)) %>%\n",
        "arrange(desc(meanDelay))"
      ],
      "metadata": {
        "id": "OgaoHXKhkUih"
      },
      "execution_count": 45,
      "outputs": []
    },
    {
      "cell_type": "code",
      "source": [
        "carrierCounts <-flightsMutated %>%\n",
        "group_by(carrier) %>%\n",
        "dplyr::summarize(Count=n()) %>%   # n()     #COUNTROWS(table<name>)\n",
        "arrange(desc(Count))\n",
        "\n",
        "carrierCounts"
      ],
      "metadata": {
        "id": "fmo3WKcZnsAG"
      },
      "execution_count": null,
      "outputs": []
    },
    {
      "cell_type": "code",
      "source": [
        "meanDelays"
      ],
      "metadata": {
        "colab": {
          "base_uri": "https://localhost:8080/",
          "height": 569
        },
        "id": "u5p2GJPUo3sy",
        "outputId": "89990ede-70b0-4dde-bd91-4b015d9771b6"
      },
      "execution_count": 46,
      "outputs": [
        {
          "output_type": "display_data",
          "data": {
            "text/plain": [
              "   carrier meanDelay\n",
              "1  FL      21.541667\n",
              "2  WN      20.295775\n",
              "3  EV      19.753031\n",
              "4  9E      13.932293\n",
              "5  F9      13.338843\n",
              "6  AS      12.494845\n",
              "7  YV      11.760870\n",
              "8  B6      11.207818\n",
              "9  MQ       8.454451\n",
              "10 AA       8.246411\n",
              "11 DL       7.615321\n",
              "12 VX       6.942045\n",
              "13 US       3.841341\n",
              "14 OO       0.800000\n",
              "15 HA      -4.226415"
            ],
            "text/latex": "A tibble: 15 × 2\n\\begin{tabular}{ll}\n carrier & meanDelay\\\\\n <chr> & <dbl>\\\\\n\\hline\n\t FL & 21.541667\\\\\n\t WN & 20.295775\\\\\n\t EV & 19.753031\\\\\n\t 9E & 13.932293\\\\\n\t F9 & 13.338843\\\\\n\t AS & 12.494845\\\\\n\t YV & 11.760870\\\\\n\t B6 & 11.207818\\\\\n\t MQ &  8.454451\\\\\n\t AA &  8.246411\\\\\n\t DL &  7.615321\\\\\n\t VX &  6.942045\\\\\n\t US &  3.841341\\\\\n\t OO &  0.800000\\\\\n\t HA & -4.226415\\\\\n\\end{tabular}\n",
            "text/markdown": "\nA tibble: 15 × 2\n\n| carrier &lt;chr&gt; | meanDelay &lt;dbl&gt; |\n|---|---|\n| FL | 21.541667 |\n| WN | 20.295775 |\n| EV | 19.753031 |\n| 9E | 13.932293 |\n| F9 | 13.338843 |\n| AS | 12.494845 |\n| YV | 11.760870 |\n| B6 | 11.207818 |\n| MQ |  8.454451 |\n| AA |  8.246411 |\n| DL |  7.615321 |\n| VX |  6.942045 |\n| US |  3.841341 |\n| OO |  0.800000 |\n| HA | -4.226415 |\n\n",
            "text/html": [
              "<table class=\"dataframe\">\n",
              "<caption>A tibble: 15 × 2</caption>\n",
              "<thead>\n",
              "\t<tr><th scope=col>carrier</th><th scope=col>meanDelay</th></tr>\n",
              "\t<tr><th scope=col>&lt;chr&gt;</th><th scope=col>&lt;dbl&gt;</th></tr>\n",
              "</thead>\n",
              "<tbody>\n",
              "\t<tr><td>FL</td><td>21.541667</td></tr>\n",
              "\t<tr><td>WN</td><td>20.295775</td></tr>\n",
              "\t<tr><td>EV</td><td>19.753031</td></tr>\n",
              "\t<tr><td>9E</td><td>13.932293</td></tr>\n",
              "\t<tr><td>F9</td><td>13.338843</td></tr>\n",
              "\t<tr><td>AS</td><td>12.494845</td></tr>\n",
              "\t<tr><td>YV</td><td>11.760870</td></tr>\n",
              "\t<tr><td>B6</td><td>11.207818</td></tr>\n",
              "\t<tr><td>MQ</td><td> 8.454451</td></tr>\n",
              "\t<tr><td>AA</td><td> 8.246411</td></tr>\n",
              "\t<tr><td>DL</td><td> 7.615321</td></tr>\n",
              "\t<tr><td>VX</td><td> 6.942045</td></tr>\n",
              "\t<tr><td>US</td><td> 3.841341</td></tr>\n",
              "\t<tr><td>OO</td><td> 0.800000</td></tr>\n",
              "\t<tr><td>HA</td><td>-4.226415</td></tr>\n",
              "</tbody>\n",
              "</table>\n"
            ]
          },
          "metadata": {}
        }
      ]
    },
    {
      "cell_type": "code",
      "source": [
        "airlines"
      ],
      "metadata": {
        "id": "IyeX-g6TpXn6"
      },
      "execution_count": null,
      "outputs": []
    },
    {
      "cell_type": "code",
      "source": [
        "meanDelays %>%\n",
        "left_join(airlines,by=c(\"carrier\"=\"carrier\")) %>% # left_join of  'airline','meanDelays'\n",
        "dplyr::select(name,carrier,meanDelay)"
      ],
      "metadata": {
        "id": "V5jo76ckpQFv"
      },
      "execution_count": null,
      "outputs": []
    },
    {
      "cell_type": "code",
      "source": [
        "# which carrier has highest avg gain ?\n",
        "# "
      ],
      "metadata": {
        "id": "Kt3U5CsGqFAH"
      },
      "execution_count": null,
      "outputs": []
    }
  ]
}