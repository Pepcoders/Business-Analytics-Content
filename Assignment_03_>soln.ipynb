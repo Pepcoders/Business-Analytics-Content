{
  "nbformat": 4,
  "nbformat_minor": 0,
  "metadata": {
    "colab": {
      "name": "Assignment_03->soln.ipynb",
      "provenance": [],
      "include_colab_link": true
    },
    "kernelspec": {
      "name": "ir",
      "display_name": "R"
    },
    "language_info": {
      "name": "R"
    }
  },
  "cells": [
    {
      "cell_type": "markdown",
      "metadata": {
        "id": "view-in-github",
        "colab_type": "text"
      },
      "source": [
        "<a href=\"https://colab.research.google.com/github/Pepcoders/Business-Analytics-Content/blob/BA/Assignment_03_%3Esoln.ipynb\" target=\"_parent\"><img src=\"https://colab.research.google.com/assets/colab-badge.svg\" alt=\"Open In Colab\"/></a>"
      ]
    },
    {
      "cell_type": "markdown",
      "source": [
        "Devendra is a student in IIT bombay he have to print all numbers starting  from 10 and ending at 199. Can you print them for Devendra in just one line of code in R ?\n"
      ],
      "metadata": {
        "id": "aEtnpql9xKk2"
      }
    },
    {
      "cell_type": "code",
      "execution_count": null,
      "metadata": {
        "id": "Qh9lWv8JqDH-"
      },
      "outputs": [],
      "source": [
        "print(10:199)"
      ]
    },
    {
      "cell_type": "markdown",
      "source": [
        "Tokyo is your friend, She has given you a vector of marks={4,6,9,5,12,34,32,54,34,65,78,45,23,12,43,23) which they get in Professor's test. She wants you to find out the 2nd minimum marks in the class. "
      ],
      "metadata": {
        "id": "O68ojjQ8y4zr"
      }
    },
    {
      "cell_type": "code",
      "source": [
        "ar=c(4,6,9,5,12,34,32,54,34,65,78,45,23,12,43,23)\n",
        "ar=sort(ar)\n",
        "print(ar[2])"
      ],
      "metadata": {
        "colab": {
          "base_uri": "https://localhost:8080/"
        },
        "id": "MquOnC4pxBH9",
        "outputId": "381f22f4-41cd-4b7f-e4df-39cbffcc973c"
      },
      "execution_count": null,
      "outputs": [
        {
          "output_type": "stream",
          "name": "stdout",
          "text": [
            "[1] 5\n"
          ]
        }
      ]
    },
    {
      "cell_type": "markdown",
      "source": [
        "Diwakar sir has given you two vectors one vector containing number of customers and another vector containing the price of product they buy on respective indexes. You have to calculate total earning buy the shop.\n",
        "\n",
        "Customers= {2,3,4,2,4,1,21,3,6,8}\n",
        "\n",
        "Selling price ={23,21,54,20,12,11,73,24,12,7}"
      ],
      "metadata": {
        "id": "68uSFw4W4YXk"
      }
    },
    {
      "cell_type": "code",
      "source": [
        "c= c(2,3,4,2,4,1,21,3,6,8)\n",
        "\n",
        "s =c(23,21,54,20,12,11,73,24,12,7)\n",
        "p=s*c\n",
        "print(sum(p))"
      ],
      "metadata": {
        "colab": {
          "base_uri": "https://localhost:8080/"
        },
        "id": "R3hNEzmv3iCe",
        "outputId": "3bedb807-ff3a-4c16-b1aa-fa8054af59a6"
      },
      "execution_count": null,
      "outputs": [
        {
          "output_type": "stream",
          "name": "stdout",
          "text": [
            "[1] 2157\n"
          ]
        }
      ]
    },
    {
      "cell_type": "markdown",
      "source": [
        "Calculate the sum of all odd numbers between 13 to 1000 in single line of code"
      ],
      "metadata": {
        "id": "eRRYDJgc6mfY"
      }
    },
    {
      "cell_type": "code",
      "source": [
        "print(sum(seq(13,1000,2)))\n"
      ],
      "metadata": {
        "colab": {
          "base_uri": "https://localhost:8080/"
        },
        "id": "ZRH8mI8g5gCD",
        "outputId": "814091bd-5914-46ca-c027-c3ca4d2a1e82"
      },
      "execution_count": null,
      "outputs": [
        {
          "output_type": "stream",
          "name": "stdout",
          "text": [
            "[1] 249964\n"
          ]
        }
      ]
    },
    {
      "cell_type": "markdown",
      "source": [
        "You are given two vector with count of customers in Dec and jan.\n",
        "print a vector containing the number of decreased customers month due to lockdown.\n",
        "\n",
        "Dec= {12,14,23,24,26,30}\n",
        "\n",
        "jan={9,8,12,22,12,19}"
      ],
      "metadata": {
        "id": "L_zk7tG_75Ju"
      }
    },
    {
      "cell_type": "code",
      "source": [
        "a=c(12,14,23,24,26,30)\n",
        "b=c(9,8,12,22,12,19)\n",
        "print(a-b)"
      ],
      "metadata": {
        "colab": {
          "base_uri": "https://localhost:8080/"
        },
        "id": "mGbXoSJo7ua2",
        "outputId": "9ba5da6f-10e2-4d22-b361-197448552352"
      },
      "execution_count": null,
      "outputs": [
        {
          "output_type": "stream",
          "name": "stdout",
          "text": [
            "[1]  3  6 11  2 14 11\n"
          ]
        }
      ]
    },
    {
      "cell_type": "markdown",
      "source": [
        "If the vector earn={20,12,11,73,24,12} is the earning of specific shop from one customer. Calculate the total loss due to lockdown. Use the decreased customer vector from above question."
      ],
      "metadata": {
        "id": "XajsCO7t9Ldu"
      }
    },
    {
      "cell_type": "code",
      "source": [
        "a=c(3,  6, 11 , 2 ,14 ,11)\n",
        "b=c(20,12,11,73,24,12)\n",
        "print(sum(a*b))"
      ],
      "metadata": {
        "colab": {
          "base_uri": "https://localhost:8080/"
        },
        "id": "Cd0qaJaZ9AXf",
        "outputId": "c6fc9bde-4166-4891-d656-681d6a8dd3d0"
      },
      "execution_count": null,
      "outputs": [
        {
          "output_type": "stream",
          "name": "stdout",
          "text": [
            "[1] 867\n"
          ]
        }
      ]
    },
    {
      "cell_type": "markdown",
      "source": [
        "find out the sum of ratio of respective indexes in these two vectors ?\n",
        "\n",
        "first={2,3,4,5,6}\n",
        "\n",
        "second={4,5,6,7,8}"
      ],
      "metadata": {
        "id": "e8ZXn-a8O7AK"
      }
    },
    {
      "cell_type": "code",
      "source": [
        "a=c(2,3,4,5,6)\n",
        "b=c(4,5,6,7,8)\n",
        "print(a/b)"
      ],
      "metadata": {
        "colab": {
          "base_uri": "https://localhost:8080/"
        },
        "id": "pUoaW2N6EYn7",
        "outputId": "a5f3966b-f568-4394-ac96-174b828cc6fd"
      },
      "execution_count": null,
      "outputs": [
        {
          "output_type": "stream",
          "name": "stdout",
          "text": [
            "[1] 0.5000000 0.6000000 0.6666667 0.7142857 0.7500000\n"
          ]
        }
      ]
    },
    {
      "cell_type": "code",
      "source": [
        ""
      ],
      "metadata": {
        "id": "pB9ZTJ4ibf_L"
      },
      "execution_count": null,
      "outputs": []
    }
  ]
}