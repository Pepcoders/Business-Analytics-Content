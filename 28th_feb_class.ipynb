{
  "nbformat": 4,
  "nbformat_minor": 0,
  "metadata": {
    "colab": {
      "name": "28th feb class.ipynb",
      "provenance": [],
      "authorship_tag": "ABX9TyNANoe9AjAch/zXaM6BEBJU",
      "include_colab_link": true
    },
    "kernelspec": {
      "name": "ir",
      "display_name": "R"
    },
    "language_info": {
      "name": "R"
    }
  },
  "cells": [
    {
      "cell_type": "markdown",
      "metadata": {
        "id": "view-in-github",
        "colab_type": "text"
      },
      "source": [
        "<a href=\"https://colab.research.google.com/github/Pepcoders/Business-Analytics-Content/blob/BA/28th_feb_class.ipynb\" target=\"_parent\"><img src=\"https://colab.research.google.com/assets/colab-badge.svg\" alt=\"Open In Colab\"/></a>"
      ]
    },
    {
      "cell_type": "code",
      "execution_count": 3,
      "metadata": {
        "id": "aNSiuEqR7xyH"
      },
      "outputs": [],
      "source": [
        "#Creating a function to print square of a number\n",
        "\n",
        "myfunc <- function(a){\n",
        "  ans=a*a\n",
        "  print(ans)\n",
        "}\n",
        "\n",
        "\n",
        "\n",
        "\n",
        "#Background"
      ]
    },
    {
      "cell_type": "code",
      "source": [
        "num=as.integer(readline(\"insert a number\"))"
      ],
      "metadata": {
        "colab": {
          "base_uri": "https://localhost:8080/"
        },
        "id": "gyP4sXQgHaeZ",
        "outputId": "5949c5a6-155e-4b0f-b72f-163e064b2014"
      },
      "execution_count": 7,
      "outputs": [
        {
          "name": "stdout",
          "output_type": "stream",
          "text": [
            "insert a number25\n"
          ]
        }
      ]
    },
    {
      "cell_type": "code",
      "source": [
        "myfunc(num)"
      ],
      "metadata": {
        "colab": {
          "base_uri": "https://localhost:8080/"
        },
        "id": "sZYiShnRHyAp",
        "outputId": "728ee25f-8ee7-4f72-fb26-63a34d4d783e"
      },
      "execution_count": 8,
      "outputs": [
        {
          "output_type": "stream",
          "name": "stdout",
          "text": [
            "[1] 625\n"
          ]
        }
      ]
    },
    {
      "cell_type": "code",
      "source": [
        "#Creating a function to print square of a number in sequence  \n",
        "\n",
        "sq_till_n <- function(num){                  # function with arguments\n",
        "\n",
        "for(i in 1:num){\n",
        "  b<-i*i\n",
        "  print(b)\n",
        "}\n",
        "\n",
        "}"
      ],
      "metadata": {
        "id": "V5ak4auvJaw2"
      },
      "execution_count": 9,
      "outputs": []
    },
    {
      "cell_type": "code",
      "source": [
        "sq_till_n(8)"
      ],
      "metadata": {
        "colab": {
          "base_uri": "https://localhost:8080/"
        },
        "id": "1o3bH-RXLbpu",
        "outputId": "d320fc32-54d4-467b-e718-042b059392f6"
      },
      "execution_count": 11,
      "outputs": [
        {
          "output_type": "stream",
          "name": "stdout",
          "text": [
            "[1] 1\n",
            "[1] 4\n",
            "[1] 9\n",
            "[1] 16\n",
            "[1] 25\n",
            "[1] 36\n",
            "[1] 49\n",
            "[1] 64\n"
          ]
        }
      ]
    },
    {
      "cell_type": "code",
      "source": [
        "#function to print square uptill 5     \n",
        "sq_upto5 <- function() {          #function without arguments\n",
        "  for(i in 1:5){\n",
        "    print(i*i)\n",
        "  }\n",
        "}"
      ],
      "metadata": {
        "id": "GOvJAlxsLeVF"
      },
      "execution_count": 12,
      "outputs": []
    },
    {
      "cell_type": "code",
      "source": [
        "sq_upto5()"
      ],
      "metadata": {
        "colab": {
          "base_uri": "https://localhost:8080/"
        },
        "id": "0RuyH_aSL9WE",
        "outputId": "b6ea97d8-bc16-4509-c215-b0818de91109"
      },
      "execution_count": 13,
      "outputs": [
        {
          "output_type": "stream",
          "name": "stdout",
          "text": [
            "[1] 1\n",
            "[1] 4\n",
            "[1] 9\n",
            "[1] 16\n",
            "[1] 25\n"
          ]
        }
      ]
    },
    {
      "cell_type": "code",
      "source": [
        "sq_upto5()"
      ],
      "metadata": {
        "colab": {
          "base_uri": "https://localhost:8080/"
        },
        "id": "hHZOM6BSL_sn",
        "outputId": "eb9d4ae0-c597-4c8e-d21b-21c40cd1ecab"
      },
      "execution_count": 14,
      "outputs": [
        {
          "output_type": "stream",
          "name": "stdout",
          "text": [
            "[1] 1\n",
            "[1] 4\n",
            "[1] 9\n",
            "[1] 16\n",
            "[1] 25\n"
          ]
        }
      ]
    },
    {
      "cell_type": "code",
      "source": [
        "# Creating a function with multiple arguments \n",
        "fun <- function(a,b,c){\n",
        "\n",
        "result<- a*b + c\n",
        "return (result)\n",
        "\n",
        "}"
      ],
      "metadata": {
        "id": "nBntmrrHMBWG"
      },
      "execution_count": 15,
      "outputs": []
    },
    {
      "cell_type": "code",
      "source": [
        "ans= fun(1,4,5)"
      ],
      "metadata": {
        "id": "HfuePz0hM6Qm"
      },
      "execution_count": 16,
      "outputs": []
    },
    {
      "cell_type": "code",
      "source": [
        "print(ans)"
      ],
      "metadata": {
        "colab": {
          "base_uri": "https://localhost:8080/"
        },
        "id": "QmjgjWb1M_TO",
        "outputId": "a50be53e-ff29-4444-dada-12913b9670b1"
      },
      "execution_count": 17,
      "outputs": [
        {
          "output_type": "stream",
          "name": "stdout",
          "text": [
            "[1] 9\n"
          ]
        }
      ]
    },
    {
      "cell_type": "code",
      "source": [
        "iris"
      ],
      "metadata": {
        "id": "JbErBos0NAk9"
      },
      "execution_count": null,
      "outputs": []
    },
    {
      "cell_type": "code",
      "source": [
        "x<-1:10; y=x*x\n",
        "plot(x, y, type=\"b\")\n",
        "plot(x, y, type=\"h\")\n",
        "plot(x,y, type=\"s\")"
      ],
      "metadata": {
        "id": "_7DBwGXkYMYs"
      },
      "execution_count": null,
      "outputs": []
    },
    {
      "cell_type": "code",
      "source": [
        "mtcars"
      ],
      "metadata": {
        "id": "HqSJEkZbVjCB"
      },
      "execution_count": null,
      "outputs": []
    },
    {
      "cell_type": "code",
      "source": [
        "x <- mtcars$wt\n",
        "y <- mtcars$mpg\n",
        "# Plot with main and axis titles\n",
        "# Change point shape (pch = 19) and remove frame.\n",
        "plot(x, y, main = \"Mileage vs weight\",\n",
        "     xlab = \"Weight\", ylab = \"Mileage\",\n",
        "     pch = 19, frame = FALSE)"
      ],
      "metadata": {
        "id": "ucoeDddFVrSb"
      },
      "execution_count": null,
      "outputs": []
    },
    {
      "cell_type": "code",
      "source": [
        "# Add regression line\n",
        "plot(x, y, main = \"Mileage vs weight\",\n",
        "     xlab = \"Weight\", ylab = \"Mileage\",\n",
        "     pch = 19, frame = FALSE)\n",
        "abline(lm(y ~ x, data = mtcars), col = \"red\")"
      ],
      "metadata": {
        "id": "HXAsQqnIWRx9"
      },
      "execution_count": null,
      "outputs": []
    },
    {
      "cell_type": "code",
      "source": [
        "# Compute the density data\n",
        "dens <- density(mtcars$mpg)\n",
        "# plot density\n",
        "plot(dens, frame = FALSE, col = \"black\", \n",
        "    main = \"Density plot of mpg\") \n",
        "    polygon(dens, col = \"hotpink\")\n",
        "    "
      ],
      "metadata": {
        "id": "caJH_LayW8Wg"
      },
      "execution_count": null,
      "outputs": []
    },
    {
      "cell_type": "code",
      "source": [
        "x=mtcars$mpg\n",
        "hist(x, col = \"steelblue\", frame = FALSE)"
      ],
      "metadata": {
        "id": "U9U_TrCTY_u_"
      },
      "execution_count": null,
      "outputs": []
    },
    {
      "cell_type": "code",
      "source": [
        "#Pie charts\n",
        "df <- data.frame(\n",
        "  group=c(\"male\",\"female\",\"child\"),\n",
        "  value=c(25,25,50)\n",
        ")\n",
        "df"
      ],
      "metadata": {
        "colab": {
          "base_uri": "https://localhost:8080/",
          "height": 210
        },
        "id": "NDkf8fPWaFCU",
        "outputId": "480328d9-ae5e-4b14-c71c-069dec5cf439"
      },
      "execution_count": 49,
      "outputs": [
        {
          "output_type": "display_data",
          "data": {
            "text/plain": [
              "  group  value\n",
              "1 male   25   \n",
              "2 female 25   \n",
              "3 child  50   "
            ],
            "text/latex": "A data.frame: 3 × 2\n\\begin{tabular}{ll}\n group & value\\\\\n <chr> & <dbl>\\\\\n\\hline\n\t male   & 25\\\\\n\t female & 25\\\\\n\t child  & 50\\\\\n\\end{tabular}\n",
            "text/markdown": "\nA data.frame: 3 × 2\n\n| group &lt;chr&gt; | value &lt;dbl&gt; |\n|---|---|\n| male   | 25 |\n| female | 25 |\n| child  | 50 |\n\n",
            "text/html": [
              "<table class=\"dataframe\">\n",
              "<caption>A data.frame: 3 × 2</caption>\n",
              "<thead>\n",
              "\t<tr><th scope=col>group</th><th scope=col>value</th></tr>\n",
              "\t<tr><th scope=col>&lt;chr&gt;</th><th scope=col>&lt;dbl&gt;</th></tr>\n",
              "</thead>\n",
              "<tbody>\n",
              "\t<tr><td>male  </td><td>25</td></tr>\n",
              "\t<tr><td>female</td><td>25</td></tr>\n",
              "\t<tr><td>child </td><td>50</td></tr>\n",
              "</tbody>\n",
              "</table>\n"
            ]
          },
          "metadata": {}
        }
      ]
    },
    {
      "cell_type": "code",
      "source": [
        "pie(df$value, labels = df$group, radius = 1)"
      ],
      "metadata": {
        "colab": {
          "base_uri": "https://localhost:8080/",
          "height": 437
        },
        "id": "rHhzEq3BaVEO",
        "outputId": "9e25b228-89a7-4323-dc25-41f477e43039"
      },
      "execution_count": 50,
      "outputs": [
        {
          "output_type": "display_data",
          "data": {
            "image/png": "[encoded data removed]",
            "text/plain": [
              "plot without title"
            ]
          },
          "metadata": {
            "image/png": {
              "width": 420,
              "height": 420
            }
          }
        }
      ]
    }
  ]
}