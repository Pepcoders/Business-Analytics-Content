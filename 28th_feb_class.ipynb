{
  "nbformat": 4,
  "nbformat_minor": 0,
  "metadata": {
    "colab": {
      "name": "28th feb class.ipynb",
      "provenance": [],
      "authorship_tag": "ABX9TyOZOAovLBLQZW9S0Of7+cmz",
      "include_colab_link": true
    },
    "kernelspec": {
      "name": "ir",
      "display_name": "R"
    },
    "language_info": {
      "name": "R"
    }
  },
  "cells": [
    {
      "cell_type": "markdown",
      "metadata": {
        "id": "view-in-github",
        "colab_type": "text"
      },
      "source": [
        "<a href=\"https://colab.research.google.com/github/Pepcoders/Business-Analytics-Content/blob/BA/28th_feb_class.ipynb\" target=\"_parent\"><img src=\"https://colab.research.google.com/assets/colab-badge.svg\" alt=\"Open In Colab\"/></a>"
      ]
    },
    {
      "cell_type": "code",
      "execution_count": 3,
      "metadata": {
        "id": "aNSiuEqR7xyH"
      },
      "outputs": [],
      "source": [
        "#Creating a function to print square of a number\n",
        "\n",
        "myfunc <- function(a){\n",
        "  ans=a*a\n",
        "  print(ans)\n",
        "}\n",
        "\n",
        "\n",
        "\n",
        "\n",
        "#Background"
      ]
    },
    {
      "cell_type": "code",
      "source": [
        "num=as.integer(readline(\"insert a number\"))"
      ],
      "metadata": {
        "colab": {
          "base_uri": "https://localhost:8080/"
        },
        "id": "gyP4sXQgHaeZ",
        "outputId": "5949c5a6-155e-4b0f-b72f-163e064b2014"
      },
      "execution_count": 7,
      "outputs": [
        {
          "name": "stdout",
          "output_type": "stream",
          "text": [
            "insert a number25\n"
          ]
        }
      ]
    },
    {
      "cell_type": "code",
      "source": [
        "myfunc(num)"
      ],
      "metadata": {
        "colab": {
          "base_uri": "https://localhost:8080/"
        },
        "id": "sZYiShnRHyAp",
        "outputId": "728ee25f-8ee7-4f72-fb26-63a34d4d783e"
      },
      "execution_count": 8,
      "outputs": [
        {
          "output_type": "stream",
          "name": "stdout",
          "text": [
            "[1] 625\n"
          ]
        }
      ]
    },
    {
      "cell_type": "code",
      "source": [
        "#Creating a function to print square of a number in sequence  \n",
        "\n",
        "sq_till_n <- function(num){                  # function with arguments\n",
        "\n",
        "for(i in 1:num){\n",
        "  b<-i*i\n",
        "  print(b)\n",
        "}\n",
        "\n",
        "}"
      ],
      "metadata": {
        "id": "V5ak4auvJaw2"
      },
      "execution_count": 9,
      "outputs": []
    },
    {
      "cell_type": "code",
      "source": [
        "sq_till_n(8)"
      ],
      "metadata": {
        "colab": {
          "base_uri": "https://localhost:8080/"
        },
        "id": "1o3bH-RXLbpu",
        "outputId": "d320fc32-54d4-467b-e718-042b059392f6"
      },
      "execution_count": 11,
      "outputs": [
        {
          "output_type": "stream",
          "name": "stdout",
          "text": [
            "[1] 1\n",
            "[1] 4\n",
            "[1] 9\n",
            "[1] 16\n",
            "[1] 25\n",
            "[1] 36\n",
            "[1] 49\n",
            "[1] 64\n"
          ]
        }
      ]
    },
    {
      "cell_type": "code",
      "source": [
        "#function to print square uptill 5     \n",
        "sq_upto5 <- function() {          #function without arguments\n",
        "  for(i in 1:5){\n",
        "    print(i*i)\n",
        "  }\n",
        "}"
      ],
      "metadata": {
        "id": "GOvJAlxsLeVF"
      },
      "execution_count": 12,
      "outputs": []
    },
    {
      "cell_type": "code",
      "source": [
        "sq_upto5()"
      ],
      "metadata": {
        "colab": {
          "base_uri": "https://localhost:8080/"
        },
        "id": "0RuyH_aSL9WE",
        "outputId": "b6ea97d8-bc16-4509-c215-b0818de91109"
      },
      "execution_count": 13,
      "outputs": [
        {
          "output_type": "stream",
          "name": "stdout",
          "text": [
            "[1] 1\n",
            "[1] 4\n",
            "[1] 9\n",
            "[1] 16\n",
            "[1] 25\n"
          ]
        }
      ]
    },
    {
      "cell_type": "code",
      "source": [
        "sq_upto5()"
      ],
      "metadata": {
        "colab": {
          "base_uri": "https://localhost:8080/"
        },
        "id": "hHZOM6BSL_sn",
        "outputId": "eb9d4ae0-c597-4c8e-d21b-21c40cd1ecab"
      },
      "execution_count": 14,
      "outputs": [
        {
          "output_type": "stream",
          "name": "stdout",
          "text": [
            "[1] 1\n",
            "[1] 4\n",
            "[1] 9\n",
            "[1] 16\n",
            "[1] 25\n"
          ]
        }
      ]
    },
    {
      "cell_type": "code",
      "source": [
        "# Creating a function with multiple arguments \n",
        "fun <- function(a,b,c){\n",
        "\n",
        "result<- a*b + c\n",
        "return (result)\n",
        "\n",
        "}"
      ],
      "metadata": {
        "id": "nBntmrrHMBWG"
      },
      "execution_count": 15,
      "outputs": []
    },
    {
      "cell_type": "code",
      "source": [
        "ans= fun(1,4,5)"
      ],
      "metadata": {
        "id": "HfuePz0hM6Qm"
      },
      "execution_count": 16,
      "outputs": []
    },
    {
      "cell_type": "code",
      "source": [
        "print(ans)"
      ],
      "metadata": {
        "colab": {
          "base_uri": "https://localhost:8080/"
        },
        "id": "QmjgjWb1M_TO",
        "outputId": "a50be53e-ff29-4444-dada-12913b9670b1"
      },
      "execution_count": 17,
      "outputs": [
        {
          "output_type": "stream",
          "name": "stdout",
          "text": [
            "[1] 9\n"
          ]
        }
      ]
    },
    {
      "cell_type": "code",
      "source": [
        "iris"
      ],
      "metadata": {
        "id": "JbErBos0NAk9"
      },
      "execution_count": null,
      "outputs": []
    },
    {
      "cell_type": "code",
      "source": [
        "mtcars"
      ],
      "metadata": {
        "id": "HqSJEkZbVjCB"
      },
      "execution_count": null,
      "outputs": []
    },
    {
      "cell_type": "code",
      "source": [
        "x <- mtcars$wt\n",
        "y <- mtcars$mpg\n",
        "# Plot with main and axis titles\n",
        "# Change point shape (pch = 19) and remove frame.\n",
        "plot(x, y, main = \"Mileage vs weight\",\n",
        "     xlab = \"Weight\", ylab = \"Mileage\",\n",
        "     pch = 19, frame = FALSE)"
      ],
      "metadata": {
        "colab": {
          "base_uri": "https://localhost:8080/",
          "height": 437
        },
        "id": "ucoeDddFVrSb",
        "outputId": "a53c5788-80ac-4bc6-9b51-45200241c823"
      },
      "execution_count": 35,
      "outputs": [
        {
          "output_type": "display_data",
          "data": {
            "image/png": "[encoded data removed]",
            "text/plain": [
              "Plot with title “Mileage vs weight”"
            ]
          },
          "metadata": {
            "image/png": {
              "width": 420,
              "height": 420
            }
          }
        }
      ]
    },
    {
      "cell_type": "code",
      "source": [
        "# Add regression line\n",
        "plot(x, y, main = \"Mileage vs weight\",\n",
        "     xlab = \"Weight\", ylab = \"Mileage\",\n",
        "     pch = 19, frame = FALSE)\n",
        "abline(lm(y ~ x, data = mtcars), col = \"red\")"
      ],
      "metadata": {
        "colab": {
          "base_uri": "https://localhost:8080/",
          "height": 437
        },
        "id": "HXAsQqnIWRx9",
        "outputId": "bbac9c41-85d6-4944-bcef-d8334da5327c"
      },
      "execution_count": 39,
      "outputs": [
        {
          "output_type": "display_data",
          "data": {
            "image/png": "[encoded data removed]",
            "text/plain": [
              "Plot with title “Mileage vs weight”"
            ]
          },
          "metadata": {
            "image/png": {
              "width": 420,
              "height": 420
            }
          }
        }
      ]
    },
    {
      "cell_type": "code",
      "source": [
        ""
      ],
      "metadata": {
        "id": "caJH_LayW8Wg"
      },
      "execution_count": null,
      "outputs": []
    }
  ]
}