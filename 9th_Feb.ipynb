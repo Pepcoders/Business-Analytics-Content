{
  "nbformat": 4,
  "nbformat_minor": 0,
  "metadata": {
    "colab": {
      "name": "9th Feb.ipynb",
      "provenance": [],
      "authorship_tag": "ABX9TyObBG3infocoVYii+2E1aNg",
      "include_colab_link": true
    },
    "kernelspec": {
      "name": "ir",
      "display_name": "R"
    },
    "language_info": {
      "name": "R"
    }
  },
  "cells": [
    {
      "cell_type": "markdown",
      "metadata": {
        "id": "view-in-github",
        "colab_type": "text"
      },
      "source": [
        "<a href=\"https://colab.research.google.com/github/Pepcoders/Business-Analytics-Content/blob/BA/9th_Feb.ipynb\" target=\"_parent\"><img src=\"https://colab.research.google.com/assets/colab-badge.svg\" alt=\"Open In Colab\"/></a>"
      ]
    },
    {
      "cell_type": "code",
      "execution_count": 8,
      "metadata": {
        "colab": {
          "base_uri": "https://localhost:8080/"
        },
        "id": "BMpIT_PjGGH5",
        "outputId": "204d9996-398c-4ceb-9235-1cddebab512b"
      },
      "outputs": [
        {
          "output_type": "stream",
          "name": "stdout",
          "text": [
            "Enter Marks22\n",
            "[1] \"D\"\n"
          ]
        }
      ],
      "source": [
        "marks=as.integer(readline(\"Enter Marks\"))\n",
        "if(marks >=0 && marks < 40 )\n",
        "{print(\"D\")}\n",
        "if(marks>=40  &&  marks < 60 )\n",
        "{print(\"C\")}\n",
        "if(marks>=60 && marks < 80)\n",
        "{print(\"B\")}\n",
        "if(marks>=80 && marks <=100)\n",
        "{print(\"A\")}"
      ]
    },
    {
      "cell_type": "code",
      "source": [
        "marks=as.integer(readline(\"Enter Marks 0-100 \"))\n",
        " if(marks>=80){\n",
        "   print(\"A\")\n",
        " } else if(marks>=60){\n",
        "   print(\"B\")\n",
        " } else if(marks>=40){\n",
        "   print(\"C\")\n",
        " } else {\n",
        "   print(\"D\")\n",
        " } "
      ],
      "metadata": {
        "id": "WO-2CAhxNmne"
      },
      "execution_count": null,
      "outputs": []
    },
    {
      "cell_type": "code",
      "source": [
        ""
      ],
      "metadata": {
        "id": "JD4qUwMDqHtW"
      },
      "execution_count": null,
      "outputs": []
    },
    {
      "cell_type": "code",
      "source": [
        "for(i in 1:100){\n",
        "  print(i)\n",
        "}"
      ],
      "metadata": {
        "id": "aChkkPYcqID0"
      },
      "execution_count": null,
      "outputs": []
    },
    {
      "cell_type": "code",
      "source": [
        "dice=c(1,2,3,4,5,6)  # dice= 1:6\n",
        "\n",
        "for(ele in dice){\n",
        "  ans=ele*2  \n",
        "  print(ans)\n",
        "}"
      ],
      "metadata": {
        "id": "aW8wDgVSqjm0"
      },
      "execution_count": null,
      "outputs": []
    },
    {
      "cell_type": "code",
      "source": [
        "#Print table of a number\n",
        "num=as.integer(readline(\"enter a number \"))\n",
        "for(i in 1:10){\n",
        "  prod=num*i\n",
        "  print(paste(num,\"X\",i,\"=\",prod))\n",
        "}"
      ],
      "metadata": {
        "colab": {
          "base_uri": "https://localhost:8080/"
        },
        "id": "6xZE9EIsrIXh",
        "outputId": "b31dab58-ba62-4dbe-d07f-220bbe6866c6"
      },
      "execution_count": 15,
      "outputs": [
        {
          "output_type": "stream",
          "name": "stdout",
          "text": [
            "enter a number 7\n",
            "[1] \"7 X 1 = 7\"\n",
            "[1] \"7 X 2 = 14\"\n",
            "[1] \"7 X 3 = 21\"\n",
            "[1] \"7 X 4 = 28\"\n",
            "[1] \"7 X 5 = 35\"\n",
            "[1] \"7 X 6 = 42\"\n",
            "[1] \"7 X 7 = 49\"\n",
            "[1] \"7 X 8 = 56\"\n",
            "[1] \"7 X 9 = 63\"\n",
            "[1] \"7 X 10 = 70\"\n"
          ]
        }
      ]
    },
    {
      "cell_type": "code",
      "source": [
        ""
      ],
      "metadata": {
        "id": "VwEyd_-QtUeI"
      },
      "execution_count": null,
      "outputs": []
    }
  ]
}