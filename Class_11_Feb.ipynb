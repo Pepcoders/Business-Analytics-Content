{
  "nbformat": 4,
  "nbformat_minor": 0,
  "metadata": {
    "colab": {
      "name": "Class_11-Feb.ipynb",
      "provenance": [],
      "authorship_tag": "ABX9TyOuJWOKuNbwu16zsgtnzFlz",
      "include_colab_link": true
    },
    "kernelspec": {
      "name": "ir",
      "display_name": "R"
    },
    "language_info": {
      "name": "R"
    }
  },
  "cells": [
    {
      "cell_type": "markdown",
      "metadata": {
        "id": "view-in-github",
        "colab_type": "text"
      },
      "source": [
        "<a href=\"https://colab.research.google.com/github/Pepcoders/Business-Analytics-Content/blob/BA/Class_11_Feb.ipynb\" target=\"_parent\"><img src=\"https://colab.research.google.com/assets/colab-badge.svg\" alt=\"Open In Colab\"/></a>"
      ]
    },
    {
      "cell_type": "code",
      "execution_count": null,
      "metadata": {
        "id": "gDj1_89IXItV"
      },
      "outputs": [],
      "source": [
        "melons=c(10,20,30,40)    #10+20+30+40"
      ]
    },
    {
      "cell_type": "code",
      "source": [
        "#0+10=10--------1\n",
        "#10+20=30-------2\n",
        "#30+30=60-------3\n",
        "#60+40=100------4\n",
        "sum(melons)"
      ],
      "metadata": {
        "colab": {
          "base_uri": "https://localhost:8080/",
          "height": 34
        },
        "id": "8PMBrVg6aJze",
        "outputId": "398914ae-ab8d-444d-83f7-c8f819a26e34"
      },
      "execution_count": null,
      "outputs": [
        {
          "output_type": "display_data",
          "data": {
            "text/plain": [
              "[1] 100"
            ],
            "text/latex": "100",
            "text/markdown": "100",
            "text/html": [
              "100"
            ]
          },
          "metadata": {}
        }
      ]
    },
    {
      "cell_type": "code",
      "source": [
        "#Sum of all elements\n",
        "melons=c(10,20,30,40,67)\n",
        "Sum=0\n",
        "for(ele in melons){\n",
        "Sum<- Sum + ele\n",
        "}\n",
        "print(Sum)\n"
      ],
      "metadata": {
        "id": "b-bs02bkcR46"
      },
      "execution_count": null,
      "outputs": []
    },
    {
      "cell_type": "code",
      "source": [
        "#Counting the elements using for loop\n",
        "melons=c(10,20,30,40,67,435,3,54)\n",
        "count=0\n",
        "for(ele in melons){\n",
        "count<- count+1\n",
        "}\n",
        "print(count)\n"
      ],
      "metadata": {
        "id": "YK_obFU7jTFq"
      },
      "execution_count": null,
      "outputs": []
    },
    {
      "cell_type": "code",
      "source": [
        "#Break statement\n",
        "fruits<-c(\"apple\",\"banana\",\"cherry\",\"Coconut\",\"mango\")\n",
        "\n",
        "for(x in fruits){\n",
        "\n",
        "print(x)\n",
        "\n",
        "if(x==\"cherry\"){\n",
        "  break\n",
        "}\n",
        "\n",
        "\n",
        "}\n",
        "print(\"Out of loop\")"
      ],
      "metadata": {
        "id": "xfbT1qajk_Ol"
      },
      "execution_count": null,
      "outputs": []
    },
    {
      "cell_type": "code",
      "source": [
        "#Next statement\n",
        "fruits<-c(\"apple\",\"banana\",\"cherry\",\"Coconut\",\"mango\")\n",
        "for(x in fruits){\n",
        "\n",
        "\n",
        "\n",
        "print(x) \n",
        "\n",
        "}\n",
        "print(\"Out of loop\")"
      ],
      "metadata": {
        "colab": {
          "base_uri": "https://localhost:8080/"
        },
        "id": "3afcstaZuciu",
        "outputId": "37d33bfb-5c48-46bb-e13d-4ddae6fc18f2"
      },
      "execution_count": null,
      "outputs": [
        {
          "output_type": "stream",
          "name": "stdout",
          "text": [
            "[1] \"apple\"\n",
            "[1] \"banana\"\n",
            "[1] \"Coconut\"\n",
            "[1] \"mango\"\n",
            "[1] \"Out of loop\"\n"
          ]
        }
      ]
    },
    {
      "cell_type": "markdown",
      "source": [
        "While loop"
      ],
      "metadata": {
        "id": "zDoFHKZH17qN"
      }
    },
    {
      "cell_type": "code",
      "source": [
        "i<-1\n",
        "\n",
        "while(i<=6){\n",
        "  print(i)\n",
        "  i=i+2\n",
        "}\n",
        "\n",
        "print(\"out of loop\")\n",
        "print(i)"
      ],
      "metadata": {
        "colab": {
          "base_uri": "https://localhost:8080/"
        },
        "id": "lDeu7vYy189P",
        "outputId": "ba6d1adf-1731-45da-8204-7e98ef03a4dd"
      },
      "execution_count": null,
      "outputs": [
        {
          "output_type": "stream",
          "name": "stdout",
          "text": [
            "[1] 1\n",
            "[1] 3\n",
            "[1] 5\n",
            "[1] \"out of loop\"\n",
            "[1] 7\n"
          ]
        }
      ]
    },
    {
      "cell_type": "code",
      "source": [
        "                                      #Create a variable with value 1\n",
        "begin <- 1\n",
        "\n",
        "                                            #Create the loop\n",
        "while (begin <= 10){\n",
        "print(paste('This is loop number',begin))\n",
        "                                              #add 1 to the variable begin after each loop\n",
        "begin <- begin+1                               #Updation\n",
        "\n",
        "}\n",
        "print(begin)"
      ],
      "metadata": {
        "id": "NSWv2uxz31gr"
      },
      "execution_count": null,
      "outputs": []
    },
    {
      "cell_type": "code",
      "source": [
        "#Break statement\n",
        "i<-1\n",
        "while(i<=6){\n",
        " \n",
        "  print(i)\n",
        " \n",
        " if(i==4){\n",
        "   break\n",
        " }\n",
        "   i=i+1\n",
        "}\n"
      ],
      "metadata": {
        "colab": {
          "base_uri": "https://localhost:8080/"
        },
        "id": "a8pWBYKG7HNo",
        "outputId": "895b3caa-a4ce-41c7-808c-572c900ee035"
      },
      "execution_count": null,
      "outputs": [
        {
          "output_type": "stream",
          "name": "stdout",
          "text": [
            "[1] 1\n",
            "[1] 2\n",
            "[1] 3\n",
            "[1] 4\n"
          ]
        }
      ]
    },
    {
      "cell_type": "code",
      "source": [
        "#Next statement\n",
        "i<-1\n",
        "while(i<=6){\n",
        "  \n",
        "  i=i+1\n",
        " if(i==4){\n",
        "   next\n",
        " }\n",
        "   print(i)\n",
        "}\n"
      ],
      "metadata": {
        "colab": {
          "base_uri": "https://localhost:8080/"
        },
        "id": "XlO8W9KM7X0K",
        "outputId": "a3e341c5-62db-4df6-d12b-e664691cb375"
      },
      "execution_count": null,
      "outputs": [
        {
          "output_type": "stream",
          "name": "stdout",
          "text": [
            "[1] 2\n",
            "[1] 3\n",
            "[1] 5\n",
            "[1] 6\n",
            "[1] 7\n"
          ]
        }
      ]
    },
    {
      "cell_type": "code",
      "source": [
        ""
      ],
      "metadata": {
        "id": "HJJeZLtq8frZ"
      },
      "execution_count": null,
      "outputs": []
    }
  ]
}