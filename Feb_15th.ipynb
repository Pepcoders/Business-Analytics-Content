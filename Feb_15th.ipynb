{
  "nbformat": 4,
  "nbformat_minor": 0,
  "metadata": {
    "colab": {
      "name": "Feb 15th.ipynb",
      "provenance": [],
      "authorship_tag": "ABX9TyMbusggwZ42Q+IBg6pfThue",
      "include_colab_link": true
    },
    "kernelspec": {
      "name": "ir",
      "display_name": "R"
    },
    "language_info": {
      "name": "R"
    }
  },
  "cells": [
    {
      "cell_type": "markdown",
      "metadata": {
        "id": "view-in-github",
        "colab_type": "text"
      },
      "source": [
        "<a href=\"https://colab.research.google.com/github/Pepcoders/Business-Analytics-Content/blob/BA/Feb_15th.ipynb\" target=\"_parent\"><img src=\"https://colab.research.google.com/assets/colab-badge.svg\" alt=\"Open In Colab\"/></a>"
      ]
    },
    {
      "cell_type": "code",
      "execution_count": null,
      "metadata": {
        "id": "Wg1sm-67_68G"
      },
      "outputs": [],
      "source": [
        "# Program to print all numbers divisible by 7 or 16 between  1-100\n",
        "i<-1\n",
        "while(i<=100){\n",
        "  if(i%%7==0){\n",
        "    print(paste(i,\"is divisible by 7\"))\n",
        "  }\n",
        "  if(i%%16==0){\n",
        "    print(paste(i,\"is divisible by 16\"))\n",
        "  }\n",
        "  i<-i+1\n",
        "}"
      ]
    },
    {
      "cell_type": "code",
      "source": [
        "#Program to print all the  numbers divisible by 2,3 and 5 together between 1-1000\n",
        "i<-1\n",
        "while(i<=1000){\n",
        "  if(i%%2==0 && i%%3==0 && i%%5==0){\n",
        "    print(paste(i,\"is div by 2,3,5\"))\n",
        "  }\n",
        "  i<-i+1\n",
        "}\n"
      ],
      "metadata": {
        "id": "OtYLZt5tCwpZ"
      },
      "execution_count": null,
      "outputs": []
    },
    {
      "cell_type": "code",
      "source": [
        "vec=1:1000\n",
        "for(i in vec){\n",
        "  if(i%%2==0 && i%%3==0 && i%%5==0){\n",
        "    print(paste(i,\"is div by 2,3,5\"))\n",
        "  }\n",
        "\n",
        "}"
      ],
      "metadata": {
        "id": "DTWUUZPOF093"
      },
      "execution_count": null,
      "outputs": []
    },
    {
      "cell_type": "code",
      "source": [
        "#Array \n",
        "arr=array(data=c(10,14,15,20,21,22,23,25),dim=c(2,2,2))"
      ],
      "metadata": {
        "id": "oGulc7CwRRjD"
      },
      "execution_count": 5,
      "outputs": []
    },
    {
      "cell_type": "code",
      "source": [
        "arr[1,2,1]"
      ],
      "metadata": {
        "id": "vnbfKzttReFJ"
      },
      "execution_count": null,
      "outputs": []
    },
    {
      "cell_type": "code",
      "source": [
        "arr[,,2]"
      ],
      "metadata": {
        "id": "mnbCfsaVRiPZ"
      },
      "execution_count": null,
      "outputs": []
    },
    {
      "cell_type": "code",
      "source": [
        "eg_matrix=matrix(data=1:4,nrow=10,ncol=4)"
      ],
      "metadata": {
        "id": "Fbcye9xzRrDa"
      },
      "execution_count": 22,
      "outputs": []
    },
    {
      "cell_type": "code",
      "source": [
        "eg_matrix"
      ],
      "metadata": {
        "id": "YyCcROOLR-ah"
      },
      "execution_count": null,
      "outputs": []
    },
    {
      "cell_type": "code",
      "source": [
        "eg_matrix2=array(data=1:4,dim=c(10,4))"
      ],
      "metadata": {
        "id": "SA3pT3SKR_8d"
      },
      "execution_count": 20,
      "outputs": []
    },
    {
      "cell_type": "code",
      "source": [
        "eg_matrix2"
      ],
      "metadata": {
        "id": "TkWWibJpTCJ8"
      },
      "execution_count": null,
      "outputs": []
    },
    {
      "cell_type": "code",
      "source": [
        "eg_matrix==eg_matrix2 #Element-wise operations"
      ],
      "metadata": {
        "id": "O0XyShXJTDgo"
      },
      "execution_count": null,
      "outputs": []
    },
    {
      "cell_type": "code",
      "source": [
        "dim(eg_matrix)"
      ],
      "metadata": {
        "id": "z82h1TMYTOp7"
      },
      "execution_count": null,
      "outputs": []
    },
    {
      "cell_type": "code",
      "source": [
        "nrow(eg_matrix)"
      ],
      "metadata": {
        "id": "Zspz6jf_Tl3N"
      },
      "execution_count": null,
      "outputs": []
    },
    {
      "cell_type": "code",
      "source": [
        "ncol(eg_matrix)"
      ],
      "metadata": {
        "id": "bTxfIqKHTtvy"
      },
      "execution_count": null,
      "outputs": []
    },
    {
      "cell_type": "code",
      "source": [
        "#Indexing and Modifying elements\n",
        "my_mat=array(1:8,c(4,4))"
      ],
      "metadata": {
        "id": "V5W9s9YpTwR4"
      },
      "execution_count": 38,
      "outputs": []
    },
    {
      "cell_type": "code",
      "source": [
        "my_mat"
      ],
      "metadata": {
        "id": "5zDoH3RkVt1z"
      },
      "execution_count": null,
      "outputs": []
    },
    {
      "cell_type": "code",
      "source": [
        "my_mat[2:4,2] "
      ],
      "metadata": {
        "id": "uqqX0sa3Vu_s"
      },
      "execution_count": null,
      "outputs": []
    },
    {
      "cell_type": "code",
      "source": [
        "my_mat[1,]"
      ],
      "metadata": {
        "id": "UBf-kShbVy3O"
      },
      "execution_count": null,
      "outputs": []
    },
    {
      "cell_type": "code",
      "source": [
        "my_mat[,1]"
      ],
      "metadata": {
        "id": "v71EvfkNW6Kr"
      },
      "execution_count": null,
      "outputs": []
    },
    {
      "cell_type": "code",
      "source": [
        "my_mat[,1]<-c(100,100,100,100)  #Rewrite the first column to have 100 in each value"
      ],
      "metadata": {
        "id": "kS2d_fenWDCS"
      },
      "execution_count": 41,
      "outputs": []
    },
    {
      "cell_type": "code",
      "source": [
        "my_mat"
      ],
      "metadata": {
        "id": "1SZO6BEQWrpV"
      },
      "execution_count": null,
      "outputs": []
    },
    {
      "cell_type": "code",
      "source": [
        "my_mat[1:2,]<-array(data=c(1000,1000,1000,1000,1000,1000,1000,1000),dim=c(2,4))"
      ],
      "metadata": {
        "id": "sv-x5NssWtUQ"
      },
      "execution_count": 44,
      "outputs": []
    },
    {
      "cell_type": "code",
      "source": [
        "my_mat"
      ],
      "metadata": {
        "id": "Ffvo1YtvYj4R"
      },
      "execution_count": null,
      "outputs": []
    },
    {
      "cell_type": "code",
      "source": [
        "#Combining two arrays/matrixes\n",
        "arr1=array(data=1:4,dim=c(2,2))\n",
        "arr2=array(data=10:14,dim=c(2,2))\n"
      ],
      "metadata": {
        "id": "JAzyWtsYYnhE"
      },
      "execution_count": 46,
      "outputs": []
    },
    {
      "cell_type": "code",
      "source": [
        "arr1"
      ],
      "metadata": {
        "id": "plcT9Ow9ZLJS"
      },
      "execution_count": null,
      "outputs": []
    },
    {
      "cell_type": "code",
      "source": [
        "arr2"
      ],
      "metadata": {
        "id": "W5cOJFD0ZND4"
      },
      "execution_count": null,
      "outputs": []
    },
    {
      "cell_type": "code",
      "source": [
        "rbind(arr1,arr2) # Rows are combined "
      ],
      "metadata": {
        "id": "6mDKBMZGZNlC"
      },
      "execution_count": null,
      "outputs": []
    },
    {
      "cell_type": "code",
      "source": [
        "cbind(arr1,arr2) # Columns are combined"
      ],
      "metadata": {
        "id": "3N-0Aw4lZR3I"
      },
      "execution_count": null,
      "outputs": []
    },
    {
      "cell_type": "code",
      "source": [
        "#Error in rbind\n",
        "arr1=array(data=1:4,dim=c(2,2))\n",
        "arr2=array(data=10:14,dim=c(2,3))\n"
      ],
      "metadata": {
        "id": "XkTchYEaZ0sh"
      },
      "execution_count": 54,
      "outputs": []
    },
    {
      "cell_type": "code",
      "source": [
        "rbind(arr1,arr2) # No. of columns should be same"
      ],
      "metadata": {
        "id": "wsghLGFkaK3S"
      },
      "execution_count": null,
      "outputs": []
    },
    {
      "cell_type": "code",
      "source": [
        "cbind(arr1,arr2) #No. of rows should be same"
      ],
      "metadata": {
        "id": "n1H-rHoFaM1y"
      },
      "execution_count": null,
      "outputs": []
    },
    {
      "cell_type": "code",
      "source": [
        "#error in cbind\n",
        "arr1=array(data=1:4,dim=c(2,2))\n",
        "arr2=array(data=10:14,dim=c(3,2))"
      ],
      "metadata": {
        "id": "RnpFsiNabtjk"
      },
      "execution_count": 60,
      "outputs": []
    },
    {
      "cell_type": "code",
      "source": [
        "cbind(arr1,arr2)"
      ],
      "metadata": {
        "id": "Q7uEqjYFb7Bo"
      },
      "execution_count": null,
      "outputs": []
    },
    {
      "cell_type": "code",
      "source": [
        "#Matrix Operations\n",
        "mat1<-matrix(1:4,nrow=2,ncol=2) # 2X2\n",
        "mat2<-matrix(200:205,nrow=2,ncol=3) #2X3\n"
      ],
      "metadata": {
        "id": "WD6AM8-Hb7gn"
      },
      "execution_count": 70,
      "outputs": []
    },
    {
      "cell_type": "code",
      "source": [
        "mat1*mat2 #Elementwise "
      ],
      "metadata": {
        "id": "yZEzCWwIcTA2"
      },
      "execution_count": null,
      "outputs": []
    },
    {
      "cell_type": "code",
      "source": [
        "mat1<-matrix(1:4,nrow=2,ncol=2) # 2X2\n",
        "mat2<-matrix(200:205,nrow=2,ncol=2) #2X2"
      ],
      "metadata": {
        "id": "fUk4GfdYcVPJ"
      },
      "execution_count": 65,
      "outputs": []
    },
    {
      "cell_type": "code",
      "source": [
        "mat1"
      ],
      "metadata": {
        "id": "KT1HLLdudOEd"
      },
      "execution_count": null,
      "outputs": []
    },
    {
      "cell_type": "code",
      "source": [
        "mat2"
      ],
      "metadata": {
        "id": "szO9FlJjdPPB"
      },
      "execution_count": null,
      "outputs": []
    },
    {
      "cell_type": "code",
      "source": [
        "mat1 + mat2 #Element wise added"
      ],
      "metadata": {
        "id": "73X1aSDWdGa3"
      },
      "execution_count": null,
      "outputs": []
    },
    {
      "cell_type": "code",
      "source": [
        "mat1*mat2 #Element wise multiplied "
      ],
      "metadata": {
        "id": "iJxPS4R9dH7N"
      },
      "execution_count": null,
      "outputs": []
    },
    {
      "cell_type": "code",
      "source": [
        "mat1 %*% mat2"
      ],
      "metadata": {
        "id": "7nZVWZ3Gdewx"
      },
      "execution_count": null,
      "outputs": []
    },
    {
      "cell_type": "code",
      "source": [
        ""
      ],
      "metadata": {
        "id": "yxAVsHaLd-5H"
      },
      "execution_count": null,
      "outputs": []
    }
  ]
}