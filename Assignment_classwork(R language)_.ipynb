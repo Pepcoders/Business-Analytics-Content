{
  "nbformat": 4,
  "nbformat_minor": 0,
  "metadata": {
    "colab": {
      "name": "Assignment R .ipynb",
      "provenance": [],
      "include_colab_link": true
    },
    "kernelspec": {
      "name": "ir",
      "display_name": "R"
    },
    "language_info": {
      "name": "R"
    }
  },
  "cells": [
    {
      "cell_type": "markdown",
      "metadata": {
        "id": "view-in-github",
        "colab_type": "text"
      },
      "source": [
        "<a href=\"https://colab.research.google.com/github/Pepcoders/Business-Analytics-Content/blob/BA/Assignment_classwork(R%20language)_.ipynb\" target=\"_parent\"><img src=\"https://colab.research.google.com/assets/colab-badge.svg\" alt=\"Open In Colab\"/></a>"
      ]
    },
    {
      "cell_type": "markdown",
      "source": [
        "Create a vector in R with random values ?"
      ],
      "metadata": {
        "id": "hev7q85A55ev"
      }
    },
    {
      "cell_type": "code",
      "source": [
        "vec= c(sample(1:10,size=10,replace=F))\n",
        "vec"
      ],
      "metadata": {
        "colab": {
          "base_uri": "https://localhost:8080/",
          "height": 35
        },
        "id": "RACTYG9f59Sk",
        "outputId": "785e9841-b244-47f4-cbea-9748057336eb"
      },
      "execution_count": null,
      "outputs": [
        {
          "output_type": "display_data",
          "data": {
            "text/plain": [
              " [1]  5  9 10  8  4  3  7  1  6  2"
            ],
            "text/latex": "\\begin{enumerate*}\n\\item 5\n\\item 9\n\\item 10\n\\item 8\n\\item 4\n\\item 3\n\\item 7\n\\item 1\n\\item 6\n\\item 2\n\\end{enumerate*}\n",
            "text/markdown": "1. 5\n2. 9\n3. 10\n4. 8\n5. 4\n6. 3\n7. 7\n8. 1\n9. 6\n10. 2\n\n\n",
            "text/html": [
              "<style>\n",
              ".list-inline {list-style: none; margin:0; padding: 0}\n",
              ".list-inline>li {display: inline-block}\n",
              ".list-inline>li:not(:last-child)::after {content: \"\\00b7\"; padding: 0 .5ex}\n",
              "</style>\n",
              "<ol class=list-inline><li>5</li><li>9</li><li>10</li><li>8</li><li>4</li><li>3</li><li>7</li><li>1</li><li>6</li><li>2</li></ol>\n"
            ]
          },
          "metadata": {}
        }
      ]
    },
    {
      "cell_type": "markdown",
      "source": [
        "Calculate sum, mean, product of vector ?"
      ],
      "metadata": {
        "id": "n8yGZ2bd5_ho"
      }
    },
    {
      "cell_type": "code",
      "source": [
        "sum(vec)"
      ],
      "metadata": {
        "colab": {
          "base_uri": "https://localhost:8080/",
          "height": 35
        },
        "id": "68uICGvw5_LC",
        "outputId": "0f3b565e-5982-41de-cabd-909a0cd2d86f"
      },
      "execution_count": null,
      "outputs": [
        {
          "output_type": "display_data",
          "data": {
            "text/plain": [
              "[1] 55"
            ],
            "text/latex": "55",
            "text/markdown": "55",
            "text/html": [
              "55"
            ]
          },
          "metadata": {}
        }
      ]
    },
    {
      "cell_type": "code",
      "source": [
        "mean(vec)"
      ],
      "metadata": {
        "colab": {
          "base_uri": "https://localhost:8080/",
          "height": 35
        },
        "id": "IYFTqvYp7RW6",
        "outputId": "6daad828-25d7-4c78-a030-d7e262c6a7e3"
      },
      "execution_count": null,
      "outputs": [
        {
          "output_type": "display_data",
          "data": {
            "text/plain": [
              "[1] 5.5"
            ],
            "text/latex": "5.5",
            "text/markdown": "5.5",
            "text/html": [
              "5.5"
            ]
          },
          "metadata": {}
        }
      ]
    },
    {
      "cell_type": "code",
      "source": [
        "prod(vec)"
      ],
      "metadata": {
        "colab": {
          "base_uri": "https://localhost:8080/",
          "height": 35
        },
        "id": "kcAvz7Ar7grF",
        "outputId": "81cb18f9-f61e-4a36-a6da-31b59f0f927e"
      },
      "execution_count": null,
      "outputs": [
        {
          "output_type": "display_data",
          "data": {
            "text/plain": [
              "[1] 3628800"
            ],
            "text/latex": "3628800",
            "text/markdown": "3628800",
            "text/html": [
              "3628800"
            ]
          },
          "metadata": {}
        }
      ]
    },
    {
      "cell_type": "markdown",
      "source": [
        "  printing structure\n",
        "  \n",
        "1  \n",
        "1  2  \n",
        "1  2  3  \n",
        "1  2  3  4  \n",
        "1  2  3  4  5  \n",
        "1  2  3  4  5  6  \n",
        "1  2  3  4  5  6  7  \n",
        "1  2  3  4  5  6  7  8  \n",
        "1  2  3  4  5  6  7  8  9  \n",
        "1  2  3  4  5  6  7  8  9  10"
      ],
      "metadata": {
        "id": "tGSRecQ4A0eM"
      }
    },
    {
      "cell_type": "code",
      "source": [
        "\n",
        "x= readline()\n",
        "n=as.integer(x)\n",
        "for(val in 1:n){\n",
        "  for(p in 1:val)\n",
        "      cat(p,\" \")\n",
        "    cat(\"\\n\")  \n",
        "}"
      ],
      "metadata": {
        "colab": {
          "base_uri": "https://localhost:8080/"
        },
        "id": "IS1CLHS7JdlW",
        "outputId": "fa637d75-fa09-4dad-9c4f-4b9a8025e933"
      },
      "execution_count": null,
      "outputs": [
        {
          "output_type": "stream",
          "name": "stdout",
          "text": [
            "7\n",
            "1  \n",
            "1  2  \n",
            "1  2  3  \n",
            "1  2  3  4  \n",
            "1  2  3  4  5  \n",
            "1  2  3  4  5  6  \n",
            "1  2  3  4  5  6  7  \n"
          ]
        }
      ]
    },
    {
      "cell_type": "code",
      "source": [
        "x= readline()\n",
        "typeof(x)"
      ],
      "metadata": {
        "colab": {
          "base_uri": "https://localhost:8080/",
          "height": 52
        },
        "id": "lFHtugRFAz_a",
        "outputId": "f5c157c3-1850-4942-a3aa-78186053ffa8"
      },
      "execution_count": null,
      "outputs": [
        {
          "name": "stdout",
          "output_type": "stream",
          "text": [
            "1\n"
          ]
        },
        {
          "output_type": "display_data",
          "data": {
            "text/plain": [
              "[1] \"character\""
            ],
            "text/latex": "'character'",
            "text/markdown": "'character'",
            "text/html": [
              "'character'"
            ]
          },
          "metadata": {}
        }
      ]
    },
    {
      "cell_type": "markdown",
      "source": [
        "Find the Nth heighest value in vector ?"
      ],
      "metadata": {
        "id": "JxW--7l08Cys"
      }
    },
    {
      "cell_type": "code",
      "source": [
        "x= readline()\n",
        "x=as.integer(x)\n",
        "\n",
        "sort(vec,TRUE)[x]"
      ],
      "metadata": {
        "colab": {
          "base_uri": "https://localhost:8080/",
          "height": 52
        },
        "id": "um-5TCI37isA",
        "outputId": "25f546c6-a24b-43d4-8a2e-e414f5a8d7ef"
      },
      "execution_count": null,
      "outputs": [
        {
          "name": "stdout",
          "output_type": "stream",
          "text": [
            "3\n"
          ]
        },
        {
          "output_type": "display_data",
          "data": {
            "text/plain": [
              "[1] 8"
            ],
            "text/latex": "8",
            "text/markdown": "8",
            "text/html": [
              "8"
            ]
          },
          "metadata": {}
        }
      ]
    },
    {
      "cell_type": "markdown",
      "source": [
        "Convert matix into a single List ?"
      ],
      "metadata": {
        "id": "Kzs0Xp9k-Opm"
      }
    },
    {
      "cell_type": "code",
      "source": [
        "mat = matrix(1:4,nrow=2,ncol=2)\n",
        "typeof(mat)"
      ],
      "metadata": {
        "id": "SXg80pFv-NxQ",
        "colab": {
          "base_uri": "https://localhost:8080/",
          "height": 35
        },
        "outputId": "55e41788-a297-4c40-bda9-6f9a39426cc7"
      },
      "execution_count": null,
      "outputs": [
        {
          "output_type": "display_data",
          "data": {
            "text/plain": [
              "[1] \"integer\""
            ],
            "text/latex": "'integer'",
            "text/markdown": "'integer'",
            "text/html": [
              "'integer'"
            ]
          },
          "metadata": {}
        }
      ]
    },
    {
      "cell_type": "code",
      "source": [
        "lst=as.list(mat)\n",
        "# lst=unlist(lst)\n",
        "lst"
      ],
      "metadata": {
        "colab": {
          "base_uri": "https://localhost:8080/",
          "height": 115
        },
        "id": "vaxz2HPl8Tmg",
        "outputId": "b6cee48f-6f3d-4f4b-9648-30f006f0c6e7"
      },
      "execution_count": null,
      "outputs": [
        {
          "output_type": "display_data",
          "data": {
            "text/plain": [
              "[[1]]\n",
              "[1] 1\n",
              "\n",
              "[[2]]\n",
              "[1] 2\n",
              "\n",
              "[[3]]\n",
              "[1] 3\n",
              "\n",
              "[[4]]\n",
              "[1] 4\n"
            ],
            "text/latex": "\\begin{enumerate}\n\\item 1\n\\item 2\n\\item 3\n\\item 4\n\\end{enumerate}\n",
            "text/markdown": "1. 1\n2. 2\n3. 3\n4. 4\n\n\n",
            "text/html": [
              "<ol>\n",
              "\t<li>1</li>\n",
              "\t<li>2</li>\n",
              "\t<li>3</li>\n",
              "\t<li>4</li>\n",
              "</ol>\n"
            ]
          },
          "metadata": {}
        }
      ]
    },
    {
      "cell_type": "markdown",
      "source": [
        "Creating a Dataframe"
      ],
      "metadata": {
        "id": "XcoLsa6yc8sx"
      }
    },
    {
      "cell_type": "code",
      "source": [
        "data_frame=as.data.frame(lst)\n",
        "print(data_frame)"
      ],
      "metadata": {
        "colab": {
          "base_uri": "https://localhost:8080/"
        },
        "id": "r0sAgGwM-grc",
        "outputId": "960908b4-5e4e-4c13-e1c4-20d584571c64"
      },
      "execution_count": null,
      "outputs": [
        {
          "output_type": "stream",
          "name": "stdout",
          "text": [
            "  X1L X2L X3L X4L\n",
            "1   1   2   3   4\n"
          ]
        }
      ]
    },
    {
      "cell_type": "markdown",
      "source": [
        "Adding Column Names"
      ],
      "metadata": {
        "id": "PNmUAZZfdGQb"
      }
    },
    {
      "cell_type": "code",
      "source": [
        "colnames(data_frame)=c(\"A\",\"B\",\"C\",\"D\")\n",
        "data_frame"
      ],
      "metadata": {
        "id": "Xv1tZZ39_G_L",
        "colab": {
          "base_uri": "https://localhost:8080/",
          "height": 129
        },
        "outputId": "ef491719-9a44-4945-96f0-208fa55e1897"
      },
      "execution_count": null,
      "outputs": [
        {
          "output_type": "display_data",
          "data": {
            "text/plain": [
              "  A B C D\n",
              "1 1 2 3 4"
            ],
            "text/latex": "A data.frame: 1 × 4\n\\begin{tabular}{llll}\n A & B & C & D\\\\\n <int> & <int> & <int> & <int>\\\\\n\\hline\n\t 1 & 2 & 3 & 4\\\\\n\\end{tabular}\n",
            "text/markdown": "\nA data.frame: 1 × 4\n\n| A &lt;int&gt; | B &lt;int&gt; | C &lt;int&gt; | D &lt;int&gt; |\n|---|---|---|---|\n| 1 | 2 | 3 | 4 |\n\n",
            "text/html": [
              "<table class=\"dataframe\">\n",
              "<caption>A data.frame: 1 × 4</caption>\n",
              "<thead>\n",
              "\t<tr><th scope=col>A</th><th scope=col>B</th><th scope=col>C</th><th scope=col>D</th></tr>\n",
              "\t<tr><th scope=col>&lt;int&gt;</th><th scope=col>&lt;int&gt;</th><th scope=col>&lt;int&gt;</th><th scope=col>&lt;int&gt;</th></tr>\n",
              "</thead>\n",
              "<tbody>\n",
              "\t<tr><td>1</td><td>2</td><td>3</td><td>4</td></tr>\n",
              "</tbody>\n",
              "</table>\n"
            ]
          },
          "metadata": {}
        }
      ]
    },
    {
      "cell_type": "code",
      "source": [
        "df1= data.frame(num=c(1:3),branch=c(\"IT\",\"CSE\",\"Electrical\"))\n",
        "df2=data.frame(num=c(4:6),branch=c(\"IT\",\"CSE\",\"Electrical\"))\n",
        "df1\n",
        "df2"
      ],
      "metadata": {
        "colab": {
          "base_uri": "https://localhost:8080/",
          "height": 367
        },
        "id": "hFj5XHmj_Sih",
        "outputId": "cd299e90-2d6f-4484-bcd5-dad97058e483"
      },
      "execution_count": null,
      "outputs": [
        {
          "output_type": "display_data",
          "data": {
            "text/plain": [
              "  num branch    \n",
              "1 1   IT        \n",
              "2 2   CSE       \n",
              "3 3   Electrical"
            ],
            "text/latex": "A data.frame: 3 × 2\n\\begin{tabular}{ll}\n num & branch\\\\\n <int> & <chr>\\\\\n\\hline\n\t 1 & IT        \\\\\n\t 2 & CSE       \\\\\n\t 3 & Electrical\\\\\n\\end{tabular}\n",
            "text/markdown": "\nA data.frame: 3 × 2\n\n| num &lt;int&gt; | branch &lt;chr&gt; |\n|---|---|\n| 1 | IT         |\n| 2 | CSE        |\n| 3 | Electrical |\n\n",
            "text/html": [
              "<table class=\"dataframe\">\n",
              "<caption>A data.frame: 3 × 2</caption>\n",
              "<thead>\n",
              "\t<tr><th scope=col>num</th><th scope=col>branch</th></tr>\n",
              "\t<tr><th scope=col>&lt;int&gt;</th><th scope=col>&lt;chr&gt;</th></tr>\n",
              "</thead>\n",
              "<tbody>\n",
              "\t<tr><td>1</td><td>IT        </td></tr>\n",
              "\t<tr><td>2</td><td>CSE       </td></tr>\n",
              "\t<tr><td>3</td><td>Electrical</td></tr>\n",
              "</tbody>\n",
              "</table>\n"
            ]
          },
          "metadata": {}
        },
        {
          "output_type": "display_data",
          "data": {
            "text/plain": [
              "  num branch    \n",
              "1 4   IT        \n",
              "2 5   CSE       \n",
              "3 6   Electrical"
            ],
            "text/latex": "A data.frame: 3 × 2\n\\begin{tabular}{ll}\n num & branch\\\\\n <int> & <chr>\\\\\n\\hline\n\t 4 & IT        \\\\\n\t 5 & CSE       \\\\\n\t 6 & Electrical\\\\\n\\end{tabular}\n",
            "text/markdown": "\nA data.frame: 3 × 2\n\n| num &lt;int&gt; | branch &lt;chr&gt; |\n|---|---|\n| 4 | IT         |\n| 5 | CSE        |\n| 6 | Electrical |\n\n",
            "text/html": [
              "<table class=\"dataframe\">\n",
              "<caption>A data.frame: 3 × 2</caption>\n",
              "<thead>\n",
              "\t<tr><th scope=col>num</th><th scope=col>branch</th></tr>\n",
              "\t<tr><th scope=col>&lt;int&gt;</th><th scope=col>&lt;chr&gt;</th></tr>\n",
              "</thead>\n",
              "<tbody>\n",
              "\t<tr><td>4</td><td>IT        </td></tr>\n",
              "\t<tr><td>5</td><td>CSE       </td></tr>\n",
              "\t<tr><td>6</td><td>Electrical</td></tr>\n",
              "</tbody>\n",
              "</table>\n"
            ]
          },
          "metadata": {}
        }
      ]
    },
    {
      "cell_type": "code",
      "source": [
        "df_r=rbind(df1,df2);\n",
        "df_r"
      ],
      "metadata": {
        "colab": {
          "base_uri": "https://localhost:8080/",
          "height": 286
        },
        "id": "oivt5abo_T7P",
        "outputId": "f9520047-f8fe-4170-a5cb-0da3cafb5795"
      },
      "execution_count": null,
      "outputs": [
        {
          "output_type": "display_data",
          "data": {
            "text/plain": [
              "  num branch    \n",
              "1 1   IT        \n",
              "2 2   CSE       \n",
              "3 3   Electrical\n",
              "4 4   IT        \n",
              "5 5   CSE       \n",
              "6 6   Electrical"
            ],
            "text/latex": "A data.frame: 6 × 2\n\\begin{tabular}{ll}\n num & branch\\\\\n <int> & <chr>\\\\\n\\hline\n\t 1 & IT        \\\\\n\t 2 & CSE       \\\\\n\t 3 & Electrical\\\\\n\t 4 & IT        \\\\\n\t 5 & CSE       \\\\\n\t 6 & Electrical\\\\\n\\end{tabular}\n",
            "text/markdown": "\nA data.frame: 6 × 2\n\n| num &lt;int&gt; | branch &lt;chr&gt; |\n|---|---|\n| 1 | IT         |\n| 2 | CSE        |\n| 3 | Electrical |\n| 4 | IT         |\n| 5 | CSE        |\n| 6 | Electrical |\n\n",
            "text/html": [
              "<table class=\"dataframe\">\n",
              "<caption>A data.frame: 6 × 2</caption>\n",
              "<thead>\n",
              "\t<tr><th scope=col>num</th><th scope=col>branch</th></tr>\n",
              "\t<tr><th scope=col>&lt;int&gt;</th><th scope=col>&lt;chr&gt;</th></tr>\n",
              "</thead>\n",
              "<tbody>\n",
              "\t<tr><td>1</td><td>IT        </td></tr>\n",
              "\t<tr><td>2</td><td>CSE       </td></tr>\n",
              "\t<tr><td>3</td><td>Electrical</td></tr>\n",
              "\t<tr><td>4</td><td>IT        </td></tr>\n",
              "\t<tr><td>5</td><td>CSE       </td></tr>\n",
              "\t<tr><td>6</td><td>Electrical</td></tr>\n",
              "</tbody>\n",
              "</table>\n"
            ]
          },
          "metadata": {}
        }
      ]
    },
    {
      "cell_type": "markdown",
      "source": [
        "Member Access within dataframe"
      ],
      "metadata": {
        "id": "sV6rG7DAdM7X"
      }
    },
    {
      "cell_type": "code",
      "source": [
        "df_r['branch']==\"IT\""
      ],
      "metadata": {
        "id": "kk76Kw9QAANI",
        "colab": {
          "base_uri": "https://localhost:8080/",
          "height": 289
        },
        "outputId": "bbd84165-44ee-495b-a510-b62095a4220c"
      },
      "execution_count": null,
      "outputs": [
        {
          "output_type": "display_data",
          "data": {
            "text/plain": [
              "     branch\n",
              "[1,]  TRUE \n",
              "[2,] FALSE \n",
              "[3,] FALSE \n",
              "[4,]  TRUE \n",
              "[5,] FALSE \n",
              "[6,] FALSE "
            ],
            "text/latex": "A matrix: 6 × 1 of type lgl\n\\begin{tabular}{l}\n branch\\\\\n\\hline\n\t  TRUE\\\\\n\t FALSE\\\\\n\t FALSE\\\\\n\t  TRUE\\\\\n\t FALSE\\\\\n\t FALSE\\\\\n\\end{tabular}\n",
            "text/markdown": "\nA matrix: 6 × 1 of type lgl\n\n| branch |\n|---|\n|  TRUE |\n| FALSE |\n| FALSE |\n|  TRUE |\n| FALSE |\n| FALSE |\n\n",
            "text/html": [
              "<table class=\"dataframe\">\n",
              "<caption>A matrix: 6 × 1 of type lgl</caption>\n",
              "<thead>\n",
              "\t<tr><th scope=col>branch</th></tr>\n",
              "</thead>\n",
              "<tbody>\n",
              "\t<tr><td> TRUE</td></tr>\n",
              "\t<tr><td>FALSE</td></tr>\n",
              "\t<tr><td>FALSE</td></tr>\n",
              "\t<tr><td> TRUE</td></tr>\n",
              "\t<tr><td>FALSE</td></tr>\n",
              "\t<tr><td>FALSE</td></tr>\n",
              "</tbody>\n",
              "</table>\n"
            ]
          },
          "metadata": {}
        }
      ]
    },
    {
      "cell_type": "code",
      "source": [
        ""
      ],
      "metadata": {
        "id": "NFLzKImPALT4"
      },
      "execution_count": null,
      "outputs": []
    },
    {
      "cell_type": "markdown",
      "source": [
        "Fancy Indexing"
      ],
      "metadata": {
        "id": "fE_SfysZdQTt"
      }
    },
    {
      "cell_type": "code",
      "source": [
        ""
      ],
      "metadata": {
        "id": "UHvEyaY2AMGB"
      },
      "execution_count": null,
      "outputs": []
    },
    {
      "cell_type": "markdown",
      "source": [
        "Reading Data "
      ],
      "metadata": {
        "id": "SQJ00qwGdUl1"
      }
    },
    {
      "cell_type": "code",
      "source": [
        "data=read.csv(\"covidData.csv\")\n",
        "data"
      ],
      "metadata": {
        "colab": {
          "base_uri": "https://localhost:8080/",
          "height": 1000
        },
        "id": "T0I2ShyhAdLx",
        "outputId": "cc59a3e1-e8fd-4c87-9a9f-4ce880cc4755"
      },
      "execution_count": null,
      "outputs": [
        {
          "output_type": "display_data",
          "data": {
            "text/plain": [
              "    X   Country.Region         Continent         Population TotalCases NewCases\n",
              "1    0  USA                    North America      331198130 5032179      NA    \n",
              "2    1  Brazil                 South America      212710692 2917562      NA    \n",
              "3    2  India                  Asia              1381344997 2025409      NA    \n",
              "4    3  Russia                 Europe             145940924  871894      NA    \n",
              "5    4  South Africa           Africa              59381566  538184      NA    \n",
              "6    5  Mexico                 North America      129066160  462690    6590    \n",
              "7    6  Peru                   South America       33016319  455409      NA    \n",
              "8    7  Chile                  South America       19132514  366671      NA    \n",
              "9    8  Colombia               South America       50936262  357710      NA    \n",
              "10   9  Spain                  Europe              46756648  354530      NA    \n",
              "11  10  Iran                   Asia                84097623  320117      NA    \n",
              "12  11  UK                     Europe              67922029  308134      NA    \n",
              "13  12  Saudi Arabia           Asia                34865919  284226      NA    \n",
              "14  13  Pakistan               Asia               221295851  281863      NA    \n",
              "15  14  Bangladesh             Asia               164851401  249651      NA    \n",
              "16  15  Italy                  Europe              60452568  249204      NA    \n",
              "17  16  Turkey                 Asia                84428331  237265      NA    \n",
              "18  17  Argentina              South America       45236884  228195      NA    \n",
              "19  18  Germany                Europe              83811260  215210      NA    \n",
              "20  19  France                 Europe              65288306  195633      NA    \n",
              "21  20  Iraq                   Asia                40306025  140603      NA    \n",
              "22  21  Philippines            Asia               109722719  119460      NA    \n",
              "23  22  Indonesia              Asia               273808365  118753      NA    \n",
              "24  23  Canada                 North America       37775022  118561      NA    \n",
              "25  24  Qatar                  Asia                 2807805  112092      NA    \n",
              "26  25  Kazakhstan             Asia                18798667   95942      NA    \n",
              "27  26  Egypt                  Africa             102516525   95006      NA    \n",
              "28  27  Ecuador                South America       17668824   90537      NA    \n",
              "29  28  Bolivia                South America       11688459   86423    1282    \n",
              "30  29  Sweden                 Europe              10105596   81967      NA    \n",
              "⋮   ⋮   ⋮                      ⋮                 ⋮          ⋮          ⋮       \n",
              "179 178 Sint Maarten           North America       42924    160        NA      \n",
              "180 179 Bermuda                North America       62254    157        NA      \n",
              "181 180 Brunei                 Asia               437893    141        NA      \n",
              "182 181 Barbados               North America      287411    133        NA      \n",
              "183 182 Turks and Caicos       North America       38768    129        NA      \n",
              "184 183 Seychelles             Africa              98408    126        NA      \n",
              "185 184 Monaco                 Europe              39270    125        NA      \n",
              "186 185 Bhutan                 Asia               772443    105        NA      \n",
              "187 186 Antigua and Barbuda    North America       98010     92        NA      \n",
              "188 187 Liechtenstein          Europe              38139     89        NA      \n",
              "189 188 Belize                 North America      398312     86        NA      \n",
              "190 189 French Polynesia       Australia/Oceania  281072     64        NA      \n",
              "191 190 St. Vincent Grenadines North America      110976     56        NA      \n",
              "192 191 Saint Martin           North America       38729     53        NA      \n",
              "193 192 Macao                  Asia               650193     46        NA      \n",
              "194 193 Curaçao                North America      164161     31        NA      \n",
              "195 194 Fiji                   Australia/Oceania  897095     27        NA      \n",
              "196 195 Saint Lucia            North America      183712     25        NA      \n",
              "197 196 Timor-Leste            Asia              1320812     25        NA      \n",
              "198 197 Grenada                North America      112576     24        NA      \n",
              "199 198 New Caledonia          Australia/Oceania  285769     22        NA      \n",
              "200 199 Laos                   Asia              7285750     20        NA      \n",
              "201 200 Dominica               North America       72004     18        NA      \n",
              "202 201 Saint Kitts and Nevis  North America       53237     17        NA      \n",
              "203 202 Greenland              North America       56780     14        NA      \n",
              "204 203 Montserrat             North America        4992     13        NA      \n",
              "205 204 Caribbean Netherlands  North America       26247     13        NA      \n",
              "206 205 Falkland Islands       South America        3489     13        NA      \n",
              "207 206 Vatican City           Europe                801     12        NA      \n",
              "208 207 Western Sahara         Africa             598682     10        NA      \n",
              "    TotalDeaths NewDeaths TotalRecovered NewRecovered ActiveCases\n",
              "1   162804       NA       2576668          NA         2292707    \n",
              "2    98644       NA       2047660          NA          771258    \n",
              "3    41638       NA       1377384          NA          606387    \n",
              "4    14606       NA        676357          NA          180931    \n",
              "5     9604       NA        387316          NA          141264    \n",
              "6    50517      819        308848        4140          103325    \n",
              "7    20424       NA        310337          NA          124648    \n",
              "8     9889       NA        340168          NA           16614    \n",
              "9    11939       NA        192355          NA          153416    \n",
              "10   28500       NA        164329          NA           19880    \n",
              "11   17976       NA        277463          NA           24678    \n",
              "12   46413       NA        261721          NA               0    \n",
              "13    3055       NA        247089          NA           34082    \n",
              "14    6035       NA        256058          NA           19770    \n",
              "15    3306       NA        143824          NA          102521    \n",
              "16   35187       NA        201323          NA           12694    \n",
              "17    5798       NA        220546          NA           10921    \n",
              "18    4251       NA         99852          NA          124092    \n",
              "19    9252       NA        196200          NA            9758    \n",
              "20   30312       NA         82460          NA           82861    \n",
              "21    5161       NA        101025          NA           34417    \n",
              "22    2150       NA         66837          NA           50473    \n",
              "23    5521       NA         75645          NA           37587    \n",
              "24    8966       NA        103106          NA            6489    \n",
              "25     178       NA        108831          NA            3083    \n",
              "26    1058       NA         68871          NA           26013    \n",
              "27    4951       NA         48898          NA           41157    \n",
              "28    5877       NA         71318          NA           13342    \n",
              "29    3465       80         27373         936           55585    \n",
              "30    5766       NA         76201          NA              NA    \n",
              "⋮   ⋮           ⋮         ⋮              ⋮            ⋮          \n",
              "179 16          NA         64            NA           80         \n",
              "180  9          NA        144            NA            4         \n",
              "181  3          NA        138            NA            0         \n",
              "182  7          NA        100            NA           26         \n",
              "183  2          NA         39            NA           88         \n",
              "184 NA          NA        124            NA            2         \n",
              "185  4          NA        105            NA           16         \n",
              "186 NA          NA         93            NA           12         \n",
              "187  3          NA         76            NA           13         \n",
              "188  1          NA         85            NA            3         \n",
              "189  2          NA         31            NA           53         \n",
              "190 NA          NA         62            NA            2         \n",
              "191 NA          NA         46            NA           10         \n",
              "192  3          NA         41            NA            9         \n",
              "193 NA          NA         46            NA            0         \n",
              "194  1          NA         28            NA            2         \n",
              "195  1          NA         18            NA            8         \n",
              "196 NA          NA         24            NA            1         \n",
              "197 NA          NA         24            NA            1         \n",
              "198 NA          NA         23            NA            1         \n",
              "199 NA          NA         22            NA            0         \n",
              "200 NA          NA         19            NA            1         \n",
              "201 NA          NA         18            NA            0         \n",
              "202 NA          NA         16            NA            1         \n",
              "203 NA          NA         14            NA            0         \n",
              "204  1          NA         10            NA            2         \n",
              "205 NA          NA          7            NA            6         \n",
              "206 NA          NA         13            NA            0         \n",
              "207 NA          NA         12            NA            0         \n",
              "208  1          NA          8            NA            1         \n",
              "    Serious.Critical TotalTests WHO.Region          \n",
              "1   18296            63139605   Americas            \n",
              "2    8318            13206188   Americas            \n",
              "3    8944            22149351   South-EastAsia      \n",
              "4    2300            29716907   Europe              \n",
              "5     539             3149807   Africa              \n",
              "6    3987             1056915   Americas            \n",
              "7    1426             2493429   Americas            \n",
              "8    1358             1760615   Americas            \n",
              "9    1493             1801835   Americas            \n",
              "10    617             7064329   Europe              \n",
              "11   4156             2612763   EasternMediterranean\n",
              "12     73            17515234   Europe              \n",
              "13   1915             3635705   EasternMediterranean\n",
              "14    809             2058872   EasternMediterranean\n",
              "15     NA             1225124   South-EastAsia      \n",
              "16     42             7099713   Europe              \n",
              "17    580             5081802   Europe              \n",
              "18   1150              794544   Americas            \n",
              "19    236             8586648   Europe              \n",
              "20    384             3992206   Europe              \n",
              "21    517             1092741   EasternMediterranean\n",
              "22    239             1669996   WesternPacific      \n",
              "23     NA             1633156   South-EastAsia      \n",
              "24   2263             4319172   Americas            \n",
              "25     77              511000   EasternMediterranean\n",
              "26    221             2163713   Europe              \n",
              "27     41              135000   EasternMediterranean\n",
              "28    378              258582   Americas            \n",
              "29     71              183583   Americas            \n",
              "30     38              863315   Europe              \n",
              "⋮   ⋮                ⋮          ⋮                   \n",
              "179  3                1115                          \n",
              "180 NA               26352      Americas            \n",
              "181 NA               41148                          \n",
              "182 NA               12233      Americas            \n",
              "183  3                1252                          \n",
              "184 NA                  NA      Africa              \n",
              "185  2               38209      Europe              \n",
              "186 NA               54589      South-EastAsia      \n",
              "187  1                1500      Americas            \n",
              "188 NA                 900      Europe              \n",
              "189  2                3679      Americas            \n",
              "190 NA                5849                          \n",
              "191 NA                2447                          \n",
              "192  1                1183                          \n",
              "193 NA                4071                          \n",
              "194 NA                1080                          \n",
              "195 NA                6693      WesternPacific      \n",
              "196 NA                3895      Americas            \n",
              "197 NA                4238      South-EastAsia      \n",
              "198 NA                6252      Americas            \n",
              "199 NA               11099                          \n",
              "200 NA               29374      WesternPacific      \n",
              "201 NA                1005      Americas            \n",
              "202 NA                1146      Americas            \n",
              "203 NA                5977      Europe              \n",
              "204 NA                  61                          \n",
              "205 NA                 424                          \n",
              "206 NA                1816                          \n",
              "207 NA                  NA      Europe              \n",
              "208 NA                  NA      Africa              "
            ],
            "text/latex": "A data.frame: 208 × 14\n\\begin{tabular}{llllllllllllll}\n X & Country.Region & Continent & Population & TotalCases & NewCases & TotalDeaths & NewDeaths & TotalRecovered & NewRecovered & ActiveCases & Serious.Critical & TotalTests & WHO.Region\\\\\n <int> & <chr> & <chr> & <int> & <int> & <dbl> & <dbl> & <dbl> & <dbl> & <dbl> & <dbl> & <dbl> & <dbl> & <chr>\\\\\n\\hline\n\t  0 & USA          & North America &  331198130 & 5032179 &   NA & 162804 &  NA & 2576668 &   NA & 2292707 & 18296 & 63139605 & Americas            \\\\\n\t  1 & Brazil       & South America &  212710692 & 2917562 &   NA &  98644 &  NA & 2047660 &   NA &  771258 &  8318 & 13206188 & Americas            \\\\\n\t  2 & India        & Asia          & 1381344997 & 2025409 &   NA &  41638 &  NA & 1377384 &   NA &  606387 &  8944 & 22149351 & South-EastAsia      \\\\\n\t  3 & Russia       & Europe        &  145940924 &  871894 &   NA &  14606 &  NA &  676357 &   NA &  180931 &  2300 & 29716907 & Europe              \\\\\n\t  4 & South Africa & Africa        &   59381566 &  538184 &   NA &   9604 &  NA &  387316 &   NA &  141264 &   539 &  3149807 & Africa              \\\\\n\t  5 & Mexico       & North America &  129066160 &  462690 & 6590 &  50517 & 819 &  308848 & 4140 &  103325 &  3987 &  1056915 & Americas            \\\\\n\t  6 & Peru         & South America &   33016319 &  455409 &   NA &  20424 &  NA &  310337 &   NA &  124648 &  1426 &  2493429 & Americas            \\\\\n\t  7 & Chile        & South America &   19132514 &  366671 &   NA &   9889 &  NA &  340168 &   NA &   16614 &  1358 &  1760615 & Americas            \\\\\n\t  8 & Colombia     & South America &   50936262 &  357710 &   NA &  11939 &  NA &  192355 &   NA &  153416 &  1493 &  1801835 & Americas            \\\\\n\t  9 & Spain        & Europe        &   46756648 &  354530 &   NA &  28500 &  NA &  164329 &   NA &   19880 &   617 &  7064329 & Europe              \\\\\n\t 10 & Iran         & Asia          &   84097623 &  320117 &   NA &  17976 &  NA &  277463 &   NA &   24678 &  4156 &  2612763 & EasternMediterranean\\\\\n\t 11 & UK           & Europe        &   67922029 &  308134 &   NA &  46413 &  NA &  261721 &   NA &       0 &    73 & 17515234 & Europe              \\\\\n\t 12 & Saudi Arabia & Asia          &   34865919 &  284226 &   NA &   3055 &  NA &  247089 &   NA &   34082 &  1915 &  3635705 & EasternMediterranean\\\\\n\t 13 & Pakistan     & Asia          &  221295851 &  281863 &   NA &   6035 &  NA &  256058 &   NA &   19770 &   809 &  2058872 & EasternMediterranean\\\\\n\t 14 & Bangladesh   & Asia          &  164851401 &  249651 &   NA &   3306 &  NA &  143824 &   NA &  102521 &    NA &  1225124 & South-EastAsia      \\\\\n\t 15 & Italy        & Europe        &   60452568 &  249204 &   NA &  35187 &  NA &  201323 &   NA &   12694 &    42 &  7099713 & Europe              \\\\\n\t 16 & Turkey       & Asia          &   84428331 &  237265 &   NA &   5798 &  NA &  220546 &   NA &   10921 &   580 &  5081802 & Europe              \\\\\n\t 17 & Argentina    & South America &   45236884 &  228195 &   NA &   4251 &  NA &   99852 &   NA &  124092 &  1150 &   794544 & Americas            \\\\\n\t 18 & Germany      & Europe        &   83811260 &  215210 &   NA &   9252 &  NA &  196200 &   NA &    9758 &   236 &  8586648 & Europe              \\\\\n\t 19 & France       & Europe        &   65288306 &  195633 &   NA &  30312 &  NA &   82460 &   NA &   82861 &   384 &  3992206 & Europe              \\\\\n\t 20 & Iraq         & Asia          &   40306025 &  140603 &   NA &   5161 &  NA &  101025 &   NA &   34417 &   517 &  1092741 & EasternMediterranean\\\\\n\t 21 & Philippines  & Asia          &  109722719 &  119460 &   NA &   2150 &  NA &   66837 &   NA &   50473 &   239 &  1669996 & WesternPacific      \\\\\n\t 22 & Indonesia    & Asia          &  273808365 &  118753 &   NA &   5521 &  NA &   75645 &   NA &   37587 &    NA &  1633156 & South-EastAsia      \\\\\n\t 23 & Canada       & North America &   37775022 &  118561 &   NA &   8966 &  NA &  103106 &   NA &    6489 &  2263 &  4319172 & Americas            \\\\\n\t 24 & Qatar        & Asia          &    2807805 &  112092 &   NA &    178 &  NA &  108831 &   NA &    3083 &    77 &   511000 & EasternMediterranean\\\\\n\t 25 & Kazakhstan   & Asia          &   18798667 &   95942 &   NA &   1058 &  NA &   68871 &   NA &   26013 &   221 &  2163713 & Europe              \\\\\n\t 26 & Egypt        & Africa        &  102516525 &   95006 &   NA &   4951 &  NA &   48898 &   NA &   41157 &    41 &   135000 & EasternMediterranean\\\\\n\t 27 & Ecuador      & South America &   17668824 &   90537 &   NA &   5877 &  NA &   71318 &   NA &   13342 &   378 &   258582 & Americas            \\\\\n\t 28 & Bolivia      & South America &   11688459 &   86423 & 1282 &   3465 &  80 &   27373 &  936 &   55585 &    71 &   183583 & Americas            \\\\\n\t 29 & Sweden       & Europe        &   10105596 &   81967 &   NA &   5766 &  NA &   76201 &   NA &      NA &    38 &   863315 & Europe              \\\\\n\t ⋮ & ⋮ & ⋮ & ⋮ & ⋮ & ⋮ & ⋮ & ⋮ & ⋮ & ⋮ & ⋮ & ⋮ & ⋮ & ⋮\\\\\n\t 178 & Sint Maarten           & North America     &   42924 & 160 & NA & 16 & NA &  64 & NA & 80 &  3 &  1115 &               \\\\\n\t 179 & Bermuda                & North America     &   62254 & 157 & NA &  9 & NA & 144 & NA &  4 & NA & 26352 & Americas      \\\\\n\t 180 & Brunei                 & Asia              &  437893 & 141 & NA &  3 & NA & 138 & NA &  0 & NA & 41148 &               \\\\\n\t 181 & Barbados               & North America     &  287411 & 133 & NA &  7 & NA & 100 & NA & 26 & NA & 12233 & Americas      \\\\\n\t 182 & Turks and Caicos       & North America     &   38768 & 129 & NA &  2 & NA &  39 & NA & 88 &  3 &  1252 &               \\\\\n\t 183 & Seychelles             & Africa            &   98408 & 126 & NA & NA & NA & 124 & NA &  2 & NA &    NA & Africa        \\\\\n\t 184 & Monaco                 & Europe            &   39270 & 125 & NA &  4 & NA & 105 & NA & 16 &  2 & 38209 & Europe        \\\\\n\t 185 & Bhutan                 & Asia              &  772443 & 105 & NA & NA & NA &  93 & NA & 12 & NA & 54589 & South-EastAsia\\\\\n\t 186 & Antigua and Barbuda    & North America     &   98010 &  92 & NA &  3 & NA &  76 & NA & 13 &  1 &  1500 & Americas      \\\\\n\t 187 & Liechtenstein          & Europe            &   38139 &  89 & NA &  1 & NA &  85 & NA &  3 & NA &   900 & Europe        \\\\\n\t 188 & Belize                 & North America     &  398312 &  86 & NA &  2 & NA &  31 & NA & 53 &  2 &  3679 & Americas      \\\\\n\t 189 & French Polynesia       & Australia/Oceania &  281072 &  64 & NA & NA & NA &  62 & NA &  2 & NA &  5849 &               \\\\\n\t 190 & St. Vincent Grenadines & North America     &  110976 &  56 & NA & NA & NA &  46 & NA & 10 & NA &  2447 &               \\\\\n\t 191 & Saint Martin           & North America     &   38729 &  53 & NA &  3 & NA &  41 & NA &  9 &  1 &  1183 &               \\\\\n\t 192 & Macao                  & Asia              &  650193 &  46 & NA & NA & NA &  46 & NA &  0 & NA &  4071 &               \\\\\n\t 193 & Curaçao                & North America     &  164161 &  31 & NA &  1 & NA &  28 & NA &  2 & NA &  1080 &               \\\\\n\t 194 & Fiji                   & Australia/Oceania &  897095 &  27 & NA &  1 & NA &  18 & NA &  8 & NA &  6693 & WesternPacific\\\\\n\t 195 & Saint Lucia            & North America     &  183712 &  25 & NA & NA & NA &  24 & NA &  1 & NA &  3895 & Americas      \\\\\n\t 196 & Timor-Leste            & Asia              & 1320812 &  25 & NA & NA & NA &  24 & NA &  1 & NA &  4238 & South-EastAsia\\\\\n\t 197 & Grenada                & North America     &  112576 &  24 & NA & NA & NA &  23 & NA &  1 & NA &  6252 & Americas      \\\\\n\t 198 & New Caledonia          & Australia/Oceania &  285769 &  22 & NA & NA & NA &  22 & NA &  0 & NA & 11099 &               \\\\\n\t 199 & Laos                   & Asia              & 7285750 &  20 & NA & NA & NA &  19 & NA &  1 & NA & 29374 & WesternPacific\\\\\n\t 200 & Dominica               & North America     &   72004 &  18 & NA & NA & NA &  18 & NA &  0 & NA &  1005 & Americas      \\\\\n\t 201 & Saint Kitts and Nevis  & North America     &   53237 &  17 & NA & NA & NA &  16 & NA &  1 & NA &  1146 & Americas      \\\\\n\t 202 & Greenland              & North America     &   56780 &  14 & NA & NA & NA &  14 & NA &  0 & NA &  5977 & Europe        \\\\\n\t 203 & Montserrat             & North America     &    4992 &  13 & NA &  1 & NA &  10 & NA &  2 & NA &    61 &               \\\\\n\t 204 & Caribbean Netherlands  & North America     &   26247 &  13 & NA & NA & NA &   7 & NA &  6 & NA &   424 &               \\\\\n\t 205 & Falkland Islands       & South America     &    3489 &  13 & NA & NA & NA &  13 & NA &  0 & NA &  1816 &               \\\\\n\t 206 & Vatican City           & Europe            &     801 &  12 & NA & NA & NA &  12 & NA &  0 & NA &    NA & Europe        \\\\\n\t 207 & Western Sahara         & Africa            &  598682 &  10 & NA &  1 & NA &   8 & NA &  1 & NA &    NA & Africa        \\\\\n\\end{tabular}\n",
            "text/markdown": "\nA data.frame: 208 × 14\n\n| X &lt;int&gt; | Country.Region &lt;chr&gt; | Continent &lt;chr&gt; | Population &lt;int&gt; | TotalCases &lt;int&gt; | NewCases &lt;dbl&gt; | TotalDeaths &lt;dbl&gt; | NewDeaths &lt;dbl&gt; | TotalRecovered &lt;dbl&gt; | NewRecovered &lt;dbl&gt; | ActiveCases &lt;dbl&gt; | Serious.Critical &lt;dbl&gt; | TotalTests &lt;dbl&gt; | WHO.Region &lt;chr&gt; |\n|---|---|---|---|---|---|---|---|---|---|---|---|---|---|\n|  0 | USA          | North America |  331198130 | 5032179 |   NA | 162804 |  NA | 2576668 |   NA | 2292707 | 18296 | 63139605 | Americas             |\n|  1 | Brazil       | South America |  212710692 | 2917562 |   NA |  98644 |  NA | 2047660 |   NA |  771258 |  8318 | 13206188 | Americas             |\n|  2 | India        | Asia          | 1381344997 | 2025409 |   NA |  41638 |  NA | 1377384 |   NA |  606387 |  8944 | 22149351 | South-EastAsia       |\n|  3 | Russia       | Europe        |  145940924 |  871894 |   NA |  14606 |  NA |  676357 |   NA |  180931 |  2300 | 29716907 | Europe               |\n|  4 | South Africa | Africa        |   59381566 |  538184 |   NA |   9604 |  NA |  387316 |   NA |  141264 |   539 |  3149807 | Africa               |\n|  5 | Mexico       | North America |  129066160 |  462690 | 6590 |  50517 | 819 |  308848 | 4140 |  103325 |  3987 |  1056915 | Americas             |\n|  6 | Peru         | South America |   33016319 |  455409 |   NA |  20424 |  NA |  310337 |   NA |  124648 |  1426 |  2493429 | Americas             |\n|  7 | Chile        | South America |   19132514 |  366671 |   NA |   9889 |  NA |  340168 |   NA |   16614 |  1358 |  1760615 | Americas             |\n|  8 | Colombia     | South America |   50936262 |  357710 |   NA |  11939 |  NA |  192355 |   NA |  153416 |  1493 |  1801835 | Americas             |\n|  9 | Spain        | Europe        |   46756648 |  354530 |   NA |  28500 |  NA |  164329 |   NA |   19880 |   617 |  7064329 | Europe               |\n| 10 | Iran         | Asia          |   84097623 |  320117 |   NA |  17976 |  NA |  277463 |   NA |   24678 |  4156 |  2612763 | EasternMediterranean |\n| 11 | UK           | Europe        |   67922029 |  308134 |   NA |  46413 |  NA |  261721 |   NA |       0 |    73 | 17515234 | Europe               |\n| 12 | Saudi Arabia | Asia          |   34865919 |  284226 |   NA |   3055 |  NA |  247089 |   NA |   34082 |  1915 |  3635705 | EasternMediterranean |\n| 13 | Pakistan     | Asia          |  221295851 |  281863 |   NA |   6035 |  NA |  256058 |   NA |   19770 |   809 |  2058872 | EasternMediterranean |\n| 14 | Bangladesh   | Asia          |  164851401 |  249651 |   NA |   3306 |  NA |  143824 |   NA |  102521 |    NA |  1225124 | South-EastAsia       |\n| 15 | Italy        | Europe        |   60452568 |  249204 |   NA |  35187 |  NA |  201323 |   NA |   12694 |    42 |  7099713 | Europe               |\n| 16 | Turkey       | Asia          |   84428331 |  237265 |   NA |   5798 |  NA |  220546 |   NA |   10921 |   580 |  5081802 | Europe               |\n| 17 | Argentina    | South America |   45236884 |  228195 |   NA |   4251 |  NA |   99852 |   NA |  124092 |  1150 |   794544 | Americas             |\n| 18 | Germany      | Europe        |   83811260 |  215210 |   NA |   9252 |  NA |  196200 |   NA |    9758 |   236 |  8586648 | Europe               |\n| 19 | France       | Europe        |   65288306 |  195633 |   NA |  30312 |  NA |   82460 |   NA |   82861 |   384 |  3992206 | Europe               |\n| 20 | Iraq         | Asia          |   40306025 |  140603 |   NA |   5161 |  NA |  101025 |   NA |   34417 |   517 |  1092741 | EasternMediterranean |\n| 21 | Philippines  | Asia          |  109722719 |  119460 |   NA |   2150 |  NA |   66837 |   NA |   50473 |   239 |  1669996 | WesternPacific       |\n| 22 | Indonesia    | Asia          |  273808365 |  118753 |   NA |   5521 |  NA |   75645 |   NA |   37587 |    NA |  1633156 | South-EastAsia       |\n| 23 | Canada       | North America |   37775022 |  118561 |   NA |   8966 |  NA |  103106 |   NA |    6489 |  2263 |  4319172 | Americas             |\n| 24 | Qatar        | Asia          |    2807805 |  112092 |   NA |    178 |  NA |  108831 |   NA |    3083 |    77 |   511000 | EasternMediterranean |\n| 25 | Kazakhstan   | Asia          |   18798667 |   95942 |   NA |   1058 |  NA |   68871 |   NA |   26013 |   221 |  2163713 | Europe               |\n| 26 | Egypt        | Africa        |  102516525 |   95006 |   NA |   4951 |  NA |   48898 |   NA |   41157 |    41 |   135000 | EasternMediterranean |\n| 27 | Ecuador      | South America |   17668824 |   90537 |   NA |   5877 |  NA |   71318 |   NA |   13342 |   378 |   258582 | Americas             |\n| 28 | Bolivia      | South America |   11688459 |   86423 | 1282 |   3465 |  80 |   27373 |  936 |   55585 |    71 |   183583 | Americas             |\n| 29 | Sweden       | Europe        |   10105596 |   81967 |   NA |   5766 |  NA |   76201 |   NA |      NA |    38 |   863315 | Europe               |\n| ⋮ | ⋮ | ⋮ | ⋮ | ⋮ | ⋮ | ⋮ | ⋮ | ⋮ | ⋮ | ⋮ | ⋮ | ⋮ | ⋮ |\n| 178 | Sint Maarten           | North America     |   42924 | 160 | NA | 16 | NA |  64 | NA | 80 |  3 |  1115 | <!----> |\n| 179 | Bermuda                | North America     |   62254 | 157 | NA |  9 | NA | 144 | NA |  4 | NA | 26352 | Americas       |\n| 180 | Brunei                 | Asia              |  437893 | 141 | NA |  3 | NA | 138 | NA |  0 | NA | 41148 | <!----> |\n| 181 | Barbados               | North America     |  287411 | 133 | NA |  7 | NA | 100 | NA | 26 | NA | 12233 | Americas       |\n| 182 | Turks and Caicos       | North America     |   38768 | 129 | NA |  2 | NA |  39 | NA | 88 |  3 |  1252 | <!----> |\n| 183 | Seychelles             | Africa            |   98408 | 126 | NA | NA | NA | 124 | NA |  2 | NA |    NA | Africa         |\n| 184 | Monaco                 | Europe            |   39270 | 125 | NA |  4 | NA | 105 | NA | 16 |  2 | 38209 | Europe         |\n| 185 | Bhutan                 | Asia              |  772443 | 105 | NA | NA | NA |  93 | NA | 12 | NA | 54589 | South-EastAsia |\n| 186 | Antigua and Barbuda    | North America     |   98010 |  92 | NA |  3 | NA |  76 | NA | 13 |  1 |  1500 | Americas       |\n| 187 | Liechtenstein          | Europe            |   38139 |  89 | NA |  1 | NA |  85 | NA |  3 | NA |   900 | Europe         |\n| 188 | Belize                 | North America     |  398312 |  86 | NA |  2 | NA |  31 | NA | 53 |  2 |  3679 | Americas       |\n| 189 | French Polynesia       | Australia/Oceania |  281072 |  64 | NA | NA | NA |  62 | NA |  2 | NA |  5849 | <!----> |\n| 190 | St. Vincent Grenadines | North America     |  110976 |  56 | NA | NA | NA |  46 | NA | 10 | NA |  2447 | <!----> |\n| 191 | Saint Martin           | North America     |   38729 |  53 | NA |  3 | NA |  41 | NA |  9 |  1 |  1183 | <!----> |\n| 192 | Macao                  | Asia              |  650193 |  46 | NA | NA | NA |  46 | NA |  0 | NA |  4071 | <!----> |\n| 193 | Curaçao                | North America     |  164161 |  31 | NA |  1 | NA |  28 | NA |  2 | NA |  1080 | <!----> |\n| 194 | Fiji                   | Australia/Oceania |  897095 |  27 | NA |  1 | NA |  18 | NA |  8 | NA |  6693 | WesternPacific |\n| 195 | Saint Lucia            | North America     |  183712 |  25 | NA | NA | NA |  24 | NA |  1 | NA |  3895 | Americas       |\n| 196 | Timor-Leste            | Asia              | 1320812 |  25 | NA | NA | NA |  24 | NA |  1 | NA |  4238 | South-EastAsia |\n| 197 | Grenada                | North America     |  112576 |  24 | NA | NA | NA |  23 | NA |  1 | NA |  6252 | Americas       |\n| 198 | New Caledonia          | Australia/Oceania |  285769 |  22 | NA | NA | NA |  22 | NA |  0 | NA | 11099 | <!----> |\n| 199 | Laos                   | Asia              | 7285750 |  20 | NA | NA | NA |  19 | NA |  1 | NA | 29374 | WesternPacific |\n| 200 | Dominica               | North America     |   72004 |  18 | NA | NA | NA |  18 | NA |  0 | NA |  1005 | Americas       |\n| 201 | Saint Kitts and Nevis  | North America     |   53237 |  17 | NA | NA | NA |  16 | NA |  1 | NA |  1146 | Americas       |\n| 202 | Greenland              | North America     |   56780 |  14 | NA | NA | NA |  14 | NA |  0 | NA |  5977 | Europe         |\n| 203 | Montserrat             | North America     |    4992 |  13 | NA |  1 | NA |  10 | NA |  2 | NA |    61 | <!----> |\n| 204 | Caribbean Netherlands  | North America     |   26247 |  13 | NA | NA | NA |   7 | NA |  6 | NA |   424 | <!----> |\n| 205 | Falkland Islands       | South America     |    3489 |  13 | NA | NA | NA |  13 | NA |  0 | NA |  1816 | <!----> |\n| 206 | Vatican City           | Europe            |     801 |  12 | NA | NA | NA |  12 | NA |  0 | NA |    NA | Europe         |\n| 207 | Western Sahara         | Africa            |  598682 |  10 | NA |  1 | NA |   8 | NA |  1 | NA |    NA | Africa         |\n\n",
            "text/html": [
              "<table class=\"dataframe\">\n",
              "<caption>A data.frame: 208 × 14</caption>\n",
              "<thead>\n",
              "\t<tr><th scope=col>X</th><th scope=col>Country.Region</th><th scope=col>Continent</th><th scope=col>Population</th><th scope=col>TotalCases</th><th scope=col>NewCases</th><th scope=col>TotalDeaths</th><th scope=col>NewDeaths</th><th scope=col>TotalRecovered</th><th scope=col>NewRecovered</th><th scope=col>ActiveCases</th><th scope=col>Serious.Critical</th><th scope=col>TotalTests</th><th scope=col>WHO.Region</th></tr>\n",
              "\t<tr><th scope=col>&lt;int&gt;</th><th scope=col>&lt;chr&gt;</th><th scope=col>&lt;chr&gt;</th><th scope=col>&lt;int&gt;</th><th scope=col>&lt;int&gt;</th><th scope=col>&lt;dbl&gt;</th><th scope=col>&lt;dbl&gt;</th><th scope=col>&lt;dbl&gt;</th><th scope=col>&lt;dbl&gt;</th><th scope=col>&lt;dbl&gt;</th><th scope=col>&lt;dbl&gt;</th><th scope=col>&lt;dbl&gt;</th><th scope=col>&lt;dbl&gt;</th><th scope=col>&lt;chr&gt;</th></tr>\n",
              "</thead>\n",
              "<tbody>\n",
              "\t<tr><td> 0</td><td>USA         </td><td>North America</td><td> 331198130</td><td>5032179</td><td>  NA</td><td>162804</td><td> NA</td><td>2576668</td><td>  NA</td><td>2292707</td><td>18296</td><td>63139605</td><td>Americas            </td></tr>\n",
              "\t<tr><td> 1</td><td>Brazil      </td><td>South America</td><td> 212710692</td><td>2917562</td><td>  NA</td><td> 98644</td><td> NA</td><td>2047660</td><td>  NA</td><td> 771258</td><td> 8318</td><td>13206188</td><td>Americas            </td></tr>\n",
              "\t<tr><td> 2</td><td>India       </td><td>Asia         </td><td>1381344997</td><td>2025409</td><td>  NA</td><td> 41638</td><td> NA</td><td>1377384</td><td>  NA</td><td> 606387</td><td> 8944</td><td>22149351</td><td>South-EastAsia      </td></tr>\n",
              "\t<tr><td> 3</td><td>Russia      </td><td>Europe       </td><td> 145940924</td><td> 871894</td><td>  NA</td><td> 14606</td><td> NA</td><td> 676357</td><td>  NA</td><td> 180931</td><td> 2300</td><td>29716907</td><td>Europe              </td></tr>\n",
              "\t<tr><td> 4</td><td>South Africa</td><td>Africa       </td><td>  59381566</td><td> 538184</td><td>  NA</td><td>  9604</td><td> NA</td><td> 387316</td><td>  NA</td><td> 141264</td><td>  539</td><td> 3149807</td><td>Africa              </td></tr>\n",
              "\t<tr><td> 5</td><td>Mexico      </td><td>North America</td><td> 129066160</td><td> 462690</td><td>6590</td><td> 50517</td><td>819</td><td> 308848</td><td>4140</td><td> 103325</td><td> 3987</td><td> 1056915</td><td>Americas            </td></tr>\n",
              "\t<tr><td> 6</td><td>Peru        </td><td>South America</td><td>  33016319</td><td> 455409</td><td>  NA</td><td> 20424</td><td> NA</td><td> 310337</td><td>  NA</td><td> 124648</td><td> 1426</td><td> 2493429</td><td>Americas            </td></tr>\n",
              "\t<tr><td> 7</td><td>Chile       </td><td>South America</td><td>  19132514</td><td> 366671</td><td>  NA</td><td>  9889</td><td> NA</td><td> 340168</td><td>  NA</td><td>  16614</td><td> 1358</td><td> 1760615</td><td>Americas            </td></tr>\n",
              "\t<tr><td> 8</td><td>Colombia    </td><td>South America</td><td>  50936262</td><td> 357710</td><td>  NA</td><td> 11939</td><td> NA</td><td> 192355</td><td>  NA</td><td> 153416</td><td> 1493</td><td> 1801835</td><td>Americas            </td></tr>\n",
              "\t<tr><td> 9</td><td>Spain       </td><td>Europe       </td><td>  46756648</td><td> 354530</td><td>  NA</td><td> 28500</td><td> NA</td><td> 164329</td><td>  NA</td><td>  19880</td><td>  617</td><td> 7064329</td><td>Europe              </td></tr>\n",
              "\t<tr><td>10</td><td>Iran        </td><td>Asia         </td><td>  84097623</td><td> 320117</td><td>  NA</td><td> 17976</td><td> NA</td><td> 277463</td><td>  NA</td><td>  24678</td><td> 4156</td><td> 2612763</td><td>EasternMediterranean</td></tr>\n",
              "\t<tr><td>11</td><td>UK          </td><td>Europe       </td><td>  67922029</td><td> 308134</td><td>  NA</td><td> 46413</td><td> NA</td><td> 261721</td><td>  NA</td><td>      0</td><td>   73</td><td>17515234</td><td>Europe              </td></tr>\n",
              "\t<tr><td>12</td><td>Saudi Arabia</td><td>Asia         </td><td>  34865919</td><td> 284226</td><td>  NA</td><td>  3055</td><td> NA</td><td> 247089</td><td>  NA</td><td>  34082</td><td> 1915</td><td> 3635705</td><td>EasternMediterranean</td></tr>\n",
              "\t<tr><td>13</td><td>Pakistan    </td><td>Asia         </td><td> 221295851</td><td> 281863</td><td>  NA</td><td>  6035</td><td> NA</td><td> 256058</td><td>  NA</td><td>  19770</td><td>  809</td><td> 2058872</td><td>EasternMediterranean</td></tr>\n",
              "\t<tr><td>14</td><td>Bangladesh  </td><td>Asia         </td><td> 164851401</td><td> 249651</td><td>  NA</td><td>  3306</td><td> NA</td><td> 143824</td><td>  NA</td><td> 102521</td><td>   NA</td><td> 1225124</td><td>South-EastAsia      </td></tr>\n",
              "\t<tr><td>15</td><td>Italy       </td><td>Europe       </td><td>  60452568</td><td> 249204</td><td>  NA</td><td> 35187</td><td> NA</td><td> 201323</td><td>  NA</td><td>  12694</td><td>   42</td><td> 7099713</td><td>Europe              </td></tr>\n",
              "\t<tr><td>16</td><td>Turkey      </td><td>Asia         </td><td>  84428331</td><td> 237265</td><td>  NA</td><td>  5798</td><td> NA</td><td> 220546</td><td>  NA</td><td>  10921</td><td>  580</td><td> 5081802</td><td>Europe              </td></tr>\n",
              "\t<tr><td>17</td><td>Argentina   </td><td>South America</td><td>  45236884</td><td> 228195</td><td>  NA</td><td>  4251</td><td> NA</td><td>  99852</td><td>  NA</td><td> 124092</td><td> 1150</td><td>  794544</td><td>Americas            </td></tr>\n",
              "\t<tr><td>18</td><td>Germany     </td><td>Europe       </td><td>  83811260</td><td> 215210</td><td>  NA</td><td>  9252</td><td> NA</td><td> 196200</td><td>  NA</td><td>   9758</td><td>  236</td><td> 8586648</td><td>Europe              </td></tr>\n",
              "\t<tr><td>19</td><td>France      </td><td>Europe       </td><td>  65288306</td><td> 195633</td><td>  NA</td><td> 30312</td><td> NA</td><td>  82460</td><td>  NA</td><td>  82861</td><td>  384</td><td> 3992206</td><td>Europe              </td></tr>\n",
              "\t<tr><td>20</td><td>Iraq        </td><td>Asia         </td><td>  40306025</td><td> 140603</td><td>  NA</td><td>  5161</td><td> NA</td><td> 101025</td><td>  NA</td><td>  34417</td><td>  517</td><td> 1092741</td><td>EasternMediterranean</td></tr>\n",
              "\t<tr><td>21</td><td>Philippines </td><td>Asia         </td><td> 109722719</td><td> 119460</td><td>  NA</td><td>  2150</td><td> NA</td><td>  66837</td><td>  NA</td><td>  50473</td><td>  239</td><td> 1669996</td><td>WesternPacific      </td></tr>\n",
              "\t<tr><td>22</td><td>Indonesia   </td><td>Asia         </td><td> 273808365</td><td> 118753</td><td>  NA</td><td>  5521</td><td> NA</td><td>  75645</td><td>  NA</td><td>  37587</td><td>   NA</td><td> 1633156</td><td>South-EastAsia      </td></tr>\n",
              "\t<tr><td>23</td><td>Canada      </td><td>North America</td><td>  37775022</td><td> 118561</td><td>  NA</td><td>  8966</td><td> NA</td><td> 103106</td><td>  NA</td><td>   6489</td><td> 2263</td><td> 4319172</td><td>Americas            </td></tr>\n",
              "\t<tr><td>24</td><td>Qatar       </td><td>Asia         </td><td>   2807805</td><td> 112092</td><td>  NA</td><td>   178</td><td> NA</td><td> 108831</td><td>  NA</td><td>   3083</td><td>   77</td><td>  511000</td><td>EasternMediterranean</td></tr>\n",
              "\t<tr><td>25</td><td>Kazakhstan  </td><td>Asia         </td><td>  18798667</td><td>  95942</td><td>  NA</td><td>  1058</td><td> NA</td><td>  68871</td><td>  NA</td><td>  26013</td><td>  221</td><td> 2163713</td><td>Europe              </td></tr>\n",
              "\t<tr><td>26</td><td>Egypt       </td><td>Africa       </td><td> 102516525</td><td>  95006</td><td>  NA</td><td>  4951</td><td> NA</td><td>  48898</td><td>  NA</td><td>  41157</td><td>   41</td><td>  135000</td><td>EasternMediterranean</td></tr>\n",
              "\t<tr><td>27</td><td>Ecuador     </td><td>South America</td><td>  17668824</td><td>  90537</td><td>  NA</td><td>  5877</td><td> NA</td><td>  71318</td><td>  NA</td><td>  13342</td><td>  378</td><td>  258582</td><td>Americas            </td></tr>\n",
              "\t<tr><td>28</td><td>Bolivia     </td><td>South America</td><td>  11688459</td><td>  86423</td><td>1282</td><td>  3465</td><td> 80</td><td>  27373</td><td> 936</td><td>  55585</td><td>   71</td><td>  183583</td><td>Americas            </td></tr>\n",
              "\t<tr><td>29</td><td>Sweden      </td><td>Europe       </td><td>  10105596</td><td>  81967</td><td>  NA</td><td>  5766</td><td> NA</td><td>  76201</td><td>  NA</td><td>     NA</td><td>   38</td><td>  863315</td><td>Europe              </td></tr>\n",
              "\t<tr><td>⋮</td><td>⋮</td><td>⋮</td><td>⋮</td><td>⋮</td><td>⋮</td><td>⋮</td><td>⋮</td><td>⋮</td><td>⋮</td><td>⋮</td><td>⋮</td><td>⋮</td><td>⋮</td></tr>\n",
              "\t<tr><td>178</td><td>Sint Maarten          </td><td>North America    </td><td>  42924</td><td>160</td><td>NA</td><td>16</td><td>NA</td><td> 64</td><td>NA</td><td>80</td><td> 3</td><td> 1115</td><td>              </td></tr>\n",
              "\t<tr><td>179</td><td>Bermuda               </td><td>North America    </td><td>  62254</td><td>157</td><td>NA</td><td> 9</td><td>NA</td><td>144</td><td>NA</td><td> 4</td><td>NA</td><td>26352</td><td>Americas      </td></tr>\n",
              "\t<tr><td>180</td><td>Brunei                </td><td>Asia             </td><td> 437893</td><td>141</td><td>NA</td><td> 3</td><td>NA</td><td>138</td><td>NA</td><td> 0</td><td>NA</td><td>41148</td><td>              </td></tr>\n",
              "\t<tr><td>181</td><td>Barbados              </td><td>North America    </td><td> 287411</td><td>133</td><td>NA</td><td> 7</td><td>NA</td><td>100</td><td>NA</td><td>26</td><td>NA</td><td>12233</td><td>Americas      </td></tr>\n",
              "\t<tr><td>182</td><td>Turks and Caicos      </td><td>North America    </td><td>  38768</td><td>129</td><td>NA</td><td> 2</td><td>NA</td><td> 39</td><td>NA</td><td>88</td><td> 3</td><td> 1252</td><td>              </td></tr>\n",
              "\t<tr><td>183</td><td>Seychelles            </td><td>Africa           </td><td>  98408</td><td>126</td><td>NA</td><td>NA</td><td>NA</td><td>124</td><td>NA</td><td> 2</td><td>NA</td><td>   NA</td><td>Africa        </td></tr>\n",
              "\t<tr><td>184</td><td>Monaco                </td><td>Europe           </td><td>  39270</td><td>125</td><td>NA</td><td> 4</td><td>NA</td><td>105</td><td>NA</td><td>16</td><td> 2</td><td>38209</td><td>Europe        </td></tr>\n",
              "\t<tr><td>185</td><td>Bhutan                </td><td>Asia             </td><td> 772443</td><td>105</td><td>NA</td><td>NA</td><td>NA</td><td> 93</td><td>NA</td><td>12</td><td>NA</td><td>54589</td><td>South-EastAsia</td></tr>\n",
              "\t<tr><td>186</td><td>Antigua and Barbuda   </td><td>North America    </td><td>  98010</td><td> 92</td><td>NA</td><td> 3</td><td>NA</td><td> 76</td><td>NA</td><td>13</td><td> 1</td><td> 1500</td><td>Americas      </td></tr>\n",
              "\t<tr><td>187</td><td>Liechtenstein         </td><td>Europe           </td><td>  38139</td><td> 89</td><td>NA</td><td> 1</td><td>NA</td><td> 85</td><td>NA</td><td> 3</td><td>NA</td><td>  900</td><td>Europe        </td></tr>\n",
              "\t<tr><td>188</td><td>Belize                </td><td>North America    </td><td> 398312</td><td> 86</td><td>NA</td><td> 2</td><td>NA</td><td> 31</td><td>NA</td><td>53</td><td> 2</td><td> 3679</td><td>Americas      </td></tr>\n",
              "\t<tr><td>189</td><td>French Polynesia      </td><td>Australia/Oceania</td><td> 281072</td><td> 64</td><td>NA</td><td>NA</td><td>NA</td><td> 62</td><td>NA</td><td> 2</td><td>NA</td><td> 5849</td><td>              </td></tr>\n",
              "\t<tr><td>190</td><td>St. Vincent Grenadines</td><td>North America    </td><td> 110976</td><td> 56</td><td>NA</td><td>NA</td><td>NA</td><td> 46</td><td>NA</td><td>10</td><td>NA</td><td> 2447</td><td>              </td></tr>\n",
              "\t<tr><td>191</td><td>Saint Martin          </td><td>North America    </td><td>  38729</td><td> 53</td><td>NA</td><td> 3</td><td>NA</td><td> 41</td><td>NA</td><td> 9</td><td> 1</td><td> 1183</td><td>              </td></tr>\n",
              "\t<tr><td>192</td><td>Macao                 </td><td>Asia             </td><td> 650193</td><td> 46</td><td>NA</td><td>NA</td><td>NA</td><td> 46</td><td>NA</td><td> 0</td><td>NA</td><td> 4071</td><td>              </td></tr>\n",
              "\t<tr><td>193</td><td>Curaçao               </td><td>North America    </td><td> 164161</td><td> 31</td><td>NA</td><td> 1</td><td>NA</td><td> 28</td><td>NA</td><td> 2</td><td>NA</td><td> 1080</td><td>              </td></tr>\n",
              "\t<tr><td>194</td><td>Fiji                  </td><td>Australia/Oceania</td><td> 897095</td><td> 27</td><td>NA</td><td> 1</td><td>NA</td><td> 18</td><td>NA</td><td> 8</td><td>NA</td><td> 6693</td><td>WesternPacific</td></tr>\n",
              "\t<tr><td>195</td><td>Saint Lucia           </td><td>North America    </td><td> 183712</td><td> 25</td><td>NA</td><td>NA</td><td>NA</td><td> 24</td><td>NA</td><td> 1</td><td>NA</td><td> 3895</td><td>Americas      </td></tr>\n",
              "\t<tr><td>196</td><td>Timor-Leste           </td><td>Asia             </td><td>1320812</td><td> 25</td><td>NA</td><td>NA</td><td>NA</td><td> 24</td><td>NA</td><td> 1</td><td>NA</td><td> 4238</td><td>South-EastAsia</td></tr>\n",
              "\t<tr><td>197</td><td>Grenada               </td><td>North America    </td><td> 112576</td><td> 24</td><td>NA</td><td>NA</td><td>NA</td><td> 23</td><td>NA</td><td> 1</td><td>NA</td><td> 6252</td><td>Americas      </td></tr>\n",
              "\t<tr><td>198</td><td>New Caledonia         </td><td>Australia/Oceania</td><td> 285769</td><td> 22</td><td>NA</td><td>NA</td><td>NA</td><td> 22</td><td>NA</td><td> 0</td><td>NA</td><td>11099</td><td>              </td></tr>\n",
              "\t<tr><td>199</td><td>Laos                  </td><td>Asia             </td><td>7285750</td><td> 20</td><td>NA</td><td>NA</td><td>NA</td><td> 19</td><td>NA</td><td> 1</td><td>NA</td><td>29374</td><td>WesternPacific</td></tr>\n",
              "\t<tr><td>200</td><td>Dominica              </td><td>North America    </td><td>  72004</td><td> 18</td><td>NA</td><td>NA</td><td>NA</td><td> 18</td><td>NA</td><td> 0</td><td>NA</td><td> 1005</td><td>Americas      </td></tr>\n",
              "\t<tr><td>201</td><td>Saint Kitts and Nevis </td><td>North America    </td><td>  53237</td><td> 17</td><td>NA</td><td>NA</td><td>NA</td><td> 16</td><td>NA</td><td> 1</td><td>NA</td><td> 1146</td><td>Americas      </td></tr>\n",
              "\t<tr><td>202</td><td>Greenland             </td><td>North America    </td><td>  56780</td><td> 14</td><td>NA</td><td>NA</td><td>NA</td><td> 14</td><td>NA</td><td> 0</td><td>NA</td><td> 5977</td><td>Europe        </td></tr>\n",
              "\t<tr><td>203</td><td>Montserrat            </td><td>North America    </td><td>   4992</td><td> 13</td><td>NA</td><td> 1</td><td>NA</td><td> 10</td><td>NA</td><td> 2</td><td>NA</td><td>   61</td><td>              </td></tr>\n",
              "\t<tr><td>204</td><td>Caribbean Netherlands </td><td>North America    </td><td>  26247</td><td> 13</td><td>NA</td><td>NA</td><td>NA</td><td>  7</td><td>NA</td><td> 6</td><td>NA</td><td>  424</td><td>              </td></tr>\n",
              "\t<tr><td>205</td><td>Falkland Islands      </td><td>South America    </td><td>   3489</td><td> 13</td><td>NA</td><td>NA</td><td>NA</td><td> 13</td><td>NA</td><td> 0</td><td>NA</td><td> 1816</td><td>              </td></tr>\n",
              "\t<tr><td>206</td><td>Vatican City          </td><td>Europe           </td><td>    801</td><td> 12</td><td>NA</td><td>NA</td><td>NA</td><td> 12</td><td>NA</td><td> 0</td><td>NA</td><td>   NA</td><td>Europe        </td></tr>\n",
              "\t<tr><td>207</td><td>Western Sahara        </td><td>Africa           </td><td> 598682</td><td> 10</td><td>NA</td><td> 1</td><td>NA</td><td>  8</td><td>NA</td><td> 1</td><td>NA</td><td>   NA</td><td>Africa        </td></tr>\n",
              "</tbody>\n",
              "</table>\n"
            ]
          },
          "metadata": {}
        }
      ]
    },
    {
      "cell_type": "markdown",
      "source": [
        "package Dplyer "
      ],
      "metadata": {
        "id": "mZPdKjZldZHa"
      }
    },
    {
      "cell_type": "code",
      "source": [
        "install.packages(\"dplyr\")"
      ],
      "metadata": {
        "colab": {
          "base_uri": "https://localhost:8080/"
        },
        "id": "1fT4LYfuFMBn",
        "outputId": "5e0df075-7d62-457e-d50f-96bdcad3fed7"
      },
      "execution_count": null,
      "outputs": [
        {
          "output_type": "stream",
          "name": "stderr",
          "text": [
            "Installing package into ‘/usr/local/lib/R/site-library’\n",
            "(as ‘lib’ is unspecified)\n",
            "\n"
          ]
        }
      ]
    },
    {
      "cell_type": "code",
      "source": [
        "library(dplyr)"
      ],
      "metadata": {
        "id": "JinPT6jTFo0m"
      },
      "execution_count": null,
      "outputs": []
    },
    {
      "cell_type": "markdown",
      "source": [
        "Check for Null values "
      ],
      "metadata": {
        "id": "S2NAXDG5dgl8"
      }
    },
    {
      "cell_type": "code",
      "source": [
        "cou =data$Country.Region\n",
        "cou"
      ],
      "metadata": {
        "colab": {
          "base_uri": "https://localhost:8080/",
          "height": 312
        },
        "id": "9a0ajw6WF-23",
        "outputId": "7a0bae0e-4ec4-430e-a377-318effa3ace9"
      },
      "execution_count": null,
      "outputs": [
        {
          "output_type": "display_data",
          "data": {
            "text/plain": [
              "  [1] \"USA\"                    \"Brazil\"                 \"India\"                 \n",
              "  [4] \"Russia\"                 \"South Africa\"           \"Mexico\"                \n",
              "  [7] \"Peru\"                   \"Chile\"                  \"Colombia\"              \n",
              " [10] \"Spain\"                  \"Iran\"                   \"UK\"                    \n",
              " [13] \"Saudi Arabia\"           \"Pakistan\"               \"Bangladesh\"            \n",
              " [16] \"Italy\"                  \"Turkey\"                 \"Argentina\"             \n",
              " [19] \"Germany\"                \"France\"                 \"Iraq\"                  \n",
              " [22] \"Philippines\"            \"Indonesia\"              \"Canada\"                \n",
              " [25] \"Qatar\"                  \"Kazakhstan\"             \"Egypt\"                 \n",
              " [28] \"Ecuador\"                \"Bolivia\"                \"Sweden\"                \n",
              " [31] \"Oman\"                   \"Israel\"                 \"Ukraine\"               \n",
              " [34] \"Dominican Republic\"     \"Panama\"                 \"Belgium\"               \n",
              " [37] \"Kuwait\"                 \"Belarus\"                \"UAE\"                   \n",
              " [40] \"Romania\"                \"Netherlands\"            \"Singapore\"             \n",
              " [43] \"Guatemala\"              \"Portugal\"               \"Poland\"                \n",
              " [46] \"Nigeria\"                \"Honduras\"               \"Bahrain\"               \n",
              " [49] \"Japan\"                  \"Armenia\"                \"Ghana\"                 \n",
              " [52] \"Kyrgyzstan\"             \"Afghanistan\"            \"Switzerland\"           \n",
              " [55] \"Algeria\"                \"Azerbaijan\"             \"Morocco\"               \n",
              " [58] \"Uzbekistan\"             \"Serbia\"                 \"Moldova\"               \n",
              " [61] \"Ireland\"                \"Kenya\"                  \"Venezuela\"             \n",
              " [64] \"Nepal\"                  \"Austria\"                \"Costa Rica\"            \n",
              " [67] \"Ethiopia\"               \"Australia\"              \"El Salvador\"           \n",
              " [70] \"Czechia\"                \"Cameroon\"               \"Ivory Coast\"           \n",
              " [73] \"S. Korea\"               \"Denmark\"                \"Palestine\"             \n",
              " [76] \"Bosnia and Herzegovina\" \"Bulgaria\"               \"Madagascar\"            \n",
              " [79] \"Sudan\"                  \"North Macedonia\"        \"Senegal\"               \n",
              " [82] \"Norway\"                 \"DRC\"                    \"Malaysia\"              \n",
              " [85] \"French Guiana\"          \"Gabon\"                  \"Tajikistan\"            \n",
              " [88] \"Guinea\"                 \"Haiti\"                  \"Finland\"               \n",
              " [91] \"Zambia\"                 \"Luxembourg\"             \"Mauritania\"            \n",
              " [94] \"Paraguay\"               \"Albania\"                \"Lebanon\"               \n",
              " [97] \"Croatia\"                \"Djibouti\"               \"Greece\"                \n",
              "[100] \"Libya\"                  \"Equatorial Guinea\"      \"Maldives\"              \n",
              "[103] \"CAR\"                    \"Hungary\"                \"Malawi\"                \n",
              "[106] \"Zimbabwe\"               \"Nicaragua\"              \"Hong Kong\"             \n",
              "[109] \"Congo\"                  \"Montenegro\"             \"Thailand\"              \n",
              "[112] \"Somalia\"                \"Mayotte\"                \"Eswatini\"              \n",
              "[115] \"Sri Lanka\"              \"Cuba\"                   \"Cabo Verde\"            \n",
              "[118] \"Namibia\"                \"Mali\"                   \"Slovakia\"              \n",
              "[121] \"South Sudan\"            \"Slovenia\"               \"Lithuania\"             \n",
              "[124] \"Estonia\"                \"Mozambique\"             \"Rwanda\"                \n",
              "[127] \"Suriname\"               \"Guinea-Bissau\"          \"Benin\"                 \n",
              "[130] \"Iceland\"                \"Sierra Leone\"           \"Yemen\"                 \n",
              "[133] \"Tunisia\"                \"New Zealand\"            \"Angola\"                \n",
              "[136] \"Uruguay\"                \"Latvia\"                 \"Jordan\"                \n",
              "[139] \"Liberia\"                \"Uganda\"                 \"Cyprus\"                \n",
              "[142] \"Georgia\"                \"Burkina Faso\"           \"Niger\"                 \n",
              "[145] \"Togo\"                   \"Syria\"                  \"Jamaica\"               \n",
              "[148] \"Malta\"                  \"Andorra\"                \"Chad\"                  \n",
              "[151] \"Gambia\"                 \"Sao Tome and Principe\"  \"Botswana\"              \n",
              "[154] \"Bahamas\"                \"Vietnam\"                \"Lesotho\"               \n",
              "[157] \"San Marino\"             \"Réunion\"                \"Channel Islands\"       \n",
              "[160] \"Guyana\"                 \"Tanzania\"               \"Taiwan\"                \n",
              "[163] \"Comoros\"                \"Burundi\"                \"Myanmar\"               \n",
              "[166] \"Mauritius\"              \"Isle of Man\"            \"Mongolia\"              \n",
              "[169] \"Eritrea\"                \"Guadeloupe\"             \"Martinique\"            \n",
              "[172] \"Faeroe Islands\"         \"Aruba\"                  \"Cambodia\"              \n",
              "[175] \"Trinidad and Tobago\"    \"Cayman Islands\"         \"Gibraltar\"             \n",
              "[178] \"Papua New Guinea\"       \"Sint Maarten\"           \"Bermuda\"               \n",
              "[181] \"Brunei\"                 \"Barbados\"               \"Turks and Caicos\"      \n",
              "[184] \"Seychelles\"             \"Monaco\"                 \"Bhutan\"                \n",
              "[187] \"Antigua and Barbuda\"    \"Liechtenstein\"          \"Belize\"                \n",
              "[190] \"French Polynesia\"       \"St. Vincent Grenadines\" \"Saint Martin\"          \n",
              "[193] \"Macao\"                  \"Curaçao\"                \"Fiji\"                  \n",
              "[196] \"Saint Lucia\"            \"Timor-Leste\"            \"Grenada\"               \n",
              "[199] \"New Caledonia\"          \"Laos\"                   \"Dominica\"              \n",
              "[202] \"Saint Kitts and Nevis\"  \"Greenland\"              \"Montserrat\"            \n",
              "[205] \"Caribbean Netherlands\"  \"Falkland Islands\"       \"Vatican City\"          \n",
              "[208] \"Western Sahara\"        "
            ],
            "text/latex": "\\begin{enumerate*}\n\\item 'USA'\n\\item 'Brazil'\n\\item 'India'\n\\item 'Russia'\n\\item 'South Africa'\n\\item 'Mexico'\n\\item 'Peru'\n\\item 'Chile'\n\\item 'Colombia'\n\\item 'Spain'\n\\item 'Iran'\n\\item 'UK'\n\\item 'Saudi Arabia'\n\\item 'Pakistan'\n\\item 'Bangladesh'\n\\item 'Italy'\n\\item 'Turkey'\n\\item 'Argentina'\n\\item 'Germany'\n\\item 'France'\n\\item 'Iraq'\n\\item 'Philippines'\n\\item 'Indonesia'\n\\item 'Canada'\n\\item 'Qatar'\n\\item 'Kazakhstan'\n\\item 'Egypt'\n\\item 'Ecuador'\n\\item 'Bolivia'\n\\item 'Sweden'\n\\item 'Oman'\n\\item 'Israel'\n\\item 'Ukraine'\n\\item 'Dominican Republic'\n\\item 'Panama'\n\\item 'Belgium'\n\\item 'Kuwait'\n\\item 'Belarus'\n\\item 'UAE'\n\\item 'Romania'\n\\item 'Netherlands'\n\\item 'Singapore'\n\\item 'Guatemala'\n\\item 'Portugal'\n\\item 'Poland'\n\\item 'Nigeria'\n\\item 'Honduras'\n\\item 'Bahrain'\n\\item 'Japan'\n\\item 'Armenia'\n\\item 'Ghana'\n\\item 'Kyrgyzstan'\n\\item 'Afghanistan'\n\\item 'Switzerland'\n\\item 'Algeria'\n\\item 'Azerbaijan'\n\\item 'Morocco'\n\\item 'Uzbekistan'\n\\item 'Serbia'\n\\item 'Moldova'\n\\item 'Ireland'\n\\item 'Kenya'\n\\item 'Venezuela'\n\\item 'Nepal'\n\\item 'Austria'\n\\item 'Costa Rica'\n\\item 'Ethiopia'\n\\item 'Australia'\n\\item 'El Salvador'\n\\item 'Czechia'\n\\item 'Cameroon'\n\\item 'Ivory Coast'\n\\item 'S. Korea'\n\\item 'Denmark'\n\\item 'Palestine'\n\\item 'Bosnia and Herzegovina'\n\\item 'Bulgaria'\n\\item 'Madagascar'\n\\item 'Sudan'\n\\item 'North Macedonia'\n\\item 'Senegal'\n\\item 'Norway'\n\\item 'DRC'\n\\item 'Malaysia'\n\\item 'French Guiana'\n\\item 'Gabon'\n\\item 'Tajikistan'\n\\item 'Guinea'\n\\item 'Haiti'\n\\item 'Finland'\n\\item 'Zambia'\n\\item 'Luxembourg'\n\\item 'Mauritania'\n\\item 'Paraguay'\n\\item 'Albania'\n\\item 'Lebanon'\n\\item 'Croatia'\n\\item 'Djibouti'\n\\item 'Greece'\n\\item 'Libya'\n\\item 'Equatorial Guinea'\n\\item 'Maldives'\n\\item 'CAR'\n\\item 'Hungary'\n\\item 'Malawi'\n\\item 'Zimbabwe'\n\\item 'Nicaragua'\n\\item 'Hong Kong'\n\\item 'Congo'\n\\item 'Montenegro'\n\\item 'Thailand'\n\\item 'Somalia'\n\\item 'Mayotte'\n\\item 'Eswatini'\n\\item 'Sri Lanka'\n\\item 'Cuba'\n\\item 'Cabo Verde'\n\\item 'Namibia'\n\\item 'Mali'\n\\item 'Slovakia'\n\\item 'South Sudan'\n\\item 'Slovenia'\n\\item 'Lithuania'\n\\item 'Estonia'\n\\item 'Mozambique'\n\\item 'Rwanda'\n\\item 'Suriname'\n\\item 'Guinea-Bissau'\n\\item 'Benin'\n\\item 'Iceland'\n\\item 'Sierra Leone'\n\\item 'Yemen'\n\\item 'Tunisia'\n\\item 'New Zealand'\n\\item 'Angola'\n\\item 'Uruguay'\n\\item 'Latvia'\n\\item 'Jordan'\n\\item 'Liberia'\n\\item 'Uganda'\n\\item 'Cyprus'\n\\item 'Georgia'\n\\item 'Burkina Faso'\n\\item 'Niger'\n\\item 'Togo'\n\\item 'Syria'\n\\item 'Jamaica'\n\\item 'Malta'\n\\item 'Andorra'\n\\item 'Chad'\n\\item 'Gambia'\n\\item 'Sao Tome and Principe'\n\\item 'Botswana'\n\\item 'Bahamas'\n\\item 'Vietnam'\n\\item 'Lesotho'\n\\item 'San Marino'\n\\item 'Réunion'\n\\item 'Channel Islands'\n\\item 'Guyana'\n\\item 'Tanzania'\n\\item 'Taiwan'\n\\item 'Comoros'\n\\item 'Burundi'\n\\item 'Myanmar'\n\\item 'Mauritius'\n\\item 'Isle of Man'\n\\item 'Mongolia'\n\\item 'Eritrea'\n\\item 'Guadeloupe'\n\\item 'Martinique'\n\\item 'Faeroe Islands'\n\\item 'Aruba'\n\\item 'Cambodia'\n\\item 'Trinidad and Tobago'\n\\item 'Cayman Islands'\n\\item 'Gibraltar'\n\\item 'Papua New Guinea'\n\\item 'Sint Maarten'\n\\item 'Bermuda'\n\\item 'Brunei'\n\\item 'Barbados'\n\\item 'Turks and Caicos'\n\\item 'Seychelles'\n\\item 'Monaco'\n\\item 'Bhutan'\n\\item 'Antigua and Barbuda'\n\\item 'Liechtenstein'\n\\item 'Belize'\n\\item 'French Polynesia'\n\\item 'St. Vincent Grenadines'\n\\item 'Saint Martin'\n\\item 'Macao'\n\\item 'Curaçao'\n\\item 'Fiji'\n\\item 'Saint Lucia'\n\\item 'Timor-Leste'\n\\item 'Grenada'\n\\item 'New Caledonia'\n\\item 'Laos'\n\\item 'Dominica'\n\\item 'Saint Kitts and Nevis'\n\\item 'Greenland'\n\\item 'Montserrat'\n\\item 'Caribbean Netherlands'\n\\item 'Falkland Islands'\n\\item 'Vatican City'\n\\item 'Western Sahara'\n\\end{enumerate*}\n",
            "text/markdown": "1. 'USA'\n2. 'Brazil'\n3. 'India'\n4. 'Russia'\n5. 'South Africa'\n6. 'Mexico'\n7. 'Peru'\n8. 'Chile'\n9. 'Colombia'\n10. 'Spain'\n11. 'Iran'\n12. 'UK'\n13. 'Saudi Arabia'\n14. 'Pakistan'\n15. 'Bangladesh'\n16. 'Italy'\n17. 'Turkey'\n18. 'Argentina'\n19. 'Germany'\n20. 'France'\n21. 'Iraq'\n22. 'Philippines'\n23. 'Indonesia'\n24. 'Canada'\n25. 'Qatar'\n26. 'Kazakhstan'\n27. 'Egypt'\n28. 'Ecuador'\n29. 'Bolivia'\n30. 'Sweden'\n31. 'Oman'\n32. 'Israel'\n33. 'Ukraine'\n34. 'Dominican Republic'\n35. 'Panama'\n36. 'Belgium'\n37. 'Kuwait'\n38. 'Belarus'\n39. 'UAE'\n40. 'Romania'\n41. 'Netherlands'\n42. 'Singapore'\n43. 'Guatemala'\n44. 'Portugal'\n45. 'Poland'\n46. 'Nigeria'\n47. 'Honduras'\n48. 'Bahrain'\n49. 'Japan'\n50. 'Armenia'\n51. 'Ghana'\n52. 'Kyrgyzstan'\n53. 'Afghanistan'\n54. 'Switzerland'\n55. 'Algeria'\n56. 'Azerbaijan'\n57. 'Morocco'\n58. 'Uzbekistan'\n59. 'Serbia'\n60. 'Moldova'\n61. 'Ireland'\n62. 'Kenya'\n63. 'Venezuela'\n64. 'Nepal'\n65. 'Austria'\n66. 'Costa Rica'\n67. 'Ethiopia'\n68. 'Australia'\n69. 'El Salvador'\n70. 'Czechia'\n71. 'Cameroon'\n72. 'Ivory Coast'\n73. 'S. Korea'\n74. 'Denmark'\n75. 'Palestine'\n76. 'Bosnia and Herzegovina'\n77. 'Bulgaria'\n78. 'Madagascar'\n79. 'Sudan'\n80. 'North Macedonia'\n81. 'Senegal'\n82. 'Norway'\n83. 'DRC'\n84. 'Malaysia'\n85. 'French Guiana'\n86. 'Gabon'\n87. 'Tajikistan'\n88. 'Guinea'\n89. 'Haiti'\n90. 'Finland'\n91. 'Zambia'\n92. 'Luxembourg'\n93. 'Mauritania'\n94. 'Paraguay'\n95. 'Albania'\n96. 'Lebanon'\n97. 'Croatia'\n98. 'Djibouti'\n99. 'Greece'\n100. 'Libya'\n101. 'Equatorial Guinea'\n102. 'Maldives'\n103. 'CAR'\n104. 'Hungary'\n105. 'Malawi'\n106. 'Zimbabwe'\n107. 'Nicaragua'\n108. 'Hong Kong'\n109. 'Congo'\n110. 'Montenegro'\n111. 'Thailand'\n112. 'Somalia'\n113. 'Mayotte'\n114. 'Eswatini'\n115. 'Sri Lanka'\n116. 'Cuba'\n117. 'Cabo Verde'\n118. 'Namibia'\n119. 'Mali'\n120. 'Slovakia'\n121. 'South Sudan'\n122. 'Slovenia'\n123. 'Lithuania'\n124. 'Estonia'\n125. 'Mozambique'\n126. 'Rwanda'\n127. 'Suriname'\n128. 'Guinea-Bissau'\n129. 'Benin'\n130. 'Iceland'\n131. 'Sierra Leone'\n132. 'Yemen'\n133. 'Tunisia'\n134. 'New Zealand'\n135. 'Angola'\n136. 'Uruguay'\n137. 'Latvia'\n138. 'Jordan'\n139. 'Liberia'\n140. 'Uganda'\n141. 'Cyprus'\n142. 'Georgia'\n143. 'Burkina Faso'\n144. 'Niger'\n145. 'Togo'\n146. 'Syria'\n147. 'Jamaica'\n148. 'Malta'\n149. 'Andorra'\n150. 'Chad'\n151. 'Gambia'\n152. 'Sao Tome and Principe'\n153. 'Botswana'\n154. 'Bahamas'\n155. 'Vietnam'\n156. 'Lesotho'\n157. 'San Marino'\n158. 'Réunion'\n159. 'Channel Islands'\n160. 'Guyana'\n161. 'Tanzania'\n162. 'Taiwan'\n163. 'Comoros'\n164. 'Burundi'\n165. 'Myanmar'\n166. 'Mauritius'\n167. 'Isle of Man'\n168. 'Mongolia'\n169. 'Eritrea'\n170. 'Guadeloupe'\n171. 'Martinique'\n172. 'Faeroe Islands'\n173. 'Aruba'\n174. 'Cambodia'\n175. 'Trinidad and Tobago'\n176. 'Cayman Islands'\n177. 'Gibraltar'\n178. 'Papua New Guinea'\n179. 'Sint Maarten'\n180. 'Bermuda'\n181. 'Brunei'\n182. 'Barbados'\n183. 'Turks and Caicos'\n184. 'Seychelles'\n185. 'Monaco'\n186. 'Bhutan'\n187. 'Antigua and Barbuda'\n188. 'Liechtenstein'\n189. 'Belize'\n190. 'French Polynesia'\n191. 'St. Vincent Grenadines'\n192. 'Saint Martin'\n193. 'Macao'\n194. 'Curaçao'\n195. 'Fiji'\n196. 'Saint Lucia'\n197. 'Timor-Leste'\n198. 'Grenada'\n199. 'New Caledonia'\n200. 'Laos'\n201. 'Dominica'\n202. 'Saint Kitts and Nevis'\n203. 'Greenland'\n204. 'Montserrat'\n205. 'Caribbean Netherlands'\n206. 'Falkland Islands'\n207. 'Vatican City'\n208. 'Western Sahara'\n\n\n",
            "text/html": [
              "<style>\n",
              ".list-inline {list-style: none; margin:0; padding: 0}\n",
              ".list-inline>li {display: inline-block}\n",
              ".list-inline>li:not(:last-child)::after {content: \"\\00b7\"; padding: 0 .5ex}\n",
              "</style>\n",
              "<ol class=list-inline><li>'USA'</li><li>'Brazil'</li><li>'India'</li><li>'Russia'</li><li>'South Africa'</li><li>'Mexico'</li><li>'Peru'</li><li>'Chile'</li><li>'Colombia'</li><li>'Spain'</li><li>'Iran'</li><li>'UK'</li><li>'Saudi Arabia'</li><li>'Pakistan'</li><li>'Bangladesh'</li><li>'Italy'</li><li>'Turkey'</li><li>'Argentina'</li><li>'Germany'</li><li>'France'</li><li>'Iraq'</li><li>'Philippines'</li><li>'Indonesia'</li><li>'Canada'</li><li>'Qatar'</li><li>'Kazakhstan'</li><li>'Egypt'</li><li>'Ecuador'</li><li>'Bolivia'</li><li>'Sweden'</li><li>'Oman'</li><li>'Israel'</li><li>'Ukraine'</li><li>'Dominican Republic'</li><li>'Panama'</li><li>'Belgium'</li><li>'Kuwait'</li><li>'Belarus'</li><li>'UAE'</li><li>'Romania'</li><li>'Netherlands'</li><li>'Singapore'</li><li>'Guatemala'</li><li>'Portugal'</li><li>'Poland'</li><li>'Nigeria'</li><li>'Honduras'</li><li>'Bahrain'</li><li>'Japan'</li><li>'Armenia'</li><li>'Ghana'</li><li>'Kyrgyzstan'</li><li>'Afghanistan'</li><li>'Switzerland'</li><li>'Algeria'</li><li>'Azerbaijan'</li><li>'Morocco'</li><li>'Uzbekistan'</li><li>'Serbia'</li><li>'Moldova'</li><li>'Ireland'</li><li>'Kenya'</li><li>'Venezuela'</li><li>'Nepal'</li><li>'Austria'</li><li>'Costa Rica'</li><li>'Ethiopia'</li><li>'Australia'</li><li>'El Salvador'</li><li>'Czechia'</li><li>'Cameroon'</li><li>'Ivory Coast'</li><li>'S. Korea'</li><li>'Denmark'</li><li>'Palestine'</li><li>'Bosnia and Herzegovina'</li><li>'Bulgaria'</li><li>'Madagascar'</li><li>'Sudan'</li><li>'North Macedonia'</li><li>'Senegal'</li><li>'Norway'</li><li>'DRC'</li><li>'Malaysia'</li><li>'French Guiana'</li><li>'Gabon'</li><li>'Tajikistan'</li><li>'Guinea'</li><li>'Haiti'</li><li>'Finland'</li><li>'Zambia'</li><li>'Luxembourg'</li><li>'Mauritania'</li><li>'Paraguay'</li><li>'Albania'</li><li>'Lebanon'</li><li>'Croatia'</li><li>'Djibouti'</li><li>'Greece'</li><li>'Libya'</li><li>'Equatorial Guinea'</li><li>'Maldives'</li><li>'CAR'</li><li>'Hungary'</li><li>'Malawi'</li><li>'Zimbabwe'</li><li>'Nicaragua'</li><li>'Hong Kong'</li><li>'Congo'</li><li>'Montenegro'</li><li>'Thailand'</li><li>'Somalia'</li><li>'Mayotte'</li><li>'Eswatini'</li><li>'Sri Lanka'</li><li>'Cuba'</li><li>'Cabo Verde'</li><li>'Namibia'</li><li>'Mali'</li><li>'Slovakia'</li><li>'South Sudan'</li><li>'Slovenia'</li><li>'Lithuania'</li><li>'Estonia'</li><li>'Mozambique'</li><li>'Rwanda'</li><li>'Suriname'</li><li>'Guinea-Bissau'</li><li>'Benin'</li><li>'Iceland'</li><li>'Sierra Leone'</li><li>'Yemen'</li><li>'Tunisia'</li><li>'New Zealand'</li><li>'Angola'</li><li>'Uruguay'</li><li>'Latvia'</li><li>'Jordan'</li><li>'Liberia'</li><li>'Uganda'</li><li>'Cyprus'</li><li>'Georgia'</li><li>'Burkina Faso'</li><li>'Niger'</li><li>'Togo'</li><li>'Syria'</li><li>'Jamaica'</li><li>'Malta'</li><li>'Andorra'</li><li>'Chad'</li><li>'Gambia'</li><li>'Sao Tome and Principe'</li><li>'Botswana'</li><li>'Bahamas'</li><li>'Vietnam'</li><li>'Lesotho'</li><li>'San Marino'</li><li>'Réunion'</li><li>'Channel Islands'</li><li>'Guyana'</li><li>'Tanzania'</li><li>'Taiwan'</li><li>'Comoros'</li><li>'Burundi'</li><li>'Myanmar'</li><li>'Mauritius'</li><li>'Isle of Man'</li><li>'Mongolia'</li><li>'Eritrea'</li><li>'Guadeloupe'</li><li>'Martinique'</li><li>'Faeroe Islands'</li><li>'Aruba'</li><li>'Cambodia'</li><li>'Trinidad and Tobago'</li><li>'Cayman Islands'</li><li>'Gibraltar'</li><li>'Papua New Guinea'</li><li>'Sint Maarten'</li><li>'Bermuda'</li><li>'Brunei'</li><li>'Barbados'</li><li>'Turks and Caicos'</li><li>'Seychelles'</li><li>'Monaco'</li><li>'Bhutan'</li><li>'Antigua and Barbuda'</li><li>'Liechtenstein'</li><li>'Belize'</li><li>'French Polynesia'</li><li>'St. Vincent Grenadines'</li><li>'Saint Martin'</li><li>'Macao'</li><li>'Curaçao'</li><li>'Fiji'</li><li>'Saint Lucia'</li><li>'Timor-Leste'</li><li>'Grenada'</li><li>'New Caledonia'</li><li>'Laos'</li><li>'Dominica'</li><li>'Saint Kitts and Nevis'</li><li>'Greenland'</li><li>'Montserrat'</li><li>'Caribbean Netherlands'</li><li>'Falkland Islands'</li><li>'Vatican City'</li><li>'Western Sahara'</li></ol>\n"
            ]
          },
          "metadata": {}
        }
      ]
    },
    {
      "cell_type": "code",
      "source": [
        "sum(is.na(data$NewDeaths))"
      ],
      "metadata": {
        "colab": {
          "base_uri": "https://localhost:8080/",
          "height": 35
        },
        "id": "N4CrmIKA92Nq",
        "outputId": "49c46eb3-3c55-4e0e-eae5-c21714393ad6"
      },
      "execution_count": null,
      "outputs": [
        {
          "output_type": "display_data",
          "data": {
            "text/plain": [
              "[1] 205"
            ],
            "text/latex": "205",
            "text/markdown": "205",
            "text/html": [
              "205"
            ]
          },
          "metadata": {}
        }
      ]
    },
    {
      "cell_type": "code",
      "source": [
        "ba_data=select(data,-NewDeaths,-NewRecovered,-NewCases)"
      ],
      "metadata": {
        "id": "VedVbYu-92LF"
      },
      "execution_count": null,
      "outputs": []
    },
    {
      "cell_type": "code",
      "source": [
        "ba_data"
      ],
      "metadata": {
        "colab": {
          "base_uri": "https://localhost:8080/",
          "height": 1000
        },
        "id": "UGTxcgAH92Hd",
        "outputId": "507bb6f9-f4a6-4525-ba8f-bf7899e05e08"
      },
      "execution_count": null,
      "outputs": [
        {
          "output_type": "display_data",
          "data": {
            "text/plain": [
              "    X   Country.Region         Continent         Population TotalCases\n",
              "1    0  USA                    North America      331198130 5032179   \n",
              "2    1  Brazil                 South America      212710692 2917562   \n",
              "3    2  India                  Asia              1381344997 2025409   \n",
              "4    3  Russia                 Europe             145940924  871894   \n",
              "5    4  South Africa           Africa              59381566  538184   \n",
              "6    5  Mexico                 North America      129066160  462690   \n",
              "7    6  Peru                   South America       33016319  455409   \n",
              "8    7  Chile                  South America       19132514  366671   \n",
              "9    8  Colombia               South America       50936262  357710   \n",
              "10   9  Spain                  Europe              46756648  354530   \n",
              "11  10  Iran                   Asia                84097623  320117   \n",
              "12  11  UK                     Europe              67922029  308134   \n",
              "13  12  Saudi Arabia           Asia                34865919  284226   \n",
              "14  13  Pakistan               Asia               221295851  281863   \n",
              "15  14  Bangladesh             Asia               164851401  249651   \n",
              "16  15  Italy                  Europe              60452568  249204   \n",
              "17  16  Turkey                 Asia                84428331  237265   \n",
              "18  17  Argentina              South America       45236884  228195   \n",
              "19  18  Germany                Europe              83811260  215210   \n",
              "20  19  France                 Europe              65288306  195633   \n",
              "21  20  Iraq                   Asia                40306025  140603   \n",
              "22  21  Philippines            Asia               109722719  119460   \n",
              "23  22  Indonesia              Asia               273808365  118753   \n",
              "24  23  Canada                 North America       37775022  118561   \n",
              "25  24  Qatar                  Asia                 2807805  112092   \n",
              "26  25  Kazakhstan             Asia                18798667   95942   \n",
              "27  26  Egypt                  Africa             102516525   95006   \n",
              "28  27  Ecuador                South America       17668824   90537   \n",
              "29  28  Bolivia                South America       11688459   86423   \n",
              "30  29  Sweden                 Europe              10105596   81967   \n",
              "⋮   ⋮   ⋮                      ⋮                 ⋮          ⋮         \n",
              "179 178 Sint Maarten           North America       42924    160       \n",
              "180 179 Bermuda                North America       62254    157       \n",
              "181 180 Brunei                 Asia               437893    141       \n",
              "182 181 Barbados               North America      287411    133       \n",
              "183 182 Turks and Caicos       North America       38768    129       \n",
              "184 183 Seychelles             Africa              98408    126       \n",
              "185 184 Monaco                 Europe              39270    125       \n",
              "186 185 Bhutan                 Asia               772443    105       \n",
              "187 186 Antigua and Barbuda    North America       98010     92       \n",
              "188 187 Liechtenstein          Europe              38139     89       \n",
              "189 188 Belize                 North America      398312     86       \n",
              "190 189 French Polynesia       Australia/Oceania  281072     64       \n",
              "191 190 St. Vincent Grenadines North America      110976     56       \n",
              "192 191 Saint Martin           North America       38729     53       \n",
              "193 192 Macao                  Asia               650193     46       \n",
              "194 193 Curaçao                North America      164161     31       \n",
              "195 194 Fiji                   Australia/Oceania  897095     27       \n",
              "196 195 Saint Lucia            North America      183712     25       \n",
              "197 196 Timor-Leste            Asia              1320812     25       \n",
              "198 197 Grenada                North America      112576     24       \n",
              "199 198 New Caledonia          Australia/Oceania  285769     22       \n",
              "200 199 Laos                   Asia              7285750     20       \n",
              "201 200 Dominica               North America       72004     18       \n",
              "202 201 Saint Kitts and Nevis  North America       53237     17       \n",
              "203 202 Greenland              North America       56780     14       \n",
              "204 203 Montserrat             North America        4992     13       \n",
              "205 204 Caribbean Netherlands  North America       26247     13       \n",
              "206 205 Falkland Islands       South America        3489     13       \n",
              "207 206 Vatican City           Europe                801     12       \n",
              "208 207 Western Sahara         Africa             598682     10       \n",
              "    TotalDeaths TotalRecovered ActiveCases Serious.Critical TotalTests\n",
              "1   162804      2576668        2292707     18296            63139605  \n",
              "2    98644      2047660         771258      8318            13206188  \n",
              "3    41638      1377384         606387      8944            22149351  \n",
              "4    14606       676357         180931      2300            29716907  \n",
              "5     9604       387316         141264       539             3149807  \n",
              "6    50517       308848         103325      3987             1056915  \n",
              "7    20424       310337         124648      1426             2493429  \n",
              "8     9889       340168          16614      1358             1760615  \n",
              "9    11939       192355         153416      1493             1801835  \n",
              "10   28500       164329          19880       617             7064329  \n",
              "11   17976       277463          24678      4156             2612763  \n",
              "12   46413       261721              0        73            17515234  \n",
              "13    3055       247089          34082      1915             3635705  \n",
              "14    6035       256058          19770       809             2058872  \n",
              "15    3306       143824         102521        NA             1225124  \n",
              "16   35187       201323          12694        42             7099713  \n",
              "17    5798       220546          10921       580             5081802  \n",
              "18    4251        99852         124092      1150              794544  \n",
              "19    9252       196200           9758       236             8586648  \n",
              "20   30312        82460          82861       384             3992206  \n",
              "21    5161       101025          34417       517             1092741  \n",
              "22    2150        66837          50473       239             1669996  \n",
              "23    5521        75645          37587        NA             1633156  \n",
              "24    8966       103106           6489      2263             4319172  \n",
              "25     178       108831           3083        77              511000  \n",
              "26    1058        68871          26013       221             2163713  \n",
              "27    4951        48898          41157        41              135000  \n",
              "28    5877        71318          13342       378              258582  \n",
              "29    3465        27373          55585        71              183583  \n",
              "30    5766        76201             NA        38              863315  \n",
              "⋮   ⋮           ⋮              ⋮           ⋮                ⋮         \n",
              "179 16           64            80           3                1115     \n",
              "180  9          144             4          NA               26352     \n",
              "181  3          138             0          NA               41148     \n",
              "182  7          100            26          NA               12233     \n",
              "183  2           39            88           3                1252     \n",
              "184 NA          124             2          NA                  NA     \n",
              "185  4          105            16           2               38209     \n",
              "186 NA           93            12          NA               54589     \n",
              "187  3           76            13           1                1500     \n",
              "188  1           85             3          NA                 900     \n",
              "189  2           31            53           2                3679     \n",
              "190 NA           62             2          NA                5849     \n",
              "191 NA           46            10          NA                2447     \n",
              "192  3           41             9           1                1183     \n",
              "193 NA           46             0          NA                4071     \n",
              "194  1           28             2          NA                1080     \n",
              "195  1           18             8          NA                6693     \n",
              "196 NA           24             1          NA                3895     \n",
              "197 NA           24             1          NA                4238     \n",
              "198 NA           23             1          NA                6252     \n",
              "199 NA           22             0          NA               11099     \n",
              "200 NA           19             1          NA               29374     \n",
              "201 NA           18             0          NA                1005     \n",
              "202 NA           16             1          NA                1146     \n",
              "203 NA           14             0          NA                5977     \n",
              "204  1           10             2          NA                  61     \n",
              "205 NA            7             6          NA                 424     \n",
              "206 NA           13             0          NA                1816     \n",
              "207 NA           12             0          NA                  NA     \n",
              "208  1            8             1          NA                  NA     \n",
              "    WHO.Region          \n",
              "1   Americas            \n",
              "2   Americas            \n",
              "3   South-EastAsia      \n",
              "4   Europe              \n",
              "5   Africa              \n",
              "6   Americas            \n",
              "7   Americas            \n",
              "8   Americas            \n",
              "9   Americas            \n",
              "10  Europe              \n",
              "11  EasternMediterranean\n",
              "12  Europe              \n",
              "13  EasternMediterranean\n",
              "14  EasternMediterranean\n",
              "15  South-EastAsia      \n",
              "16  Europe              \n",
              "17  Europe              \n",
              "18  Americas            \n",
              "19  Europe              \n",
              "20  Europe              \n",
              "21  EasternMediterranean\n",
              "22  WesternPacific      \n",
              "23  South-EastAsia      \n",
              "24  Americas            \n",
              "25  EasternMediterranean\n",
              "26  Europe              \n",
              "27  EasternMediterranean\n",
              "28  Americas            \n",
              "29  Americas            \n",
              "30  Europe              \n",
              "⋮   ⋮                   \n",
              "179                     \n",
              "180 Americas            \n",
              "181                     \n",
              "182 Americas            \n",
              "183                     \n",
              "184 Africa              \n",
              "185 Europe              \n",
              "186 South-EastAsia      \n",
              "187 Americas            \n",
              "188 Europe              \n",
              "189 Americas            \n",
              "190                     \n",
              "191                     \n",
              "192                     \n",
              "193                     \n",
              "194                     \n",
              "195 WesternPacific      \n",
              "196 Americas            \n",
              "197 South-EastAsia      \n",
              "198 Americas            \n",
              "199                     \n",
              "200 WesternPacific      \n",
              "201 Americas            \n",
              "202 Americas            \n",
              "203 Europe              \n",
              "204                     \n",
              "205                     \n",
              "206                     \n",
              "207 Europe              \n",
              "208 Africa              "
            ],
            "text/latex": "A data.frame: 208 × 11\n\\begin{tabular}{lllllllllll}\n X & Country.Region & Continent & Population & TotalCases & TotalDeaths & TotalRecovered & ActiveCases & Serious.Critical & TotalTests & WHO.Region\\\\\n <int> & <chr> & <chr> & <int> & <int> & <dbl> & <dbl> & <dbl> & <dbl> & <dbl> & <chr>\\\\\n\\hline\n\t  0 & USA          & North America &  331198130 & 5032179 & 162804 & 2576668 & 2292707 & 18296 & 63139605 & Americas            \\\\\n\t  1 & Brazil       & South America &  212710692 & 2917562 &  98644 & 2047660 &  771258 &  8318 & 13206188 & Americas            \\\\\n\t  2 & India        & Asia          & 1381344997 & 2025409 &  41638 & 1377384 &  606387 &  8944 & 22149351 & South-EastAsia      \\\\\n\t  3 & Russia       & Europe        &  145940924 &  871894 &  14606 &  676357 &  180931 &  2300 & 29716907 & Europe              \\\\\n\t  4 & South Africa & Africa        &   59381566 &  538184 &   9604 &  387316 &  141264 &   539 &  3149807 & Africa              \\\\\n\t  5 & Mexico       & North America &  129066160 &  462690 &  50517 &  308848 &  103325 &  3987 &  1056915 & Americas            \\\\\n\t  6 & Peru         & South America &   33016319 &  455409 &  20424 &  310337 &  124648 &  1426 &  2493429 & Americas            \\\\\n\t  7 & Chile        & South America &   19132514 &  366671 &   9889 &  340168 &   16614 &  1358 &  1760615 & Americas            \\\\\n\t  8 & Colombia     & South America &   50936262 &  357710 &  11939 &  192355 &  153416 &  1493 &  1801835 & Americas            \\\\\n\t  9 & Spain        & Europe        &   46756648 &  354530 &  28500 &  164329 &   19880 &   617 &  7064329 & Europe              \\\\\n\t 10 & Iran         & Asia          &   84097623 &  320117 &  17976 &  277463 &   24678 &  4156 &  2612763 & EasternMediterranean\\\\\n\t 11 & UK           & Europe        &   67922029 &  308134 &  46413 &  261721 &       0 &    73 & 17515234 & Europe              \\\\\n\t 12 & Saudi Arabia & Asia          &   34865919 &  284226 &   3055 &  247089 &   34082 &  1915 &  3635705 & EasternMediterranean\\\\\n\t 13 & Pakistan     & Asia          &  221295851 &  281863 &   6035 &  256058 &   19770 &   809 &  2058872 & EasternMediterranean\\\\\n\t 14 & Bangladesh   & Asia          &  164851401 &  249651 &   3306 &  143824 &  102521 &    NA &  1225124 & South-EastAsia      \\\\\n\t 15 & Italy        & Europe        &   60452568 &  249204 &  35187 &  201323 &   12694 &    42 &  7099713 & Europe              \\\\\n\t 16 & Turkey       & Asia          &   84428331 &  237265 &   5798 &  220546 &   10921 &   580 &  5081802 & Europe              \\\\\n\t 17 & Argentina    & South America &   45236884 &  228195 &   4251 &   99852 &  124092 &  1150 &   794544 & Americas            \\\\\n\t 18 & Germany      & Europe        &   83811260 &  215210 &   9252 &  196200 &    9758 &   236 &  8586648 & Europe              \\\\\n\t 19 & France       & Europe        &   65288306 &  195633 &  30312 &   82460 &   82861 &   384 &  3992206 & Europe              \\\\\n\t 20 & Iraq         & Asia          &   40306025 &  140603 &   5161 &  101025 &   34417 &   517 &  1092741 & EasternMediterranean\\\\\n\t 21 & Philippines  & Asia          &  109722719 &  119460 &   2150 &   66837 &   50473 &   239 &  1669996 & WesternPacific      \\\\\n\t 22 & Indonesia    & Asia          &  273808365 &  118753 &   5521 &   75645 &   37587 &    NA &  1633156 & South-EastAsia      \\\\\n\t 23 & Canada       & North America &   37775022 &  118561 &   8966 &  103106 &    6489 &  2263 &  4319172 & Americas            \\\\\n\t 24 & Qatar        & Asia          &    2807805 &  112092 &    178 &  108831 &    3083 &    77 &   511000 & EasternMediterranean\\\\\n\t 25 & Kazakhstan   & Asia          &   18798667 &   95942 &   1058 &   68871 &   26013 &   221 &  2163713 & Europe              \\\\\n\t 26 & Egypt        & Africa        &  102516525 &   95006 &   4951 &   48898 &   41157 &    41 &   135000 & EasternMediterranean\\\\\n\t 27 & Ecuador      & South America &   17668824 &   90537 &   5877 &   71318 &   13342 &   378 &   258582 & Americas            \\\\\n\t 28 & Bolivia      & South America &   11688459 &   86423 &   3465 &   27373 &   55585 &    71 &   183583 & Americas            \\\\\n\t 29 & Sweden       & Europe        &   10105596 &   81967 &   5766 &   76201 &      NA &    38 &   863315 & Europe              \\\\\n\t ⋮ & ⋮ & ⋮ & ⋮ & ⋮ & ⋮ & ⋮ & ⋮ & ⋮ & ⋮ & ⋮\\\\\n\t 178 & Sint Maarten           & North America     &   42924 & 160 & 16 &  64 & 80 &  3 &  1115 &               \\\\\n\t 179 & Bermuda                & North America     &   62254 & 157 &  9 & 144 &  4 & NA & 26352 & Americas      \\\\\n\t 180 & Brunei                 & Asia              &  437893 & 141 &  3 & 138 &  0 & NA & 41148 &               \\\\\n\t 181 & Barbados               & North America     &  287411 & 133 &  7 & 100 & 26 & NA & 12233 & Americas      \\\\\n\t 182 & Turks and Caicos       & North America     &   38768 & 129 &  2 &  39 & 88 &  3 &  1252 &               \\\\\n\t 183 & Seychelles             & Africa            &   98408 & 126 & NA & 124 &  2 & NA &    NA & Africa        \\\\\n\t 184 & Monaco                 & Europe            &   39270 & 125 &  4 & 105 & 16 &  2 & 38209 & Europe        \\\\\n\t 185 & Bhutan                 & Asia              &  772443 & 105 & NA &  93 & 12 & NA & 54589 & South-EastAsia\\\\\n\t 186 & Antigua and Barbuda    & North America     &   98010 &  92 &  3 &  76 & 13 &  1 &  1500 & Americas      \\\\\n\t 187 & Liechtenstein          & Europe            &   38139 &  89 &  1 &  85 &  3 & NA &   900 & Europe        \\\\\n\t 188 & Belize                 & North America     &  398312 &  86 &  2 &  31 & 53 &  2 &  3679 & Americas      \\\\\n\t 189 & French Polynesia       & Australia/Oceania &  281072 &  64 & NA &  62 &  2 & NA &  5849 &               \\\\\n\t 190 & St. Vincent Grenadines & North America     &  110976 &  56 & NA &  46 & 10 & NA &  2447 &               \\\\\n\t 191 & Saint Martin           & North America     &   38729 &  53 &  3 &  41 &  9 &  1 &  1183 &               \\\\\n\t 192 & Macao                  & Asia              &  650193 &  46 & NA &  46 &  0 & NA &  4071 &               \\\\\n\t 193 & Curaçao                & North America     &  164161 &  31 &  1 &  28 &  2 & NA &  1080 &               \\\\\n\t 194 & Fiji                   & Australia/Oceania &  897095 &  27 &  1 &  18 &  8 & NA &  6693 & WesternPacific\\\\\n\t 195 & Saint Lucia            & North America     &  183712 &  25 & NA &  24 &  1 & NA &  3895 & Americas      \\\\\n\t 196 & Timor-Leste            & Asia              & 1320812 &  25 & NA &  24 &  1 & NA &  4238 & South-EastAsia\\\\\n\t 197 & Grenada                & North America     &  112576 &  24 & NA &  23 &  1 & NA &  6252 & Americas      \\\\\n\t 198 & New Caledonia          & Australia/Oceania &  285769 &  22 & NA &  22 &  0 & NA & 11099 &               \\\\\n\t 199 & Laos                   & Asia              & 7285750 &  20 & NA &  19 &  1 & NA & 29374 & WesternPacific\\\\\n\t 200 & Dominica               & North America     &   72004 &  18 & NA &  18 &  0 & NA &  1005 & Americas      \\\\\n\t 201 & Saint Kitts and Nevis  & North America     &   53237 &  17 & NA &  16 &  1 & NA &  1146 & Americas      \\\\\n\t 202 & Greenland              & North America     &   56780 &  14 & NA &  14 &  0 & NA &  5977 & Europe        \\\\\n\t 203 & Montserrat             & North America     &    4992 &  13 &  1 &  10 &  2 & NA &    61 &               \\\\\n\t 204 & Caribbean Netherlands  & North America     &   26247 &  13 & NA &   7 &  6 & NA &   424 &               \\\\\n\t 205 & Falkland Islands       & South America     &    3489 &  13 & NA &  13 &  0 & NA &  1816 &               \\\\\n\t 206 & Vatican City           & Europe            &     801 &  12 & NA &  12 &  0 & NA &    NA & Europe        \\\\\n\t 207 & Western Sahara         & Africa            &  598682 &  10 &  1 &   8 &  1 & NA &    NA & Africa        \\\\\n\\end{tabular}\n",
            "text/markdown": "\nA data.frame: 208 × 11\n\n| X &lt;int&gt; | Country.Region &lt;chr&gt; | Continent &lt;chr&gt; | Population &lt;int&gt; | TotalCases &lt;int&gt; | TotalDeaths &lt;dbl&gt; | TotalRecovered &lt;dbl&gt; | ActiveCases &lt;dbl&gt; | Serious.Critical &lt;dbl&gt; | TotalTests &lt;dbl&gt; | WHO.Region &lt;chr&gt; |\n|---|---|---|---|---|---|---|---|---|---|---|\n|  0 | USA          | North America |  331198130 | 5032179 | 162804 | 2576668 | 2292707 | 18296 | 63139605 | Americas             |\n|  1 | Brazil       | South America |  212710692 | 2917562 |  98644 | 2047660 |  771258 |  8318 | 13206188 | Americas             |\n|  2 | India        | Asia          | 1381344997 | 2025409 |  41638 | 1377384 |  606387 |  8944 | 22149351 | South-EastAsia       |\n|  3 | Russia       | Europe        |  145940924 |  871894 |  14606 |  676357 |  180931 |  2300 | 29716907 | Europe               |\n|  4 | South Africa | Africa        |   59381566 |  538184 |   9604 |  387316 |  141264 |   539 |  3149807 | Africa               |\n|  5 | Mexico       | North America |  129066160 |  462690 |  50517 |  308848 |  103325 |  3987 |  1056915 | Americas             |\n|  6 | Peru         | South America |   33016319 |  455409 |  20424 |  310337 |  124648 |  1426 |  2493429 | Americas             |\n|  7 | Chile        | South America |   19132514 |  366671 |   9889 |  340168 |   16614 |  1358 |  1760615 | Americas             |\n|  8 | Colombia     | South America |   50936262 |  357710 |  11939 |  192355 |  153416 |  1493 |  1801835 | Americas             |\n|  9 | Spain        | Europe        |   46756648 |  354530 |  28500 |  164329 |   19880 |   617 |  7064329 | Europe               |\n| 10 | Iran         | Asia          |   84097623 |  320117 |  17976 |  277463 |   24678 |  4156 |  2612763 | EasternMediterranean |\n| 11 | UK           | Europe        |   67922029 |  308134 |  46413 |  261721 |       0 |    73 | 17515234 | Europe               |\n| 12 | Saudi Arabia | Asia          |   34865919 |  284226 |   3055 |  247089 |   34082 |  1915 |  3635705 | EasternMediterranean |\n| 13 | Pakistan     | Asia          |  221295851 |  281863 |   6035 |  256058 |   19770 |   809 |  2058872 | EasternMediterranean |\n| 14 | Bangladesh   | Asia          |  164851401 |  249651 |   3306 |  143824 |  102521 |    NA |  1225124 | South-EastAsia       |\n| 15 | Italy        | Europe        |   60452568 |  249204 |  35187 |  201323 |   12694 |    42 |  7099713 | Europe               |\n| 16 | Turkey       | Asia          |   84428331 |  237265 |   5798 |  220546 |   10921 |   580 |  5081802 | Europe               |\n| 17 | Argentina    | South America |   45236884 |  228195 |   4251 |   99852 |  124092 |  1150 |   794544 | Americas             |\n| 18 | Germany      | Europe        |   83811260 |  215210 |   9252 |  196200 |    9758 |   236 |  8586648 | Europe               |\n| 19 | France       | Europe        |   65288306 |  195633 |  30312 |   82460 |   82861 |   384 |  3992206 | Europe               |\n| 20 | Iraq         | Asia          |   40306025 |  140603 |   5161 |  101025 |   34417 |   517 |  1092741 | EasternMediterranean |\n| 21 | Philippines  | Asia          |  109722719 |  119460 |   2150 |   66837 |   50473 |   239 |  1669996 | WesternPacific       |\n| 22 | Indonesia    | Asia          |  273808365 |  118753 |   5521 |   75645 |   37587 |    NA |  1633156 | South-EastAsia       |\n| 23 | Canada       | North America |   37775022 |  118561 |   8966 |  103106 |    6489 |  2263 |  4319172 | Americas             |\n| 24 | Qatar        | Asia          |    2807805 |  112092 |    178 |  108831 |    3083 |    77 |   511000 | EasternMediterranean |\n| 25 | Kazakhstan   | Asia          |   18798667 |   95942 |   1058 |   68871 |   26013 |   221 |  2163713 | Europe               |\n| 26 | Egypt        | Africa        |  102516525 |   95006 |   4951 |   48898 |   41157 |    41 |   135000 | EasternMediterranean |\n| 27 | Ecuador      | South America |   17668824 |   90537 |   5877 |   71318 |   13342 |   378 |   258582 | Americas             |\n| 28 | Bolivia      | South America |   11688459 |   86423 |   3465 |   27373 |   55585 |    71 |   183583 | Americas             |\n| 29 | Sweden       | Europe        |   10105596 |   81967 |   5766 |   76201 |      NA |    38 |   863315 | Europe               |\n| ⋮ | ⋮ | ⋮ | ⋮ | ⋮ | ⋮ | ⋮ | ⋮ | ⋮ | ⋮ | ⋮ |\n| 178 | Sint Maarten           | North America     |   42924 | 160 | 16 |  64 | 80 |  3 |  1115 | <!----> |\n| 179 | Bermuda                | North America     |   62254 | 157 |  9 | 144 |  4 | NA | 26352 | Americas       |\n| 180 | Brunei                 | Asia              |  437893 | 141 |  3 | 138 |  0 | NA | 41148 | <!----> |\n| 181 | Barbados               | North America     |  287411 | 133 |  7 | 100 | 26 | NA | 12233 | Americas       |\n| 182 | Turks and Caicos       | North America     |   38768 | 129 |  2 |  39 | 88 |  3 |  1252 | <!----> |\n| 183 | Seychelles             | Africa            |   98408 | 126 | NA | 124 |  2 | NA |    NA | Africa         |\n| 184 | Monaco                 | Europe            |   39270 | 125 |  4 | 105 | 16 |  2 | 38209 | Europe         |\n| 185 | Bhutan                 | Asia              |  772443 | 105 | NA |  93 | 12 | NA | 54589 | South-EastAsia |\n| 186 | Antigua and Barbuda    | North America     |   98010 |  92 |  3 |  76 | 13 |  1 |  1500 | Americas       |\n| 187 | Liechtenstein          | Europe            |   38139 |  89 |  1 |  85 |  3 | NA |   900 | Europe         |\n| 188 | Belize                 | North America     |  398312 |  86 |  2 |  31 | 53 |  2 |  3679 | Americas       |\n| 189 | French Polynesia       | Australia/Oceania |  281072 |  64 | NA |  62 |  2 | NA |  5849 | <!----> |\n| 190 | St. Vincent Grenadines | North America     |  110976 |  56 | NA |  46 | 10 | NA |  2447 | <!----> |\n| 191 | Saint Martin           | North America     |   38729 |  53 |  3 |  41 |  9 |  1 |  1183 | <!----> |\n| 192 | Macao                  | Asia              |  650193 |  46 | NA |  46 |  0 | NA |  4071 | <!----> |\n| 193 | Curaçao                | North America     |  164161 |  31 |  1 |  28 |  2 | NA |  1080 | <!----> |\n| 194 | Fiji                   | Australia/Oceania |  897095 |  27 |  1 |  18 |  8 | NA |  6693 | WesternPacific |\n| 195 | Saint Lucia            | North America     |  183712 |  25 | NA |  24 |  1 | NA |  3895 | Americas       |\n| 196 | Timor-Leste            | Asia              | 1320812 |  25 | NA |  24 |  1 | NA |  4238 | South-EastAsia |\n| 197 | Grenada                | North America     |  112576 |  24 | NA |  23 |  1 | NA |  6252 | Americas       |\n| 198 | New Caledonia          | Australia/Oceania |  285769 |  22 | NA |  22 |  0 | NA | 11099 | <!----> |\n| 199 | Laos                   | Asia              | 7285750 |  20 | NA |  19 |  1 | NA | 29374 | WesternPacific |\n| 200 | Dominica               | North America     |   72004 |  18 | NA |  18 |  0 | NA |  1005 | Americas       |\n| 201 | Saint Kitts and Nevis  | North America     |   53237 |  17 | NA |  16 |  1 | NA |  1146 | Americas       |\n| 202 | Greenland              | North America     |   56780 |  14 | NA |  14 |  0 | NA |  5977 | Europe         |\n| 203 | Montserrat             | North America     |    4992 |  13 |  1 |  10 |  2 | NA |    61 | <!----> |\n| 204 | Caribbean Netherlands  | North America     |   26247 |  13 | NA |   7 |  6 | NA |   424 | <!----> |\n| 205 | Falkland Islands       | South America     |    3489 |  13 | NA |  13 |  0 | NA |  1816 | <!----> |\n| 206 | Vatican City           | Europe            |     801 |  12 | NA |  12 |  0 | NA |    NA | Europe         |\n| 207 | Western Sahara         | Africa            |  598682 |  10 |  1 |   8 |  1 | NA |    NA | Africa         |\n\n",
            "text/html": [
              "<table class=\"dataframe\">\n",
              "<caption>A data.frame: 208 × 11</caption>\n",
              "<thead>\n",
              "\t<tr><th scope=col>X</th><th scope=col>Country.Region</th><th scope=col>Continent</th><th scope=col>Population</th><th scope=col>TotalCases</th><th scope=col>TotalDeaths</th><th scope=col>TotalRecovered</th><th scope=col>ActiveCases</th><th scope=col>Serious.Critical</th><th scope=col>TotalTests</th><th scope=col>WHO.Region</th></tr>\n",
              "\t<tr><th scope=col>&lt;int&gt;</th><th scope=col>&lt;chr&gt;</th><th scope=col>&lt;chr&gt;</th><th scope=col>&lt;int&gt;</th><th scope=col>&lt;int&gt;</th><th scope=col>&lt;dbl&gt;</th><th scope=col>&lt;dbl&gt;</th><th scope=col>&lt;dbl&gt;</th><th scope=col>&lt;dbl&gt;</th><th scope=col>&lt;dbl&gt;</th><th scope=col>&lt;chr&gt;</th></tr>\n",
              "</thead>\n",
              "<tbody>\n",
              "\t<tr><td> 0</td><td>USA         </td><td>North America</td><td> 331198130</td><td>5032179</td><td>162804</td><td>2576668</td><td>2292707</td><td>18296</td><td>63139605</td><td>Americas            </td></tr>\n",
              "\t<tr><td> 1</td><td>Brazil      </td><td>South America</td><td> 212710692</td><td>2917562</td><td> 98644</td><td>2047660</td><td> 771258</td><td> 8318</td><td>13206188</td><td>Americas            </td></tr>\n",
              "\t<tr><td> 2</td><td>India       </td><td>Asia         </td><td>1381344997</td><td>2025409</td><td> 41638</td><td>1377384</td><td> 606387</td><td> 8944</td><td>22149351</td><td>South-EastAsia      </td></tr>\n",
              "\t<tr><td> 3</td><td>Russia      </td><td>Europe       </td><td> 145940924</td><td> 871894</td><td> 14606</td><td> 676357</td><td> 180931</td><td> 2300</td><td>29716907</td><td>Europe              </td></tr>\n",
              "\t<tr><td> 4</td><td>South Africa</td><td>Africa       </td><td>  59381566</td><td> 538184</td><td>  9604</td><td> 387316</td><td> 141264</td><td>  539</td><td> 3149807</td><td>Africa              </td></tr>\n",
              "\t<tr><td> 5</td><td>Mexico      </td><td>North America</td><td> 129066160</td><td> 462690</td><td> 50517</td><td> 308848</td><td> 103325</td><td> 3987</td><td> 1056915</td><td>Americas            </td></tr>\n",
              "\t<tr><td> 6</td><td>Peru        </td><td>South America</td><td>  33016319</td><td> 455409</td><td> 20424</td><td> 310337</td><td> 124648</td><td> 1426</td><td> 2493429</td><td>Americas            </td></tr>\n",
              "\t<tr><td> 7</td><td>Chile       </td><td>South America</td><td>  19132514</td><td> 366671</td><td>  9889</td><td> 340168</td><td>  16614</td><td> 1358</td><td> 1760615</td><td>Americas            </td></tr>\n",
              "\t<tr><td> 8</td><td>Colombia    </td><td>South America</td><td>  50936262</td><td> 357710</td><td> 11939</td><td> 192355</td><td> 153416</td><td> 1493</td><td> 1801835</td><td>Americas            </td></tr>\n",
              "\t<tr><td> 9</td><td>Spain       </td><td>Europe       </td><td>  46756648</td><td> 354530</td><td> 28500</td><td> 164329</td><td>  19880</td><td>  617</td><td> 7064329</td><td>Europe              </td></tr>\n",
              "\t<tr><td>10</td><td>Iran        </td><td>Asia         </td><td>  84097623</td><td> 320117</td><td> 17976</td><td> 277463</td><td>  24678</td><td> 4156</td><td> 2612763</td><td>EasternMediterranean</td></tr>\n",
              "\t<tr><td>11</td><td>UK          </td><td>Europe       </td><td>  67922029</td><td> 308134</td><td> 46413</td><td> 261721</td><td>      0</td><td>   73</td><td>17515234</td><td>Europe              </td></tr>\n",
              "\t<tr><td>12</td><td>Saudi Arabia</td><td>Asia         </td><td>  34865919</td><td> 284226</td><td>  3055</td><td> 247089</td><td>  34082</td><td> 1915</td><td> 3635705</td><td>EasternMediterranean</td></tr>\n",
              "\t<tr><td>13</td><td>Pakistan    </td><td>Asia         </td><td> 221295851</td><td> 281863</td><td>  6035</td><td> 256058</td><td>  19770</td><td>  809</td><td> 2058872</td><td>EasternMediterranean</td></tr>\n",
              "\t<tr><td>14</td><td>Bangladesh  </td><td>Asia         </td><td> 164851401</td><td> 249651</td><td>  3306</td><td> 143824</td><td> 102521</td><td>   NA</td><td> 1225124</td><td>South-EastAsia      </td></tr>\n",
              "\t<tr><td>15</td><td>Italy       </td><td>Europe       </td><td>  60452568</td><td> 249204</td><td> 35187</td><td> 201323</td><td>  12694</td><td>   42</td><td> 7099713</td><td>Europe              </td></tr>\n",
              "\t<tr><td>16</td><td>Turkey      </td><td>Asia         </td><td>  84428331</td><td> 237265</td><td>  5798</td><td> 220546</td><td>  10921</td><td>  580</td><td> 5081802</td><td>Europe              </td></tr>\n",
              "\t<tr><td>17</td><td>Argentina   </td><td>South America</td><td>  45236884</td><td> 228195</td><td>  4251</td><td>  99852</td><td> 124092</td><td> 1150</td><td>  794544</td><td>Americas            </td></tr>\n",
              "\t<tr><td>18</td><td>Germany     </td><td>Europe       </td><td>  83811260</td><td> 215210</td><td>  9252</td><td> 196200</td><td>   9758</td><td>  236</td><td> 8586648</td><td>Europe              </td></tr>\n",
              "\t<tr><td>19</td><td>France      </td><td>Europe       </td><td>  65288306</td><td> 195633</td><td> 30312</td><td>  82460</td><td>  82861</td><td>  384</td><td> 3992206</td><td>Europe              </td></tr>\n",
              "\t<tr><td>20</td><td>Iraq        </td><td>Asia         </td><td>  40306025</td><td> 140603</td><td>  5161</td><td> 101025</td><td>  34417</td><td>  517</td><td> 1092741</td><td>EasternMediterranean</td></tr>\n",
              "\t<tr><td>21</td><td>Philippines </td><td>Asia         </td><td> 109722719</td><td> 119460</td><td>  2150</td><td>  66837</td><td>  50473</td><td>  239</td><td> 1669996</td><td>WesternPacific      </td></tr>\n",
              "\t<tr><td>22</td><td>Indonesia   </td><td>Asia         </td><td> 273808365</td><td> 118753</td><td>  5521</td><td>  75645</td><td>  37587</td><td>   NA</td><td> 1633156</td><td>South-EastAsia      </td></tr>\n",
              "\t<tr><td>23</td><td>Canada      </td><td>North America</td><td>  37775022</td><td> 118561</td><td>  8966</td><td> 103106</td><td>   6489</td><td> 2263</td><td> 4319172</td><td>Americas            </td></tr>\n",
              "\t<tr><td>24</td><td>Qatar       </td><td>Asia         </td><td>   2807805</td><td> 112092</td><td>   178</td><td> 108831</td><td>   3083</td><td>   77</td><td>  511000</td><td>EasternMediterranean</td></tr>\n",
              "\t<tr><td>25</td><td>Kazakhstan  </td><td>Asia         </td><td>  18798667</td><td>  95942</td><td>  1058</td><td>  68871</td><td>  26013</td><td>  221</td><td> 2163713</td><td>Europe              </td></tr>\n",
              "\t<tr><td>26</td><td>Egypt       </td><td>Africa       </td><td> 102516525</td><td>  95006</td><td>  4951</td><td>  48898</td><td>  41157</td><td>   41</td><td>  135000</td><td>EasternMediterranean</td></tr>\n",
              "\t<tr><td>27</td><td>Ecuador     </td><td>South America</td><td>  17668824</td><td>  90537</td><td>  5877</td><td>  71318</td><td>  13342</td><td>  378</td><td>  258582</td><td>Americas            </td></tr>\n",
              "\t<tr><td>28</td><td>Bolivia     </td><td>South America</td><td>  11688459</td><td>  86423</td><td>  3465</td><td>  27373</td><td>  55585</td><td>   71</td><td>  183583</td><td>Americas            </td></tr>\n",
              "\t<tr><td>29</td><td>Sweden      </td><td>Europe       </td><td>  10105596</td><td>  81967</td><td>  5766</td><td>  76201</td><td>     NA</td><td>   38</td><td>  863315</td><td>Europe              </td></tr>\n",
              "\t<tr><td>⋮</td><td>⋮</td><td>⋮</td><td>⋮</td><td>⋮</td><td>⋮</td><td>⋮</td><td>⋮</td><td>⋮</td><td>⋮</td><td>⋮</td></tr>\n",
              "\t<tr><td>178</td><td>Sint Maarten          </td><td>North America    </td><td>  42924</td><td>160</td><td>16</td><td> 64</td><td>80</td><td> 3</td><td> 1115</td><td>              </td></tr>\n",
              "\t<tr><td>179</td><td>Bermuda               </td><td>North America    </td><td>  62254</td><td>157</td><td> 9</td><td>144</td><td> 4</td><td>NA</td><td>26352</td><td>Americas      </td></tr>\n",
              "\t<tr><td>180</td><td>Brunei                </td><td>Asia             </td><td> 437893</td><td>141</td><td> 3</td><td>138</td><td> 0</td><td>NA</td><td>41148</td><td>              </td></tr>\n",
              "\t<tr><td>181</td><td>Barbados              </td><td>North America    </td><td> 287411</td><td>133</td><td> 7</td><td>100</td><td>26</td><td>NA</td><td>12233</td><td>Americas      </td></tr>\n",
              "\t<tr><td>182</td><td>Turks and Caicos      </td><td>North America    </td><td>  38768</td><td>129</td><td> 2</td><td> 39</td><td>88</td><td> 3</td><td> 1252</td><td>              </td></tr>\n",
              "\t<tr><td>183</td><td>Seychelles            </td><td>Africa           </td><td>  98408</td><td>126</td><td>NA</td><td>124</td><td> 2</td><td>NA</td><td>   NA</td><td>Africa        </td></tr>\n",
              "\t<tr><td>184</td><td>Monaco                </td><td>Europe           </td><td>  39270</td><td>125</td><td> 4</td><td>105</td><td>16</td><td> 2</td><td>38209</td><td>Europe        </td></tr>\n",
              "\t<tr><td>185</td><td>Bhutan                </td><td>Asia             </td><td> 772443</td><td>105</td><td>NA</td><td> 93</td><td>12</td><td>NA</td><td>54589</td><td>South-EastAsia</td></tr>\n",
              "\t<tr><td>186</td><td>Antigua and Barbuda   </td><td>North America    </td><td>  98010</td><td> 92</td><td> 3</td><td> 76</td><td>13</td><td> 1</td><td> 1500</td><td>Americas      </td></tr>\n",
              "\t<tr><td>187</td><td>Liechtenstein         </td><td>Europe           </td><td>  38139</td><td> 89</td><td> 1</td><td> 85</td><td> 3</td><td>NA</td><td>  900</td><td>Europe        </td></tr>\n",
              "\t<tr><td>188</td><td>Belize                </td><td>North America    </td><td> 398312</td><td> 86</td><td> 2</td><td> 31</td><td>53</td><td> 2</td><td> 3679</td><td>Americas      </td></tr>\n",
              "\t<tr><td>189</td><td>French Polynesia      </td><td>Australia/Oceania</td><td> 281072</td><td> 64</td><td>NA</td><td> 62</td><td> 2</td><td>NA</td><td> 5849</td><td>              </td></tr>\n",
              "\t<tr><td>190</td><td>St. Vincent Grenadines</td><td>North America    </td><td> 110976</td><td> 56</td><td>NA</td><td> 46</td><td>10</td><td>NA</td><td> 2447</td><td>              </td></tr>\n",
              "\t<tr><td>191</td><td>Saint Martin          </td><td>North America    </td><td>  38729</td><td> 53</td><td> 3</td><td> 41</td><td> 9</td><td> 1</td><td> 1183</td><td>              </td></tr>\n",
              "\t<tr><td>192</td><td>Macao                 </td><td>Asia             </td><td> 650193</td><td> 46</td><td>NA</td><td> 46</td><td> 0</td><td>NA</td><td> 4071</td><td>              </td></tr>\n",
              "\t<tr><td>193</td><td>Curaçao               </td><td>North America    </td><td> 164161</td><td> 31</td><td> 1</td><td> 28</td><td> 2</td><td>NA</td><td> 1080</td><td>              </td></tr>\n",
              "\t<tr><td>194</td><td>Fiji                  </td><td>Australia/Oceania</td><td> 897095</td><td> 27</td><td> 1</td><td> 18</td><td> 8</td><td>NA</td><td> 6693</td><td>WesternPacific</td></tr>\n",
              "\t<tr><td>195</td><td>Saint Lucia           </td><td>North America    </td><td> 183712</td><td> 25</td><td>NA</td><td> 24</td><td> 1</td><td>NA</td><td> 3895</td><td>Americas      </td></tr>\n",
              "\t<tr><td>196</td><td>Timor-Leste           </td><td>Asia             </td><td>1320812</td><td> 25</td><td>NA</td><td> 24</td><td> 1</td><td>NA</td><td> 4238</td><td>South-EastAsia</td></tr>\n",
              "\t<tr><td>197</td><td>Grenada               </td><td>North America    </td><td> 112576</td><td> 24</td><td>NA</td><td> 23</td><td> 1</td><td>NA</td><td> 6252</td><td>Americas      </td></tr>\n",
              "\t<tr><td>198</td><td>New Caledonia         </td><td>Australia/Oceania</td><td> 285769</td><td> 22</td><td>NA</td><td> 22</td><td> 0</td><td>NA</td><td>11099</td><td>              </td></tr>\n",
              "\t<tr><td>199</td><td>Laos                  </td><td>Asia             </td><td>7285750</td><td> 20</td><td>NA</td><td> 19</td><td> 1</td><td>NA</td><td>29374</td><td>WesternPacific</td></tr>\n",
              "\t<tr><td>200</td><td>Dominica              </td><td>North America    </td><td>  72004</td><td> 18</td><td>NA</td><td> 18</td><td> 0</td><td>NA</td><td> 1005</td><td>Americas      </td></tr>\n",
              "\t<tr><td>201</td><td>Saint Kitts and Nevis </td><td>North America    </td><td>  53237</td><td> 17</td><td>NA</td><td> 16</td><td> 1</td><td>NA</td><td> 1146</td><td>Americas      </td></tr>\n",
              "\t<tr><td>202</td><td>Greenland             </td><td>North America    </td><td>  56780</td><td> 14</td><td>NA</td><td> 14</td><td> 0</td><td>NA</td><td> 5977</td><td>Europe        </td></tr>\n",
              "\t<tr><td>203</td><td>Montserrat            </td><td>North America    </td><td>   4992</td><td> 13</td><td> 1</td><td> 10</td><td> 2</td><td>NA</td><td>   61</td><td>              </td></tr>\n",
              "\t<tr><td>204</td><td>Caribbean Netherlands </td><td>North America    </td><td>  26247</td><td> 13</td><td>NA</td><td>  7</td><td> 6</td><td>NA</td><td>  424</td><td>              </td></tr>\n",
              "\t<tr><td>205</td><td>Falkland Islands      </td><td>South America    </td><td>   3489</td><td> 13</td><td>NA</td><td> 13</td><td> 0</td><td>NA</td><td> 1816</td><td>              </td></tr>\n",
              "\t<tr><td>206</td><td>Vatican City          </td><td>Europe           </td><td>    801</td><td> 12</td><td>NA</td><td> 12</td><td> 0</td><td>NA</td><td>   NA</td><td>Europe        </td></tr>\n",
              "\t<tr><td>207</td><td>Western Sahara        </td><td>Africa           </td><td> 598682</td><td> 10</td><td> 1</td><td>  8</td><td> 1</td><td>NA</td><td>   NA</td><td>Africa        </td></tr>\n",
              "</tbody>\n",
              "</table>\n"
            ]
          },
          "metadata": {}
        }
      ]
    },
    {
      "cell_type": "markdown",
      "source": [
        "Fill with mean "
      ],
      "metadata": {
        "id": "4vgF_nS9dkpQ"
      }
    },
    {
      "cell_type": "code",
      "source": [
        "mean(ba_data$ActiveCases)\n"
      ],
      "metadata": {
        "colab": {
          "base_uri": "https://localhost:8080/",
          "height": 35
        },
        "id": "p6l0-LclDSc9",
        "outputId": "9c5135c5-6599-40ee-ca2e-9c705c3691a0"
      },
      "execution_count": null,
      "outputs": [
        {
          "output_type": "display_data",
          "data": {
            "text/plain": [
              "[1] NA"
            ],
            "text/latex": "<NA>",
            "text/markdown": "&lt;NA&gt;",
            "text/html": [
              "&lt;NA&gt;"
            ]
          },
          "metadata": {}
        }
      ]
    },
    {
      "cell_type": "code",
      "source": [
        "mean(ba_data$Serious.Critical)"
      ],
      "metadata": {
        "colab": {
          "base_uri": "https://localhost:8080/",
          "height": 35
        },
        "id": "u_oispwYFMMK",
        "outputId": "877121a0-bbe5-463a-dffa-4868c55d43bc"
      },
      "execution_count": null,
      "outputs": [
        {
          "output_type": "display_data",
          "data": {
            "text/plain": [
              "[1] 313.4231"
            ],
            "text/latex": "313.423076923077",
            "text/markdown": "313.423076923077",
            "text/html": [
              "313.423076923077"
            ]
          },
          "metadata": {}
        }
      ]
    },
    {
      "cell_type": "code",
      "source": [
        "ba_data$Serious.Critical[is.na(ba_data$Serious.Critical)]=0"
      ],
      "metadata": {
        "id": "nMCauWySGuiz"
      },
      "execution_count": null,
      "outputs": []
    },
    {
      "cell_type": "code",
      "source": [
        "ba_data$Serious"
      ],
      "metadata": {
        "id": "c4E8F3ymR7FG",
        "colab": {
          "base_uri": "https://localhost:8080/",
          "height": 121
        },
        "outputId": "b6a9025e-333a-4f31-ca60-5b2d4e26b886"
      },
      "execution_count": null,
      "outputs": [
        {
          "output_type": "display_data",
          "data": {
            "text/plain": [
              "  [1] 18296  8318  8944  2300   539  3987  1426  1358  1493   617  4156    73\n",
              " [13]  1915   809     0    42   580  1150   236   384   517   239     0  2263\n",
              " [25]    77   221    41   378    71    38   177   358   158   317   161    61\n",
              " [37]   127     0     0   458    37     0     5    42    72     7    52    41\n",
              " [49]   115     0     7    24    31    23    57    66    31   228   120   362\n",
              " [61]     5    44    42     0    25   103   185    52   509    17    30     0\n",
              " [73]    18     2     0     0    47    88     0     3    33     3     0     2\n",
              " [85]    23    11     0    24     0     0     0     9     3    23    23    46\n",
              " [97]     7     0    14     0     0    12     2     8     4     0     0    39\n",
              "[109]     0     0     1     2     2     5     1     4     0    24     0     2\n",
              "[121]     0     2     6     0     0     0     9     5     1     0     0     0\n",
              "[133]     9     0    20     2     0     3     0     0     0     0     0     0\n",
              "[145]     2     0     0     0     1     0     0     0     1     1     0     0\n",
              "[157]     0     3     0     2     7     0     0     0     0     0     0     1\n",
              "[169]     0     0     1     1     0     1     0     0     0     0     3     0\n",
              "[181]     0     0     3     0     2     0     1     0     2     0     0     1\n",
              "[193]     0     0     0     0     0     0     0     0     0     0     0     0\n",
              "[205]     0     0     0     0"
            ],
            "text/latex": "\\begin{enumerate*}\n\\item 18296\n\\item 8318\n\\item 8944\n\\item 2300\n\\item 539\n\\item 3987\n\\item 1426\n\\item 1358\n\\item 1493\n\\item 617\n\\item 4156\n\\item 73\n\\item 1915\n\\item 809\n\\item 0\n\\item 42\n\\item 580\n\\item 1150\n\\item 236\n\\item 384\n\\item 517\n\\item 239\n\\item 0\n\\item 2263\n\\item 77\n\\item 221\n\\item 41\n\\item 378\n\\item 71\n\\item 38\n\\item 177\n\\item 358\n\\item 158\n\\item 317\n\\item 161\n\\item 61\n\\item 127\n\\item 0\n\\item 0\n\\item 458\n\\item 37\n\\item 0\n\\item 5\n\\item 42\n\\item 72\n\\item 7\n\\item 52\n\\item 41\n\\item 115\n\\item 0\n\\item 7\n\\item 24\n\\item 31\n\\item 23\n\\item 57\n\\item 66\n\\item 31\n\\item 228\n\\item 120\n\\item 362\n\\item 5\n\\item 44\n\\item 42\n\\item 0\n\\item 25\n\\item 103\n\\item 185\n\\item 52\n\\item 509\n\\item 17\n\\item 30\n\\item 0\n\\item 18\n\\item 2\n\\item 0\n\\item 0\n\\item 47\n\\item 88\n\\item 0\n\\item 3\n\\item 33\n\\item 3\n\\item 0\n\\item 2\n\\item 23\n\\item 11\n\\item 0\n\\item 24\n\\item 0\n\\item 0\n\\item 0\n\\item 9\n\\item 3\n\\item 23\n\\item 23\n\\item 46\n\\item 7\n\\item 0\n\\item 14\n\\item 0\n\\item 0\n\\item 12\n\\item 2\n\\item 8\n\\item 4\n\\item 0\n\\item 0\n\\item 39\n\\item 0\n\\item 0\n\\item 1\n\\item 2\n\\item 2\n\\item 5\n\\item 1\n\\item 4\n\\item 0\n\\item 24\n\\item 0\n\\item 2\n\\item 0\n\\item 2\n\\item 6\n\\item 0\n\\item 0\n\\item 0\n\\item 9\n\\item 5\n\\item 1\n\\item 0\n\\item 0\n\\item 0\n\\item 9\n\\item 0\n\\item 20\n\\item 2\n\\item 0\n\\item 3\n\\item 0\n\\item 0\n\\item 0\n\\item 0\n\\item 0\n\\item 0\n\\item 2\n\\item 0\n\\item 0\n\\item 0\n\\item 1\n\\item 0\n\\item 0\n\\item 0\n\\item 1\n\\item 1\n\\item 0\n\\item 0\n\\item 0\n\\item 3\n\\item 0\n\\item 2\n\\item 7\n\\item 0\n\\item 0\n\\item 0\n\\item 0\n\\item 0\n\\item 0\n\\item 1\n\\item 0\n\\item 0\n\\item 1\n\\item 1\n\\item 0\n\\item 1\n\\item 0\n\\item 0\n\\item 0\n\\item 0\n\\item 3\n\\item 0\n\\item 0\n\\item 0\n\\item 3\n\\item 0\n\\item 2\n\\item 0\n\\item 1\n\\item 0\n\\item 2\n\\item 0\n\\item 0\n\\item 1\n\\item 0\n\\item 0\n\\item 0\n\\item 0\n\\item 0\n\\item 0\n\\item 0\n\\item 0\n\\item 0\n\\item 0\n\\item 0\n\\item 0\n\\item 0\n\\item 0\n\\item 0\n\\item 0\n\\end{enumerate*}\n",
            "text/markdown": "1. 18296\n2. 8318\n3. 8944\n4. 2300\n5. 539\n6. 3987\n7. 1426\n8. 1358\n9. 1493\n10. 617\n11. 4156\n12. 73\n13. 1915\n14. 809\n15. 0\n16. 42\n17. 580\n18. 1150\n19. 236\n20. 384\n21. 517\n22. 239\n23. 0\n24. 2263\n25. 77\n26. 221\n27. 41\n28. 378\n29. 71\n30. 38\n31. 177\n32. 358\n33. 158\n34. 317\n35. 161\n36. 61\n37. 127\n38. 0\n39. 0\n40. 458\n41. 37\n42. 0\n43. 5\n44. 42\n45. 72\n46. 7\n47. 52\n48. 41\n49. 115\n50. 0\n51. 7\n52. 24\n53. 31\n54. 23\n55. 57\n56. 66\n57. 31\n58. 228\n59. 120\n60. 362\n61. 5\n62. 44\n63. 42\n64. 0\n65. 25\n66. 103\n67. 185\n68. 52\n69. 509\n70. 17\n71. 30\n72. 0\n73. 18\n74. 2\n75. 0\n76. 0\n77. 47\n78. 88\n79. 0\n80. 3\n81. 33\n82. 3\n83. 0\n84. 2\n85. 23\n86. 11\n87. 0\n88. 24\n89. 0\n90. 0\n91. 0\n92. 9\n93. 3\n94. 23\n95. 23\n96. 46\n97. 7\n98. 0\n99. 14\n100. 0\n101. 0\n102. 12\n103. 2\n104. 8\n105. 4\n106. 0\n107. 0\n108. 39\n109. 0\n110. 0\n111. 1\n112. 2\n113. 2\n114. 5\n115. 1\n116. 4\n117. 0\n118. 24\n119. 0\n120. 2\n121. 0\n122. 2\n123. 6\n124. 0\n125. 0\n126. 0\n127. 9\n128. 5\n129. 1\n130. 0\n131. 0\n132. 0\n133. 9\n134. 0\n135. 20\n136. 2\n137. 0\n138. 3\n139. 0\n140. 0\n141. 0\n142. 0\n143. 0\n144. 0\n145. 2\n146. 0\n147. 0\n148. 0\n149. 1\n150. 0\n151. 0\n152. 0\n153. 1\n154. 1\n155. 0\n156. 0\n157. 0\n158. 3\n159. 0\n160. 2\n161. 7\n162. 0\n163. 0\n164. 0\n165. 0\n166. 0\n167. 0\n168. 1\n169. 0\n170. 0\n171. 1\n172. 1\n173. 0\n174. 1\n175. 0\n176. 0\n177. 0\n178. 0\n179. 3\n180. 0\n181. 0\n182. 0\n183. 3\n184. 0\n185. 2\n186. 0\n187. 1\n188. 0\n189. 2\n190. 0\n191. 0\n192. 1\n193. 0\n194. 0\n195. 0\n196. 0\n197. 0\n198. 0\n199. 0\n200. 0\n201. 0\n202. 0\n203. 0\n204. 0\n205. 0\n206. 0\n207. 0\n208. 0\n\n\n",
            "text/html": [
              "<style>\n",
              ".list-inline {list-style: none; margin:0; padding: 0}\n",
              ".list-inline>li {display: inline-block}\n",
              ".list-inline>li:not(:last-child)::after {content: \"\\00b7\"; padding: 0 .5ex}\n",
              "</style>\n",
              "<ol class=list-inline><li>18296</li><li>8318</li><li>8944</li><li>2300</li><li>539</li><li>3987</li><li>1426</li><li>1358</li><li>1493</li><li>617</li><li>4156</li><li>73</li><li>1915</li><li>809</li><li>0</li><li>42</li><li>580</li><li>1150</li><li>236</li><li>384</li><li>517</li><li>239</li><li>0</li><li>2263</li><li>77</li><li>221</li><li>41</li><li>378</li><li>71</li><li>38</li><li>177</li><li>358</li><li>158</li><li>317</li><li>161</li><li>61</li><li>127</li><li>0</li><li>0</li><li>458</li><li>37</li><li>0</li><li>5</li><li>42</li><li>72</li><li>7</li><li>52</li><li>41</li><li>115</li><li>0</li><li>7</li><li>24</li><li>31</li><li>23</li><li>57</li><li>66</li><li>31</li><li>228</li><li>120</li><li>362</li><li>5</li><li>44</li><li>42</li><li>0</li><li>25</li><li>103</li><li>185</li><li>52</li><li>509</li><li>17</li><li>30</li><li>0</li><li>18</li><li>2</li><li>0</li><li>0</li><li>47</li><li>88</li><li>0</li><li>3</li><li>33</li><li>3</li><li>0</li><li>2</li><li>23</li><li>11</li><li>0</li><li>24</li><li>0</li><li>0</li><li>0</li><li>9</li><li>3</li><li>23</li><li>23</li><li>46</li><li>7</li><li>0</li><li>14</li><li>0</li><li>0</li><li>12</li><li>2</li><li>8</li><li>4</li><li>0</li><li>0</li><li>39</li><li>0</li><li>0</li><li>1</li><li>2</li><li>2</li><li>5</li><li>1</li><li>4</li><li>0</li><li>24</li><li>0</li><li>2</li><li>0</li><li>2</li><li>6</li><li>0</li><li>0</li><li>0</li><li>9</li><li>5</li><li>1</li><li>0</li><li>0</li><li>0</li><li>9</li><li>0</li><li>20</li><li>2</li><li>0</li><li>3</li><li>0</li><li>0</li><li>0</li><li>0</li><li>0</li><li>0</li><li>2</li><li>0</li><li>0</li><li>0</li><li>1</li><li>0</li><li>0</li><li>0</li><li>1</li><li>1</li><li>0</li><li>0</li><li>0</li><li>3</li><li>0</li><li>2</li><li>7</li><li>0</li><li>0</li><li>0</li><li>0</li><li>0</li><li>0</li><li>1</li><li>0</li><li>0</li><li>1</li><li>1</li><li>0</li><li>1</li><li>0</li><li>0</li><li>0</li><li>0</li><li>3</li><li>0</li><li>0</li><li>0</li><li>3</li><li>0</li><li>2</li><li>0</li><li>1</li><li>0</li><li>2</li><li>0</li><li>0</li><li>1</li><li>0</li><li>0</li><li>0</li><li>0</li><li>0</li><li>0</li><li>0</li><li>0</li><li>0</li><li>0</li><li>0</li><li>0</li><li>0</li><li>0</li><li>0</li><li>0</li></ol>\n"
            ]
          },
          "metadata": {}
        }
      ]
    },
    {
      "cell_type": "code",
      "source": [
        ""
      ],
      "metadata": {
        "id": "0M8Hjja-EOZH"
      },
      "execution_count": null,
      "outputs": []
    }
  ]
}