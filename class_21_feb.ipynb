{
  "nbformat": 4,
  "nbformat_minor": 0,
  "metadata": {
    "colab": {
      "name": "class_21_feb.ipynb",
      "provenance": [],
      "authorship_tag": "ABX9TyOcgBKijiOeyO9tuckCx+bZ",
      "include_colab_link": true
    },
    "kernelspec": {
      "name": "ir",
      "display_name": "R"
    },
    "language_info": {
      "name": "R"
    }
  },
  "cells": [
    {
      "cell_type": "markdown",
      "metadata": {
        "id": "view-in-github",
        "colab_type": "text"
      },
      "source": [
        "<a href=\"https://colab.research.google.com/github/Pepcoders/Business-Analytics-Content/blob/BA/class_21_feb.ipynb\" target=\"_parent\"><img src=\"https://colab.research.google.com/assets/colab-badge.svg\" alt=\"Open In Colab\"/></a>"
      ]
    },
    {
      "cell_type": "code",
      "execution_count": 1,
      "metadata": {
        "id": "KVNz1-vs5XRH"
      },
      "outputs": [],
      "source": [
        "# Load the walmart_data and walmart_features files\n",
        "walmart_data <- read.csv(\"/content/sample_data/walmart_data.csv\")\n"
      ]
    },
    {
      "cell_type": "code",
      "source": [
        "walmart_features <- read.csv(\"/content/sample_data/walmart_features.csv\")"
      ],
      "metadata": {
        "id": "B6FTZS9x-ZRe"
      },
      "execution_count": 2,
      "outputs": []
    },
    {
      "cell_type": "code",
      "source": [
        "walmart_data "
      ],
      "metadata": {
        "id": "vI8X5KwL-jpX"
      },
      "execution_count": null,
      "outputs": []
    },
    {
      "cell_type": "code",
      "source": [
        "walmart_features"
      ],
      "metadata": {
        "id": "hUrDKCFn-kqb"
      },
      "execution_count": null,
      "outputs": []
    },
    {
      "cell_type": "code",
      "source": [
        "#Store the number of rows of walmart_data in a variable called n_rows\n",
        "n_rows <- nrow(walmart_data)\n",
        "n_rows"
      ],
      "metadata": {
        "colab": {
          "base_uri": "https://localhost:8080/",
          "height": 34
        },
        "id": "ev8SgxJH_eA5",
        "outputId": "995e6d4e-32c2-4966-9c6e-f3412805ce6e"
      },
      "execution_count": 12,
      "outputs": [
        {
          "output_type": "display_data",
          "data": {
            "text/plain": [
              "[1] 421570"
            ],
            "text/latex": "421570",
            "text/markdown": "421570",
            "text/html": [
              "421570"
            ]
          },
          "metadata": {}
        }
      ]
    },
    {
      "cell_type": "code",
      "source": [
        "#Print the first 5 rows of the dataframe walmart_data\n",
        "print(head(walmart_data,5))"
      ],
      "metadata": {
        "colab": {
          "base_uri": "https://localhost:8080/"
        },
        "id": "ieGraeFk-zPo",
        "outputId": "25eaaa2d-8c46-4181-f9ee-e6c3301189bd"
      },
      "execution_count": 10,
      "outputs": [
        {
          "output_type": "stream",
          "name": "stdout",
          "text": [
            "  Store Dept       Date Weekly_Sales IsHoliday\n",
            "1     1    1 2010-02-05     24924.50     FALSE\n",
            "2     1    1 2010-02-12     46039.49      TRUE\n",
            "3     1    1 2010-02-19     41595.55     FALSE\n",
            "4     1    1 2010-02-26     19403.54     FALSE\n",
            "5     1    1 2010-03-05     21827.90     FALSE\n"
          ]
        }
      ]
    },
    {
      "cell_type": "code",
      "source": [
        "# Count the number of rows per Store and store the resulting object in R with the name rows_per_store \n",
        "rows_per_store = table(walmart_data$Store)  # creates a frequency table\n",
        "rows_per_store"
      ],
      "metadata": {
        "id": "rkB0s1XH--Ut"
      },
      "execution_count": null,
      "outputs": []
    },
    {
      "cell_type": "code",
      "source": [
        "#Convert rows per store to a dataframe\n",
        "rows_per_store=as.data.frame(rows_per_store)\n",
        "rows_per_store"
      ],
      "metadata": {
        "colab": {
          "base_uri": "https://localhost:8080/",
          "height": 1000
        },
        "id": "EZJav_0BDnDX",
        "outputId": "53cfc34e-6207-4059-8242-20ec1458e032"
      },
      "execution_count": 19,
      "outputs": [
        {
          "output_type": "display_data",
          "data": {
            "text/plain": [
              "   Var1 Freq \n",
              "1  1    10244\n",
              "2  2    10238\n",
              "3  3     9036\n",
              "4  4    10272\n",
              "5  5     8999\n",
              "6  6    10211\n",
              "7  7     9762\n",
              "8  8     9895\n",
              "9  9     8867\n",
              "10 10   10315\n",
              "11 11   10062\n",
              "12 12    9705\n",
              "13 13   10474\n",
              "14 14   10040\n",
              "15 15    9901\n",
              "16 16    9443\n",
              "17 17    9864\n",
              "18 18    9859\n",
              "19 19   10148\n",
              "20 20   10214\n",
              "21 21    9582\n",
              "22 22    9688\n",
              "23 23   10050\n",
              "24 24   10228\n",
              "25 25    9804\n",
              "26 26    9854\n",
              "27 27   10225\n",
              "28 28   10113\n",
              "29 29    9455\n",
              "30 30    7156\n",
              "31 31   10142\n",
              "32 32   10202\n",
              "33 33    6487\n",
              "34 34   10224\n",
              "35 35    9528\n",
              "36 36    6222\n",
              "37 37    7206\n",
              "38 38    7362\n",
              "39 39    9878\n",
              "40 40   10017\n",
              "41 41   10088\n",
              "42 42    6953\n",
              "43 43    6751\n",
              "44 44    7169\n",
              "45 45    9637"
            ],
            "text/latex": "A data.frame: 45 × 2\n\\begin{tabular}{ll}\n Var1 & Freq\\\\\n <fct> & <int>\\\\\n\\hline\n\t 1  & 10244\\\\\n\t 2  & 10238\\\\\n\t 3  &  9036\\\\\n\t 4  & 10272\\\\\n\t 5  &  8999\\\\\n\t 6  & 10211\\\\\n\t 7  &  9762\\\\\n\t 8  &  9895\\\\\n\t 9  &  8867\\\\\n\t 10 & 10315\\\\\n\t 11 & 10062\\\\\n\t 12 &  9705\\\\\n\t 13 & 10474\\\\\n\t 14 & 10040\\\\\n\t 15 &  9901\\\\\n\t 16 &  9443\\\\\n\t 17 &  9864\\\\\n\t 18 &  9859\\\\\n\t 19 & 10148\\\\\n\t 20 & 10214\\\\\n\t 21 &  9582\\\\\n\t 22 &  9688\\\\\n\t 23 & 10050\\\\\n\t 24 & 10228\\\\\n\t 25 &  9804\\\\\n\t 26 &  9854\\\\\n\t 27 & 10225\\\\\n\t 28 & 10113\\\\\n\t 29 &  9455\\\\\n\t 30 &  7156\\\\\n\t 31 & 10142\\\\\n\t 32 & 10202\\\\\n\t 33 &  6487\\\\\n\t 34 & 10224\\\\\n\t 35 &  9528\\\\\n\t 36 &  6222\\\\\n\t 37 &  7206\\\\\n\t 38 &  7362\\\\\n\t 39 &  9878\\\\\n\t 40 & 10017\\\\\n\t 41 & 10088\\\\\n\t 42 &  6953\\\\\n\t 43 &  6751\\\\\n\t 44 &  7169\\\\\n\t 45 &  9637\\\\\n\\end{tabular}\n",
            "text/markdown": "\nA data.frame: 45 × 2\n\n| Var1 &lt;fct&gt; | Freq &lt;int&gt; |\n|---|---|\n| 1  | 10244 |\n| 2  | 10238 |\n| 3  |  9036 |\n| 4  | 10272 |\n| 5  |  8999 |\n| 6  | 10211 |\n| 7  |  9762 |\n| 8  |  9895 |\n| 9  |  8867 |\n| 10 | 10315 |\n| 11 | 10062 |\n| 12 |  9705 |\n| 13 | 10474 |\n| 14 | 10040 |\n| 15 |  9901 |\n| 16 |  9443 |\n| 17 |  9864 |\n| 18 |  9859 |\n| 19 | 10148 |\n| 20 | 10214 |\n| 21 |  9582 |\n| 22 |  9688 |\n| 23 | 10050 |\n| 24 | 10228 |\n| 25 |  9804 |\n| 26 |  9854 |\n| 27 | 10225 |\n| 28 | 10113 |\n| 29 |  9455 |\n| 30 |  7156 |\n| 31 | 10142 |\n| 32 | 10202 |\n| 33 |  6487 |\n| 34 | 10224 |\n| 35 |  9528 |\n| 36 |  6222 |\n| 37 |  7206 |\n| 38 |  7362 |\n| 39 |  9878 |\n| 40 | 10017 |\n| 41 | 10088 |\n| 42 |  6953 |\n| 43 |  6751 |\n| 44 |  7169 |\n| 45 |  9637 |\n\n",
            "text/html": [
              "<table class=\"dataframe\">\n",
              "<caption>A data.frame: 45 × 2</caption>\n",
              "<thead>\n",
              "\t<tr><th scope=col>Var1</th><th scope=col>Freq</th></tr>\n",
              "\t<tr><th scope=col>&lt;fct&gt;</th><th scope=col>&lt;int&gt;</th></tr>\n",
              "</thead>\n",
              "<tbody>\n",
              "\t<tr><td>1 </td><td>10244</td></tr>\n",
              "\t<tr><td>2 </td><td>10238</td></tr>\n",
              "\t<tr><td>3 </td><td> 9036</td></tr>\n",
              "\t<tr><td>4 </td><td>10272</td></tr>\n",
              "\t<tr><td>5 </td><td> 8999</td></tr>\n",
              "\t<tr><td>6 </td><td>10211</td></tr>\n",
              "\t<tr><td>7 </td><td> 9762</td></tr>\n",
              "\t<tr><td>8 </td><td> 9895</td></tr>\n",
              "\t<tr><td>9 </td><td> 8867</td></tr>\n",
              "\t<tr><td>10</td><td>10315</td></tr>\n",
              "\t<tr><td>11</td><td>10062</td></tr>\n",
              "\t<tr><td>12</td><td> 9705</td></tr>\n",
              "\t<tr><td>13</td><td>10474</td></tr>\n",
              "\t<tr><td>14</td><td>10040</td></tr>\n",
              "\t<tr><td>15</td><td> 9901</td></tr>\n",
              "\t<tr><td>16</td><td> 9443</td></tr>\n",
              "\t<tr><td>17</td><td> 9864</td></tr>\n",
              "\t<tr><td>18</td><td> 9859</td></tr>\n",
              "\t<tr><td>19</td><td>10148</td></tr>\n",
              "\t<tr><td>20</td><td>10214</td></tr>\n",
              "\t<tr><td>21</td><td> 9582</td></tr>\n",
              "\t<tr><td>22</td><td> 9688</td></tr>\n",
              "\t<tr><td>23</td><td>10050</td></tr>\n",
              "\t<tr><td>24</td><td>10228</td></tr>\n",
              "\t<tr><td>25</td><td> 9804</td></tr>\n",
              "\t<tr><td>26</td><td> 9854</td></tr>\n",
              "\t<tr><td>27</td><td>10225</td></tr>\n",
              "\t<tr><td>28</td><td>10113</td></tr>\n",
              "\t<tr><td>29</td><td> 9455</td></tr>\n",
              "\t<tr><td>30</td><td> 7156</td></tr>\n",
              "\t<tr><td>31</td><td>10142</td></tr>\n",
              "\t<tr><td>32</td><td>10202</td></tr>\n",
              "\t<tr><td>33</td><td> 6487</td></tr>\n",
              "\t<tr><td>34</td><td>10224</td></tr>\n",
              "\t<tr><td>35</td><td> 9528</td></tr>\n",
              "\t<tr><td>36</td><td> 6222</td></tr>\n",
              "\t<tr><td>37</td><td> 7206</td></tr>\n",
              "\t<tr><td>38</td><td> 7362</td></tr>\n",
              "\t<tr><td>39</td><td> 9878</td></tr>\n",
              "\t<tr><td>40</td><td>10017</td></tr>\n",
              "\t<tr><td>41</td><td>10088</td></tr>\n",
              "\t<tr><td>42</td><td> 6953</td></tr>\n",
              "\t<tr><td>43</td><td> 6751</td></tr>\n",
              "\t<tr><td>44</td><td> 7169</td></tr>\n",
              "\t<tr><td>45</td><td> 9637</td></tr>\n",
              "</tbody>\n",
              "</table>\n"
            ]
          },
          "metadata": {}
        }
      ]
    },
    {
      "cell_type": "code",
      "source": [
        "# Which store has the most rows ?\n",
        "#  max(rows_per_store$Freq)\n",
        "rows_per_store[order(rows_per_store$Freq),] #Increasing order"
      ],
      "metadata": {
        "colab": {
          "base_uri": "https://localhost:8080/",
          "height": 1000
        },
        "id": "zjdPQP-cEPAg",
        "outputId": "10f0516d-7007-4dbc-c8ee-e52bb236cb9f"
      },
      "execution_count": 23,
      "outputs": [
        {
          "output_type": "display_data",
          "data": {
            "text/plain": [
              "   Var1 Freq \n",
              "36 36    6222\n",
              "33 33    6487\n",
              "43 43    6751\n",
              "42 42    6953\n",
              "30 30    7156\n",
              "44 44    7169\n",
              "37 37    7206\n",
              "38 38    7362\n",
              "9  9     8867\n",
              "5  5     8999\n",
              "3  3     9036\n",
              "16 16    9443\n",
              "29 29    9455\n",
              "35 35    9528\n",
              "21 21    9582\n",
              "45 45    9637\n",
              "22 22    9688\n",
              "12 12    9705\n",
              "7  7     9762\n",
              "25 25    9804\n",
              "26 26    9854\n",
              "18 18    9859\n",
              "17 17    9864\n",
              "39 39    9878\n",
              "8  8     9895\n",
              "15 15    9901\n",
              "40 40   10017\n",
              "14 14   10040\n",
              "23 23   10050\n",
              "11 11   10062\n",
              "41 41   10088\n",
              "28 28   10113\n",
              "31 31   10142\n",
              "19 19   10148\n",
              "32 32   10202\n",
              "6  6    10211\n",
              "20 20   10214\n",
              "34 34   10224\n",
              "27 27   10225\n",
              "24 24   10228\n",
              "2  2    10238\n",
              "1  1    10244\n",
              "4  4    10272\n",
              "10 10   10315\n",
              "13 13   10474"
            ],
            "text/latex": "A data.frame: 45 × 2\n\\begin{tabular}{r|ll}\n  & Var1 & Freq\\\\\n  & <fct> & <int>\\\\\n\\hline\n\t36 & 36 &  6222\\\\\n\t33 & 33 &  6487\\\\\n\t43 & 43 &  6751\\\\\n\t42 & 42 &  6953\\\\\n\t30 & 30 &  7156\\\\\n\t44 & 44 &  7169\\\\\n\t37 & 37 &  7206\\\\\n\t38 & 38 &  7362\\\\\n\t9 & 9  &  8867\\\\\n\t5 & 5  &  8999\\\\\n\t3 & 3  &  9036\\\\\n\t16 & 16 &  9443\\\\\n\t29 & 29 &  9455\\\\\n\t35 & 35 &  9528\\\\\n\t21 & 21 &  9582\\\\\n\t45 & 45 &  9637\\\\\n\t22 & 22 &  9688\\\\\n\t12 & 12 &  9705\\\\\n\t7 & 7  &  9762\\\\\n\t25 & 25 &  9804\\\\\n\t26 & 26 &  9854\\\\\n\t18 & 18 &  9859\\\\\n\t17 & 17 &  9864\\\\\n\t39 & 39 &  9878\\\\\n\t8 & 8  &  9895\\\\\n\t15 & 15 &  9901\\\\\n\t40 & 40 & 10017\\\\\n\t14 & 14 & 10040\\\\\n\t23 & 23 & 10050\\\\\n\t11 & 11 & 10062\\\\\n\t41 & 41 & 10088\\\\\n\t28 & 28 & 10113\\\\\n\t31 & 31 & 10142\\\\\n\t19 & 19 & 10148\\\\\n\t32 & 32 & 10202\\\\\n\t6 & 6  & 10211\\\\\n\t20 & 20 & 10214\\\\\n\t34 & 34 & 10224\\\\\n\t27 & 27 & 10225\\\\\n\t24 & 24 & 10228\\\\\n\t2 & 2  & 10238\\\\\n\t1 & 1  & 10244\\\\\n\t4 & 4  & 10272\\\\\n\t10 & 10 & 10315\\\\\n\t13 & 13 & 10474\\\\\n\\end{tabular}\n",
            "text/markdown": "\nA data.frame: 45 × 2\n\n| <!--/--> | Var1 &lt;fct&gt; | Freq &lt;int&gt; |\n|---|---|---|\n| 36 | 36 |  6222 |\n| 33 | 33 |  6487 |\n| 43 | 43 |  6751 |\n| 42 | 42 |  6953 |\n| 30 | 30 |  7156 |\n| 44 | 44 |  7169 |\n| 37 | 37 |  7206 |\n| 38 | 38 |  7362 |\n| 9 | 9  |  8867 |\n| 5 | 5  |  8999 |\n| 3 | 3  |  9036 |\n| 16 | 16 |  9443 |\n| 29 | 29 |  9455 |\n| 35 | 35 |  9528 |\n| 21 | 21 |  9582 |\n| 45 | 45 |  9637 |\n| 22 | 22 |  9688 |\n| 12 | 12 |  9705 |\n| 7 | 7  |  9762 |\n| 25 | 25 |  9804 |\n| 26 | 26 |  9854 |\n| 18 | 18 |  9859 |\n| 17 | 17 |  9864 |\n| 39 | 39 |  9878 |\n| 8 | 8  |  9895 |\n| 15 | 15 |  9901 |\n| 40 | 40 | 10017 |\n| 14 | 14 | 10040 |\n| 23 | 23 | 10050 |\n| 11 | 11 | 10062 |\n| 41 | 41 | 10088 |\n| 28 | 28 | 10113 |\n| 31 | 31 | 10142 |\n| 19 | 19 | 10148 |\n| 32 | 32 | 10202 |\n| 6 | 6  | 10211 |\n| 20 | 20 | 10214 |\n| 34 | 34 | 10224 |\n| 27 | 27 | 10225 |\n| 24 | 24 | 10228 |\n| 2 | 2  | 10238 |\n| 1 | 1  | 10244 |\n| 4 | 4  | 10272 |\n| 10 | 10 | 10315 |\n| 13 | 13 | 10474 |\n\n",
            "text/html": [
              "<table class=\"dataframe\">\n",
              "<caption>A data.frame: 45 × 2</caption>\n",
              "<thead>\n",
              "\t<tr><th></th><th scope=col>Var1</th><th scope=col>Freq</th></tr>\n",
              "\t<tr><th></th><th scope=col>&lt;fct&gt;</th><th scope=col>&lt;int&gt;</th></tr>\n",
              "</thead>\n",
              "<tbody>\n",
              "\t<tr><th scope=row>36</th><td>36</td><td> 6222</td></tr>\n",
              "\t<tr><th scope=row>33</th><td>33</td><td> 6487</td></tr>\n",
              "\t<tr><th scope=row>43</th><td>43</td><td> 6751</td></tr>\n",
              "\t<tr><th scope=row>42</th><td>42</td><td> 6953</td></tr>\n",
              "\t<tr><th scope=row>30</th><td>30</td><td> 7156</td></tr>\n",
              "\t<tr><th scope=row>44</th><td>44</td><td> 7169</td></tr>\n",
              "\t<tr><th scope=row>37</th><td>37</td><td> 7206</td></tr>\n",
              "\t<tr><th scope=row>38</th><td>38</td><td> 7362</td></tr>\n",
              "\t<tr><th scope=row>9</th><td>9 </td><td> 8867</td></tr>\n",
              "\t<tr><th scope=row>5</th><td>5 </td><td> 8999</td></tr>\n",
              "\t<tr><th scope=row>3</th><td>3 </td><td> 9036</td></tr>\n",
              "\t<tr><th scope=row>16</th><td>16</td><td> 9443</td></tr>\n",
              "\t<tr><th scope=row>29</th><td>29</td><td> 9455</td></tr>\n",
              "\t<tr><th scope=row>35</th><td>35</td><td> 9528</td></tr>\n",
              "\t<tr><th scope=row>21</th><td>21</td><td> 9582</td></tr>\n",
              "\t<tr><th scope=row>45</th><td>45</td><td> 9637</td></tr>\n",
              "\t<tr><th scope=row>22</th><td>22</td><td> 9688</td></tr>\n",
              "\t<tr><th scope=row>12</th><td>12</td><td> 9705</td></tr>\n",
              "\t<tr><th scope=row>7</th><td>7 </td><td> 9762</td></tr>\n",
              "\t<tr><th scope=row>25</th><td>25</td><td> 9804</td></tr>\n",
              "\t<tr><th scope=row>26</th><td>26</td><td> 9854</td></tr>\n",
              "\t<tr><th scope=row>18</th><td>18</td><td> 9859</td></tr>\n",
              "\t<tr><th scope=row>17</th><td>17</td><td> 9864</td></tr>\n",
              "\t<tr><th scope=row>39</th><td>39</td><td> 9878</td></tr>\n",
              "\t<tr><th scope=row>8</th><td>8 </td><td> 9895</td></tr>\n",
              "\t<tr><th scope=row>15</th><td>15</td><td> 9901</td></tr>\n",
              "\t<tr><th scope=row>40</th><td>40</td><td>10017</td></tr>\n",
              "\t<tr><th scope=row>14</th><td>14</td><td>10040</td></tr>\n",
              "\t<tr><th scope=row>23</th><td>23</td><td>10050</td></tr>\n",
              "\t<tr><th scope=row>11</th><td>11</td><td>10062</td></tr>\n",
              "\t<tr><th scope=row>41</th><td>41</td><td>10088</td></tr>\n",
              "\t<tr><th scope=row>28</th><td>28</td><td>10113</td></tr>\n",
              "\t<tr><th scope=row>31</th><td>31</td><td>10142</td></tr>\n",
              "\t<tr><th scope=row>19</th><td>19</td><td>10148</td></tr>\n",
              "\t<tr><th scope=row>32</th><td>32</td><td>10202</td></tr>\n",
              "\t<tr><th scope=row>6</th><td>6 </td><td>10211</td></tr>\n",
              "\t<tr><th scope=row>20</th><td>20</td><td>10214</td></tr>\n",
              "\t<tr><th scope=row>34</th><td>34</td><td>10224</td></tr>\n",
              "\t<tr><th scope=row>27</th><td>27</td><td>10225</td></tr>\n",
              "\t<tr><th scope=row>24</th><td>24</td><td>10228</td></tr>\n",
              "\t<tr><th scope=row>2</th><td>2 </td><td>10238</td></tr>\n",
              "\t<tr><th scope=row>1</th><td>1 </td><td>10244</td></tr>\n",
              "\t<tr><th scope=row>4</th><td>4 </td><td>10272</td></tr>\n",
              "\t<tr><th scope=row>10</th><td>10</td><td>10315</td></tr>\n",
              "\t<tr><th scope=row>13</th><td>13</td><td>10474</td></tr>\n",
              "</tbody>\n",
              "</table>\n"
            ]
          },
          "metadata": {}
        }
      ]
    },
    {
      "cell_type": "code",
      "source": [
        "rows_per_store[order(-rows_per_store$Freq),] #Decreasing order\n"
      ],
      "metadata": {
        "id": "RrvFrvVHGwqn"
      },
      "execution_count": null,
      "outputs": []
    },
    {
      "cell_type": "code",
      "source": [
        "rows_per_store[order(-rows_per_store$Freq),'Var1'] # we get a factor"
      ],
      "metadata": {
        "colab": {
          "base_uri": "https://localhost:8080/",
          "height": 52
        },
        "id": "MIvUw_a9HeTz",
        "outputId": "1f727fd4-ea77-486a-ae15-545450ce0afa"
      },
      "execution_count": 26,
      "outputs": [
        {
          "output_type": "display_data",
          "data": {
            "text/plain": [
              " [1] 13 10 4  1  2  24 27 34 20 6  32 19 31 28 41 11 23 14 40 15 8  39 17 18 26\n",
              "[26] 25 7  12 22 45 21 35 29 16 3  5  9  38 37 44 30 42 43 33 36\n",
              "45 Levels: 1 2 3 4 5 6 7 8 9 10 11 12 13 14 15 16 17 18 19 20 21 22 23 ... 45"
            ],
            "text/latex": "\\begin{enumerate*}\n\\item 13\n\\item 10\n\\item 4\n\\item 1\n\\item 2\n\\item 24\n\\item 27\n\\item 34\n\\item 20\n\\item 6\n\\item 32\n\\item 19\n\\item 31\n\\item 28\n\\item 41\n\\item 11\n\\item 23\n\\item 14\n\\item 40\n\\item 15\n\\item 8\n\\item 39\n\\item 17\n\\item 18\n\\item 26\n\\item 25\n\\item 7\n\\item 12\n\\item 22\n\\item 45\n\\item 21\n\\item 35\n\\item 29\n\\item 16\n\\item 3\n\\item 5\n\\item 9\n\\item 38\n\\item 37\n\\item 44\n\\item 30\n\\item 42\n\\item 43\n\\item 33\n\\item 36\n\\end{enumerate*}\n\n\\emph{Levels}: \\begin{enumerate*}\n\\item '1'\n\\item '2'\n\\item '3'\n\\item '4'\n\\item '5'\n\\item '6'\n\\item '7'\n\\item '8'\n\\item '9'\n\\item '10'\n\\item '11'\n\\item '12'\n\\item '13'\n\\item '14'\n\\item '15'\n\\item '16'\n\\item '17'\n\\item '18'\n\\item '19'\n\\item '20'\n\\item '21'\n\\item '22'\n\\item '23'\n\\item '24'\n\\item '25'\n\\item '26'\n\\item '27'\n\\item '28'\n\\item '29'\n\\item '30'\n\\item '31'\n\\item '32'\n\\item '33'\n\\item '34'\n\\item '35'\n\\item '36'\n\\item '37'\n\\item '38'\n\\item '39'\n\\item '40'\n\\item '41'\n\\item '42'\n\\item '43'\n\\item '44'\n\\item '45'\n\\end{enumerate*}\n",
            "text/markdown": "1. 13\n2. 10\n3. 4\n4. 1\n5. 2\n6. 24\n7. 27\n8. 34\n9. 20\n10. 6\n11. 32\n12. 19\n13. 31\n14. 28\n15. 41\n16. 11\n17. 23\n18. 14\n19. 40\n20. 15\n21. 8\n22. 39\n23. 17\n24. 18\n25. 26\n26. 25\n27. 7\n28. 12\n29. 22\n30. 45\n31. 21\n32. 35\n33. 29\n34. 16\n35. 3\n36. 5\n37. 9\n38. 38\n39. 37\n40. 44\n41. 30\n42. 42\n43. 43\n44. 33\n45. 36\n\n\n\n**Levels**: 1. '1'\n2. '2'\n3. '3'\n4. '4'\n5. '5'\n6. '6'\n7. '7'\n8. '8'\n9. '9'\n10. '10'\n11. '11'\n12. '12'\n13. '13'\n14. '14'\n15. '15'\n16. '16'\n17. '17'\n18. '18'\n19. '19'\n20. '20'\n21. '21'\n22. '22'\n23. '23'\n24. '24'\n25. '25'\n26. '26'\n27. '27'\n28. '28'\n29. '29'\n30. '30'\n31. '31'\n32. '32'\n33. '33'\n34. '34'\n35. '35'\n36. '36'\n37. '37'\n38. '38'\n39. '39'\n40. '40'\n41. '41'\n42. '42'\n43. '43'\n44. '44'\n45. '45'\n\n\n",
            "text/html": [
              "<style>\n",
              ".list-inline {list-style: none; margin:0; padding: 0}\n",
              ".list-inline>li {display: inline-block}\n",
              ".list-inline>li:not(:last-child)::after {content: \"\\00b7\"; padding: 0 .5ex}\n",
              "</style>\n",
              "<ol class=list-inline><li>13</li><li>10</li><li>4</li><li>1</li><li>2</li><li>24</li><li>27</li><li>34</li><li>20</li><li>6</li><li>32</li><li>19</li><li>31</li><li>28</li><li>41</li><li>11</li><li>23</li><li>14</li><li>40</li><li>15</li><li>8</li><li>39</li><li>17</li><li>18</li><li>26</li><li>25</li><li>7</li><li>12</li><li>22</li><li>45</li><li>21</li><li>35</li><li>29</li><li>16</li><li>3</li><li>5</li><li>9</li><li>38</li><li>37</li><li>44</li><li>30</li><li>42</li><li>43</li><li>33</li><li>36</li></ol>\n",
              "\n",
              "<details>\n",
              "\t<summary style=display:list-item;cursor:pointer>\n",
              "\t\t<strong>Levels</strong>:\n",
              "\t</summary>\n",
              "\t<style>\n",
              "\t.list-inline {list-style: none; margin:0; padding: 0}\n",
              "\t.list-inline>li {display: inline-block}\n",
              "\t.list-inline>li:not(:last-child)::after {content: \"\\00b7\"; padding: 0 .5ex}\n",
              "\t</style>\n",
              "\t<ol class=list-inline><li>'1'</li><li>'2'</li><li>'3'</li><li>'4'</li><li>'5'</li><li>'6'</li><li>'7'</li><li>'8'</li><li>'9'</li><li>'10'</li><li>'11'</li><li>'12'</li><li>'13'</li><li>'14'</li><li>'15'</li><li>'16'</li><li>'17'</li><li>'18'</li><li>'19'</li><li>'20'</li><li>'21'</li><li>'22'</li><li>'23'</li><li>'24'</li><li>'25'</li><li>'26'</li><li>'27'</li><li>'28'</li><li>'29'</li><li>'30'</li><li>'31'</li><li>'32'</li><li>'33'</li><li>'34'</li><li>'35'</li><li>'36'</li><li>'37'</li><li>'38'</li><li>'39'</li><li>'40'</li><li>'41'</li><li>'42'</li><li>'43'</li><li>'44'</li><li>'45'</li></ol>\n",
              "</details>"
            ]
          },
          "metadata": {}
        }
      ]
    },
    {
      "cell_type": "code",
      "source": [
        "as.character(rows_per_store[order(-rows_per_store$Freq),'Var1'])"
      ],
      "metadata": {
        "colab": {
          "base_uri": "https://localhost:8080/",
          "height": 34
        },
        "id": "b7VvzqbbI_Ja",
        "outputId": "6f63b5cf-9dfc-4be2-baf8-9ca4e195c14a"
      },
      "execution_count": 27,
      "outputs": [
        {
          "output_type": "display_data",
          "data": {
            "text/plain": [
              " [1] \"13\" \"10\" \"4\"  \"1\"  \"2\"  \"24\" \"27\" \"34\" \"20\" \"6\"  \"32\" \"19\" \"31\" \"28\" \"41\"\n",
              "[16] \"11\" \"23\" \"14\" \"40\" \"15\" \"8\"  \"39\" \"17\" \"18\" \"26\" \"25\" \"7\"  \"12\" \"22\" \"45\"\n",
              "[31] \"21\" \"35\" \"29\" \"16\" \"3\"  \"5\"  \"9\"  \"38\" \"37\" \"44\" \"30\" \"42\" \"43\" \"33\" \"36\""
            ],
            "text/latex": "\\begin{enumerate*}\n\\item '13'\n\\item '10'\n\\item '4'\n\\item '1'\n\\item '2'\n\\item '24'\n\\item '27'\n\\item '34'\n\\item '20'\n\\item '6'\n\\item '32'\n\\item '19'\n\\item '31'\n\\item '28'\n\\item '41'\n\\item '11'\n\\item '23'\n\\item '14'\n\\item '40'\n\\item '15'\n\\item '8'\n\\item '39'\n\\item '17'\n\\item '18'\n\\item '26'\n\\item '25'\n\\item '7'\n\\item '12'\n\\item '22'\n\\item '45'\n\\item '21'\n\\item '35'\n\\item '29'\n\\item '16'\n\\item '3'\n\\item '5'\n\\item '9'\n\\item '38'\n\\item '37'\n\\item '44'\n\\item '30'\n\\item '42'\n\\item '43'\n\\item '33'\n\\item '36'\n\\end{enumerate*}\n",
            "text/markdown": "1. '13'\n2. '10'\n3. '4'\n4. '1'\n5. '2'\n6. '24'\n7. '27'\n8. '34'\n9. '20'\n10. '6'\n11. '32'\n12. '19'\n13. '31'\n14. '28'\n15. '41'\n16. '11'\n17. '23'\n18. '14'\n19. '40'\n20. '15'\n21. '8'\n22. '39'\n23. '17'\n24. '18'\n25. '26'\n26. '25'\n27. '7'\n28. '12'\n29. '22'\n30. '45'\n31. '21'\n32. '35'\n33. '29'\n34. '16'\n35. '3'\n36. '5'\n37. '9'\n38. '38'\n39. '37'\n40. '44'\n41. '30'\n42. '42'\n43. '43'\n44. '33'\n45. '36'\n\n\n",
            "text/html": [
              "<style>\n",
              ".list-inline {list-style: none; margin:0; padding: 0}\n",
              ".list-inline>li {display: inline-block}\n",
              ".list-inline>li:not(:last-child)::after {content: \"\\00b7\"; padding: 0 .5ex}\n",
              "</style>\n",
              "<ol class=list-inline><li>'13'</li><li>'10'</li><li>'4'</li><li>'1'</li><li>'2'</li><li>'24'</li><li>'27'</li><li>'34'</li><li>'20'</li><li>'6'</li><li>'32'</li><li>'19'</li><li>'31'</li><li>'28'</li><li>'41'</li><li>'11'</li><li>'23'</li><li>'14'</li><li>'40'</li><li>'15'</li><li>'8'</li><li>'39'</li><li>'17'</li><li>'18'</li><li>'26'</li><li>'25'</li><li>'7'</li><li>'12'</li><li>'22'</li><li>'45'</li><li>'21'</li><li>'35'</li><li>'29'</li><li>'16'</li><li>'3'</li><li>'5'</li><li>'9'</li><li>'38'</li><li>'37'</li><li>'44'</li><li>'30'</li><li>'42'</li><li>'43'</li><li>'33'</li><li>'36'</li></ol>\n"
            ]
          },
          "metadata": {}
        }
      ]
    },
    {
      "cell_type": "code",
      "source": [
        "as.character(rows_per_store[order(-rows_per_store$Freq),'Var1'][1])"
      ],
      "metadata": {
        "colab": {
          "base_uri": "https://localhost:8080/",
          "height": 34
        },
        "id": "Iy6Ovv1DJ0WN",
        "outputId": "69f0bf65-0484-4057-9d17-ab3da7afeed5"
      },
      "execution_count": 28,
      "outputs": [
        {
          "output_type": "display_data",
          "data": {
            "text/plain": [
              "[1] \"13\""
            ],
            "text/latex": "'13'",
            "text/markdown": "'13'",
            "text/html": [
              "'13'"
            ]
          },
          "metadata": {}
        }
      ]
    },
    {
      "cell_type": "code",
      "source": [
        "# Sum the sales per store on walmart_data\n",
        "# and store the data in a sum_by_store object\n",
        "sum_by_store <-aggregate(\n",
        "  x=walmart_data$Weekly_Sales,     # data\n",
        "  by= list(walmart_data$Store),    # Grouping elements\n",
        "  FUN=sum                          # aggregate function\n",
        ")"
      ],
      "metadata": {
        "id": "__jSadsxK7nk"
      },
      "execution_count": 32,
      "outputs": []
    },
    {
      "cell_type": "code",
      "source": [
        "sum_by_store[order(-sum_by_store$x),]  # to see the most selling store"
      ],
      "metadata": {
        "id": "AO6GraCARmQ8"
      },
      "execution_count": null,
      "outputs": []
    },
    {
      "cell_type": "code",
      "source": [
        "colnames(sum_by_store)=c('Store_number','Total_Sales')"
      ],
      "metadata": {
        "id": "BXkloCZ8R5Tv"
      },
      "execution_count": 36,
      "outputs": []
    },
    {
      "cell_type": "code",
      "source": [
        "sum_by_store"
      ],
      "metadata": {
        "id": "HY90M8eNSRIX"
      },
      "execution_count": null,
      "outputs": []
    },
    {
      "cell_type": "code",
      "source": [
        "#Plot bar plot using base R by sorting total sales\n",
        "#from store with most sales to least sales\n",
        "#Give a title to the plot \"Sales By Store\"\n",
        "#and colour the bars darkgreen\n",
        "#ignore x labels for now\n",
        "\n"
      ],
      "metadata": {
        "id": "1IJmOSLXSVdR"
      },
      "execution_count": 39,
      "outputs": []
    },
    {
      "cell_type": "code",
      "source": [
        "barplot(sum_by_store[order(-sum_by_store$Total_Sales),'Total_Sales'])"
      ],
      "metadata": {
        "colab": {
          "base_uri": "https://localhost:8080/",
          "height": 437
        },
        "id": "4lJ-bGdeT32_",
        "outputId": "c47c8f6e-ec10-4e83-f492-bb5ac1f90a67"
      },
      "execution_count": 43,
      "outputs": [
        {
          "output_type": "display_data",
          "data": {
            "image/png": "[encoded data removed]",
            "text/plain": [
              "plot without title"
            ]
          },
          "metadata": {
            "image/png": {
              "width": 420,
              "height": 420
            }
          }
        }
      ]
    },
    {
      "cell_type": "code",
      "source": [
        "barplot(sum_by_store[order(-sum_by_store$Total_Sales),'Total_Sales'],\n",
        "main='Sales by Stores',\n",
        "col='darkgreen'\n",
        ")"
      ],
      "metadata": {
        "colab": {
          "base_uri": "https://localhost:8080/",
          "height": 437
        },
        "id": "t_0jGvJPVXQP",
        "outputId": "85fa147b-114b-48c1-9416-093b1a579894"
      },
      "execution_count": 45,
      "outputs": [
        {
          "output_type": "display_data",
          "data": {
            "image/png": "[encoded data removed]",
            "text/plain": [
              "Plot with title “Sales by Stores”"
            ]
          },
          "metadata": {
            "image/png": {
              "width": 420,
              "height": 420
            }
          }
        }
      ]
    },
    {
      "cell_type": "code",
      "source": [
        "#Compute the mean of every column in walmart_feature\n",
        "print(sapply(X=walmart_features,FUN=mean,na.rm=TRUE))"
      ],
      "metadata": {
        "colab": {
          "base_uri": "https://localhost:8080/"
        },
        "id": "4jhvOGGgVkkg",
        "outputId": "2bb0a794-eeb9-437b-892f-dcef6b7566c2"
      },
      "execution_count": 49,
      "outputs": [
        {
          "output_type": "stream",
          "name": "stderr",
          "text": [
            "Warning message in mean.default(X[[i]], ...):\n",
            "“argument is not numeric or logical: returning NA”\n"
          ]
        },
        {
          "output_type": "stream",
          "name": "stdout",
          "text": [
            "       Store         Date  Temperature   Fuel_Price    MarkDown1    MarkDown2 \n",
            "2.300000e+01           NA 5.935620e+01 3.405992e+00 7.032372e+03 3.384177e+03 \n",
            "   MarkDown3    MarkDown4    MarkDown5          CPI Unemployment    IsHoliday \n",
            "1.760100e+03 3.292936e+03 4.132216e+03 1.724608e+02 7.826821e+00 7.142857e-02 \n"
          ]
        }
      ]
    },
    {
      "cell_type": "code",
      "source": [
        "#Creating a new column in walmart_features called\n",
        "#standardized_cpi subtracting the mean from cpi and dividing by the standard deviation \n",
        "walmart_features['Standardized_CPI'] = (\n",
        "  (walmart_features$CPI - mean(walmart_features$CPI,na.rm = TRUE))/sd(walmart_features$CPI,na.rm = TRUE)\n",
        ")"
      ],
      "metadata": {
        "id": "wMpCTxqAXQ-R"
      },
      "execution_count": 53,
      "outputs": []
    },
    {
      "cell_type": "code",
      "source": [
        "walmart_features"
      ],
      "metadata": {
        "id": "ptJHV8fJaJqM"
      },
      "execution_count": null,
      "outputs": []
    },
    {
      "cell_type": "code",
      "source": [
        "install.packages(\"tidyverse\") # Installed\n"
      ],
      "metadata": {
        "colab": {
          "base_uri": "https://localhost:8080/"
        },
        "id": "tEuLu6G1aZCu",
        "outputId": "4bddb52f-41d8-4e25-9fef-a784b28991b9"
      },
      "execution_count": 55,
      "outputs": [
        {
          "output_type": "stream",
          "name": "stderr",
          "text": [
            "Installing package into ‘/usr/local/lib/R/site-library’\n",
            "(as ‘lib’ is unspecified)\n",
            "\n"
          ]
        }
      ]
    },
    {
      "cell_type": "code",
      "source": [
        "library(tidyverse)  # Ready to use"
      ],
      "metadata": {
        "colab": {
          "base_uri": "https://localhost:8080/"
        },
        "id": "GLU2M_sKc5Db",
        "outputId": "af50e73b-f677-4ab6-c67b-81e2c31fa849"
      },
      "execution_count": 56,
      "outputs": [
        {
          "output_type": "stream",
          "name": "stderr",
          "text": [
            "Warning message in system(\"timedatectl\", intern = TRUE):\n",
            "“running command 'timedatectl' had status 1”\n",
            "── \u001b[1mAttaching packages\u001b[22m ─────────────────────────────────────── tidyverse 1.3.1 ──\n",
            "\n",
            "\u001b[32m✔\u001b[39m \u001b[34mggplot2\u001b[39m 3.3.5     \u001b[32m✔\u001b[39m \u001b[34mpurrr  \u001b[39m 0.3.4\n",
            "\u001b[32m✔\u001b[39m \u001b[34mtibble \u001b[39m 3.1.6     \u001b[32m✔\u001b[39m \u001b[34mdplyr  \u001b[39m 1.0.7\n",
            "\u001b[32m✔\u001b[39m \u001b[34mtidyr  \u001b[39m 1.1.4     \u001b[32m✔\u001b[39m \u001b[34mstringr\u001b[39m 1.4.0\n",
            "\u001b[32m✔\u001b[39m \u001b[34mreadr  \u001b[39m 2.1.1     \u001b[32m✔\u001b[39m \u001b[34mforcats\u001b[39m 0.5.1\n",
            "\n",
            "── \u001b[1mConflicts\u001b[22m ────────────────────────────────────────── tidyverse_conflicts() ──\n",
            "\u001b[31m✖\u001b[39m \u001b[34mdplyr\u001b[39m::\u001b[32mfilter()\u001b[39m masks \u001b[34mstats\u001b[39m::filter()\n",
            "\u001b[31m✖\u001b[39m \u001b[34mdplyr\u001b[39m::\u001b[32mlag()\u001b[39m    masks \u001b[34mstats\u001b[39m::lag()\n",
            "\n"
          ]
        }
      ]
    },
    {
      "cell_type": "code",
      "source": [
        "table1"
      ],
      "metadata": {
        "colab": {
          "base_uri": "https://localhost:8080/",
          "height": 286
        },
        "id": "cxnSbCNodCHT",
        "outputId": "e55453a4-a2aa-45e3-ab2e-f9fe54db4410"
      },
      "execution_count": 57,
      "outputs": [
        {
          "output_type": "display_data",
          "data": {
            "text/plain": [
              "  country     year cases  population\n",
              "1 Afghanistan 1999    745   19987071\n",
              "2 Afghanistan 2000   2666   20595360\n",
              "3 Brazil      1999  37737  172006362\n",
              "4 Brazil      2000  80488  174504898\n",
              "5 China       1999 212258 1272915272\n",
              "6 China       2000 213766 1280428583"
            ],
            "text/latex": "A tibble: 6 × 4\n\\begin{tabular}{llll}\n country & year & cases & population\\\\\n <chr> & <int> & <int> & <int>\\\\\n\\hline\n\t Afghanistan & 1999 &    745 &   19987071\\\\\n\t Afghanistan & 2000 &   2666 &   20595360\\\\\n\t Brazil      & 1999 &  37737 &  172006362\\\\\n\t Brazil      & 2000 &  80488 &  174504898\\\\\n\t China       & 1999 & 212258 & 1272915272\\\\\n\t China       & 2000 & 213766 & 1280428583\\\\\n\\end{tabular}\n",
            "text/markdown": "\nA tibble: 6 × 4\n\n| country &lt;chr&gt; | year &lt;int&gt; | cases &lt;int&gt; | population &lt;int&gt; |\n|---|---|---|---|\n| Afghanistan | 1999 |    745 |   19987071 |\n| Afghanistan | 2000 |   2666 |   20595360 |\n| Brazil      | 1999 |  37737 |  172006362 |\n| Brazil      | 2000 |  80488 |  174504898 |\n| China       | 1999 | 212258 | 1272915272 |\n| China       | 2000 | 213766 | 1280428583 |\n\n",
            "text/html": [
              "<table class=\"dataframe\">\n",
              "<caption>A tibble: 6 × 4</caption>\n",
              "<thead>\n",
              "\t<tr><th scope=col>country</th><th scope=col>year</th><th scope=col>cases</th><th scope=col>population</th></tr>\n",
              "\t<tr><th scope=col>&lt;chr&gt;</th><th scope=col>&lt;int&gt;</th><th scope=col>&lt;int&gt;</th><th scope=col>&lt;int&gt;</th></tr>\n",
              "</thead>\n",
              "<tbody>\n",
              "\t<tr><td>Afghanistan</td><td>1999</td><td>   745</td><td>  19987071</td></tr>\n",
              "\t<tr><td>Afghanistan</td><td>2000</td><td>  2666</td><td>  20595360</td></tr>\n",
              "\t<tr><td>Brazil     </td><td>1999</td><td> 37737</td><td> 172006362</td></tr>\n",
              "\t<tr><td>Brazil     </td><td>2000</td><td> 80488</td><td> 174504898</td></tr>\n",
              "\t<tr><td>China      </td><td>1999</td><td>212258</td><td>1272915272</td></tr>\n",
              "\t<tr><td>China      </td><td>2000</td><td>213766</td><td>1280428583</td></tr>\n",
              "</tbody>\n",
              "</table>\n"
            ]
          },
          "metadata": {}
        }
      ]
    },
    {
      "cell_type": "code",
      "source": [
        "table4a"
      ],
      "metadata": {
        "colab": {
          "base_uri": "https://localhost:8080/",
          "height": 192
        },
        "id": "U5RRO6CbdKou",
        "outputId": "2e2868ec-fa48-48a2-81b3-6a7112f74d3e"
      },
      "execution_count": 58,
      "outputs": [
        {
          "output_type": "display_data",
          "data": {
            "text/plain": [
              "  country     1999   2000  \n",
              "1 Afghanistan    745   2666\n",
              "2 Brazil       37737  80488\n",
              "3 China       212258 213766"
            ],
            "text/latex": "A tibble: 3 × 3\n\\begin{tabular}{r|lll}\n  & country & 1999 & 2000\\\\\n  & <chr> & <int> & <int>\\\\\n\\hline\n\t1 & Afghanistan &    745 &   2666\\\\\n\t2 & Brazil      &  37737 &  80488\\\\\n\t3 & China       & 212258 & 213766\\\\\n\\end{tabular}\n",
            "text/markdown": "\nA tibble: 3 × 3\n\n| <!--/--> | country &lt;chr&gt; | 1999 &lt;int&gt; | 2000 &lt;int&gt; |\n|---|---|---|---|\n| 1 | Afghanistan |    745 |   2666 |\n| 2 | Brazil      |  37737 |  80488 |\n| 3 | China       | 212258 | 213766 |\n\n",
            "text/html": [
              "<table class=\"dataframe\">\n",
              "<caption>A tibble: 3 × 3</caption>\n",
              "<thead>\n",
              "\t<tr><th></th><th scope=col>country</th><th scope=col>1999</th><th scope=col>2000</th></tr>\n",
              "\t<tr><th></th><th scope=col>&lt;chr&gt;</th><th scope=col>&lt;int&gt;</th><th scope=col>&lt;int&gt;</th></tr>\n",
              "</thead>\n",
              "<tbody>\n",
              "\t<tr><th scope=row>1</th><td>Afghanistan</td><td>   745</td><td>  2666</td></tr>\n",
              "\t<tr><th scope=row>2</th><td>Brazil     </td><td> 37737</td><td> 80488</td></tr>\n",
              "\t<tr><th scope=row>3</th><td>China      </td><td>212258</td><td>213766</td></tr>\n",
              "</tbody>\n",
              "</table>\n"
            ]
          },
          "metadata": {}
        }
      ]
    },
    {
      "cell_type": "code",
      "source": [
        "table2"
      ],
      "metadata": {
        "colab": {
          "base_uri": "https://localhost:8080/",
          "height": 474
        },
        "id": "yNK4akX7doW2",
        "outputId": "a5e71251-c1ee-4587-91f9-a686d0a35726"
      },
      "execution_count": 59,
      "outputs": [
        {
          "output_type": "display_data",
          "data": {
            "text/plain": [
              "   country     year type       count     \n",
              "1  Afghanistan 1999 cases             745\n",
              "2  Afghanistan 1999 population   19987071\n",
              "3  Afghanistan 2000 cases            2666\n",
              "4  Afghanistan 2000 population   20595360\n",
              "5  Brazil      1999 cases           37737\n",
              "6  Brazil      1999 population  172006362\n",
              "7  Brazil      2000 cases           80488\n",
              "8  Brazil      2000 population  174504898\n",
              "9  China       1999 cases          212258\n",
              "10 China       1999 population 1272915272\n",
              "11 China       2000 cases          213766\n",
              "12 China       2000 population 1280428583"
            ],
            "text/latex": "A tibble: 12 × 4\n\\begin{tabular}{llll}\n country & year & type & count\\\\\n <chr> & <int> & <chr> & <int>\\\\\n\\hline\n\t Afghanistan & 1999 & cases      &        745\\\\\n\t Afghanistan & 1999 & population &   19987071\\\\\n\t Afghanistan & 2000 & cases      &       2666\\\\\n\t Afghanistan & 2000 & population &   20595360\\\\\n\t Brazil      & 1999 & cases      &      37737\\\\\n\t Brazil      & 1999 & population &  172006362\\\\\n\t Brazil      & 2000 & cases      &      80488\\\\\n\t Brazil      & 2000 & population &  174504898\\\\\n\t China       & 1999 & cases      &     212258\\\\\n\t China       & 1999 & population & 1272915272\\\\\n\t China       & 2000 & cases      &     213766\\\\\n\t China       & 2000 & population & 1280428583\\\\\n\\end{tabular}\n",
            "text/markdown": "\nA tibble: 12 × 4\n\n| country &lt;chr&gt; | year &lt;int&gt; | type &lt;chr&gt; | count &lt;int&gt; |\n|---|---|---|---|\n| Afghanistan | 1999 | cases      |        745 |\n| Afghanistan | 1999 | population |   19987071 |\n| Afghanistan | 2000 | cases      |       2666 |\n| Afghanistan | 2000 | population |   20595360 |\n| Brazil      | 1999 | cases      |      37737 |\n| Brazil      | 1999 | population |  172006362 |\n| Brazil      | 2000 | cases      |      80488 |\n| Brazil      | 2000 | population |  174504898 |\n| China       | 1999 | cases      |     212258 |\n| China       | 1999 | population | 1272915272 |\n| China       | 2000 | cases      |     213766 |\n| China       | 2000 | population | 1280428583 |\n\n",
            "text/html": [
              "<table class=\"dataframe\">\n",
              "<caption>A tibble: 12 × 4</caption>\n",
              "<thead>\n",
              "\t<tr><th scope=col>country</th><th scope=col>year</th><th scope=col>type</th><th scope=col>count</th></tr>\n",
              "\t<tr><th scope=col>&lt;chr&gt;</th><th scope=col>&lt;int&gt;</th><th scope=col>&lt;chr&gt;</th><th scope=col>&lt;int&gt;</th></tr>\n",
              "</thead>\n",
              "<tbody>\n",
              "\t<tr><td>Afghanistan</td><td>1999</td><td>cases     </td><td>       745</td></tr>\n",
              "\t<tr><td>Afghanistan</td><td>1999</td><td>population</td><td>  19987071</td></tr>\n",
              "\t<tr><td>Afghanistan</td><td>2000</td><td>cases     </td><td>      2666</td></tr>\n",
              "\t<tr><td>Afghanistan</td><td>2000</td><td>population</td><td>  20595360</td></tr>\n",
              "\t<tr><td>Brazil     </td><td>1999</td><td>cases     </td><td>     37737</td></tr>\n",
              "\t<tr><td>Brazil     </td><td>1999</td><td>population</td><td> 172006362</td></tr>\n",
              "\t<tr><td>Brazil     </td><td>2000</td><td>cases     </td><td>     80488</td></tr>\n",
              "\t<tr><td>Brazil     </td><td>2000</td><td>population</td><td> 174504898</td></tr>\n",
              "\t<tr><td>China      </td><td>1999</td><td>cases     </td><td>    212258</td></tr>\n",
              "\t<tr><td>China      </td><td>1999</td><td>population</td><td>1272915272</td></tr>\n",
              "\t<tr><td>China      </td><td>2000</td><td>cases     </td><td>    213766</td></tr>\n",
              "\t<tr><td>China      </td><td>2000</td><td>population</td><td>1280428583</td></tr>\n",
              "</tbody>\n",
              "</table>\n"
            ]
          },
          "metadata": {}
        }
      ]
    },
    {
      "cell_type": "code",
      "source": [
        "table4a %>% \n",
        "pivot_longer(cols =c(\"1999\",\"2000\"),names_to = \"year\",values_to = \"cases\" ) %>%\n",
        "arrange(country,year)\n"
      ],
      "metadata": {
        "colab": {
          "base_uri": "https://localhost:8080/",
          "height": 286
        },
        "id": "WDmyJdsIdti-",
        "outputId": "86985dac-6091-4232-f22b-11127a15e0a7"
      },
      "execution_count": 60,
      "outputs": [
        {
          "output_type": "display_data",
          "data": {
            "text/plain": [
              "  country     year cases \n",
              "1 Afghanistan 1999    745\n",
              "2 Afghanistan 2000   2666\n",
              "3 Brazil      1999  37737\n",
              "4 Brazil      2000  80488\n",
              "5 China       1999 212258\n",
              "6 China       2000 213766"
            ],
            "text/latex": "A tibble: 6 × 3\n\\begin{tabular}{lll}\n country & year & cases\\\\\n <chr> & <chr> & <int>\\\\\n\\hline\n\t Afghanistan & 1999 &    745\\\\\n\t Afghanistan & 2000 &   2666\\\\\n\t Brazil      & 1999 &  37737\\\\\n\t Brazil      & 2000 &  80488\\\\\n\t China       & 1999 & 212258\\\\\n\t China       & 2000 & 213766\\\\\n\\end{tabular}\n",
            "text/markdown": "\nA tibble: 6 × 3\n\n| country &lt;chr&gt; | year &lt;chr&gt; | cases &lt;int&gt; |\n|---|---|---|\n| Afghanistan | 1999 |    745 |\n| Afghanistan | 2000 |   2666 |\n| Brazil      | 1999 |  37737 |\n| Brazil      | 2000 |  80488 |\n| China       | 1999 | 212258 |\n| China       | 2000 | 213766 |\n\n",
            "text/html": [
              "<table class=\"dataframe\">\n",
              "<caption>A tibble: 6 × 3</caption>\n",
              "<thead>\n",
              "\t<tr><th scope=col>country</th><th scope=col>year</th><th scope=col>cases</th></tr>\n",
              "\t<tr><th scope=col>&lt;chr&gt;</th><th scope=col>&lt;chr&gt;</th><th scope=col>&lt;int&gt;</th></tr>\n",
              "</thead>\n",
              "<tbody>\n",
              "\t<tr><td>Afghanistan</td><td>1999</td><td>   745</td></tr>\n",
              "\t<tr><td>Afghanistan</td><td>2000</td><td>  2666</td></tr>\n",
              "\t<tr><td>Brazil     </td><td>1999</td><td> 37737</td></tr>\n",
              "\t<tr><td>Brazil     </td><td>2000</td><td> 80488</td></tr>\n",
              "\t<tr><td>China      </td><td>1999</td><td>212258</td></tr>\n",
              "\t<tr><td>China      </td><td>2000</td><td>213766</td></tr>\n",
              "</tbody>\n",
              "</table>\n"
            ]
          },
          "metadata": {}
        }
      ]
    }
  ]
}