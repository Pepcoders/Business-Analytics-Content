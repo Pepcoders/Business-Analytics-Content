{
  "nbformat": 4,
  "nbformat_minor": 0,
  "metadata": {
    "colab": {
      "name": "class_21_feb.ipynb",
      "provenance": [],
      "authorship_tag": "ABX9TyNaN27d74IJPCdZYJTBwhSe",
      "include_colab_link": true
    },
    "kernelspec": {
      "name": "ir",
      "display_name": "R"
    },
    "language_info": {
      "name": "R"
    }
  },
  "cells": [
    {
      "cell_type": "markdown",
      "metadata": {
        "id": "view-in-github",
        "colab_type": "text"
      },
      "source": [
        "<a href=\"https://colab.research.google.com/github/Pepcoders/Business-Analytics-Content/blob/BA/class_21_feb.ipynb\" target=\"_parent\"><img src=\"https://colab.research.google.com/assets/colab-badge.svg\" alt=\"Open In Colab\"/></a>"
      ]
    },
    {
      "cell_type": "code",
      "execution_count": 1,
      "metadata": {
        "id": "KVNz1-vs5XRH"
      },
      "outputs": [],
      "source": [
        "# Load the walmart_data and walmart_features files\n",
        "walmart_data <- read.csv(\"/content/sample_data/walmart_data.csv\")\n"
      ]
    },
    {
      "cell_type": "code",
      "source": [
        "walmart_features <- read.csv(\"/content/sample_data/walmart_features.csv\")"
      ],
      "metadata": {
        "id": "B6FTZS9x-ZRe"
      },
      "execution_count": 2,
      "outputs": []
    },
    {
      "cell_type": "code",
      "source": [
        "walmart_data "
      ],
      "metadata": {
        "id": "vI8X5KwL-jpX"
      },
      "execution_count": null,
      "outputs": []
    },
    {
      "cell_type": "code",
      "source": [
        "walmart_features"
      ],
      "metadata": {
        "id": "hUrDKCFn-kqb"
      },
      "execution_count": null,
      "outputs": []
    },
    {
      "cell_type": "code",
      "source": [
        "#Store the number of rows of walmart_data in a variable called n_rows\n",
        "n_rows <- nrow(walmart_data)\n",
        "n_rows"
      ],
      "metadata": {
        "colab": {
          "base_uri": "https://localhost:8080/",
          "height": 35
        },
        "id": "ev8SgxJH_eA5",
        "outputId": "995e6d4e-32c2-4966-9c6e-f3412805ce6e"
      },
      "execution_count": 12,
      "outputs": [
        {
          "output_type": "display_data",
          "data": {
            "text/plain": [
              "[1] 421570"
            ],
            "text/latex": "421570",
            "text/markdown": "421570",
            "text/html": [
              "421570"
            ]
          },
          "metadata": {}
        }
      ]
    },
    {
      "cell_type": "code",
      "source": [
        "#Print the first 5 rows of the dataframe walmart_data\n",
        "print(head(walmart_data,5))"
      ],
      "metadata": {
        "colab": {
          "base_uri": "https://localhost:8080/"
        },
        "id": "ieGraeFk-zPo",
        "outputId": "25eaaa2d-8c46-4181-f9ee-e6c3301189bd"
      },
      "execution_count": 10,
      "outputs": [
        {
          "output_type": "stream",
          "name": "stdout",
          "text": [
            "  Store Dept       Date Weekly_Sales IsHoliday\n",
            "1     1    1 2010-02-05     24924.50     FALSE\n",
            "2     1    1 2010-02-12     46039.49      TRUE\n",
            "3     1    1 2010-02-19     41595.55     FALSE\n",
            "4     1    1 2010-02-26     19403.54     FALSE\n",
            "5     1    1 2010-03-05     21827.90     FALSE\n"
          ]
        }
      ]
    },
    {
      "cell_type": "code",
      "source": [
        "# Count the number of rows per Store and store the resulting object in R with the name rows_per_store \n",
        "rows_per_store = table(walmart_data$Store)  # creates a frequency table\n",
        "rows_per_store"
      ],
      "metadata": {
        "id": "rkB0s1XH--Ut"
      },
      "execution_count": null,
      "outputs": []
    },
    {
      "cell_type": "code",
      "source": [
        "#Convert rows per store to a dataframe\n",
        "rows_per_store=as.data.frame(rows_per_store)\n",
        "rows_per_store"
      ],
      "metadata": {
        "colab": {
          "base_uri": "https://localhost:8080/",
          "height": 1000
        },
        "id": "EZJav_0BDnDX",
        "outputId": "53cfc34e-6207-4059-8242-20ec1458e032"
      },
      "execution_count": 19,
      "outputs": [
        {
          "output_type": "display_data",
          "data": {
            "text/plain": [
              "   Var1 Freq \n",
              "1  1    10244\n",
              "2  2    10238\n",
              "3  3     9036\n",
              "4  4    10272\n",
              "5  5     8999\n",
              "6  6    10211\n",
              "7  7     9762\n",
              "8  8     9895\n",
              "9  9     8867\n",
              "10 10   10315\n",
              "11 11   10062\n",
              "12 12    9705\n",
              "13 13   10474\n",
              "14 14   10040\n",
              "15 15    9901\n",
              "16 16    9443\n",
              "17 17    9864\n",
              "18 18    9859\n",
              "19 19   10148\n",
              "20 20   10214\n",
              "21 21    9582\n",
              "22 22    9688\n",
              "23 23   10050\n",
              "24 24   10228\n",
              "25 25    9804\n",
              "26 26    9854\n",
              "27 27   10225\n",
              "28 28   10113\n",
              "29 29    9455\n",
              "30 30    7156\n",
              "31 31   10142\n",
              "32 32   10202\n",
              "33 33    6487\n",
              "34 34   10224\n",
              "35 35    9528\n",
              "36 36    6222\n",
              "37 37    7206\n",
              "38 38    7362\n",
              "39 39    9878\n",
              "40 40   10017\n",
              "41 41   10088\n",
              "42 42    6953\n",
              "43 43    6751\n",
              "44 44    7169\n",
              "45 45    9637"
            ],
            "text/latex": "A data.frame: 45 × 2\n\\begin{tabular}{ll}\n Var1 & Freq\\\\\n <fct> & <int>\\\\\n\\hline\n\t 1  & 10244\\\\\n\t 2  & 10238\\\\\n\t 3  &  9036\\\\\n\t 4  & 10272\\\\\n\t 5  &  8999\\\\\n\t 6  & 10211\\\\\n\t 7  &  9762\\\\\n\t 8  &  9895\\\\\n\t 9  &  8867\\\\\n\t 10 & 10315\\\\\n\t 11 & 10062\\\\\n\t 12 &  9705\\\\\n\t 13 & 10474\\\\\n\t 14 & 10040\\\\\n\t 15 &  9901\\\\\n\t 16 &  9443\\\\\n\t 17 &  9864\\\\\n\t 18 &  9859\\\\\n\t 19 & 10148\\\\\n\t 20 & 10214\\\\\n\t 21 &  9582\\\\\n\t 22 &  9688\\\\\n\t 23 & 10050\\\\\n\t 24 & 10228\\\\\n\t 25 &  9804\\\\\n\t 26 &  9854\\\\\n\t 27 & 10225\\\\\n\t 28 & 10113\\\\\n\t 29 &  9455\\\\\n\t 30 &  7156\\\\\n\t 31 & 10142\\\\\n\t 32 & 10202\\\\\n\t 33 &  6487\\\\\n\t 34 & 10224\\\\\n\t 35 &  9528\\\\\n\t 36 &  6222\\\\\n\t 37 &  7206\\\\\n\t 38 &  7362\\\\\n\t 39 &  9878\\\\\n\t 40 & 10017\\\\\n\t 41 & 10088\\\\\n\t 42 &  6953\\\\\n\t 43 &  6751\\\\\n\t 44 &  7169\\\\\n\t 45 &  9637\\\\\n\\end{tabular}\n",
            "text/markdown": "\nA data.frame: 45 × 2\n\n| Var1 &lt;fct&gt; | Freq &lt;int&gt; |\n|---|---|\n| 1  | 10244 |\n| 2  | 10238 |\n| 3  |  9036 |\n| 4  | 10272 |\n| 5  |  8999 |\n| 6  | 10211 |\n| 7  |  9762 |\n| 8  |  9895 |\n| 9  |  8867 |\n| 10 | 10315 |\n| 11 | 10062 |\n| 12 |  9705 |\n| 13 | 10474 |\n| 14 | 10040 |\n| 15 |  9901 |\n| 16 |  9443 |\n| 17 |  9864 |\n| 18 |  9859 |\n| 19 | 10148 |\n| 20 | 10214 |\n| 21 |  9582 |\n| 22 |  9688 |\n| 23 | 10050 |\n| 24 | 10228 |\n| 25 |  9804 |\n| 26 |  9854 |\n| 27 | 10225 |\n| 28 | 10113 |\n| 29 |  9455 |\n| 30 |  7156 |\n| 31 | 10142 |\n| 32 | 10202 |\n| 33 |  6487 |\n| 34 | 10224 |\n| 35 |  9528 |\n| 36 |  6222 |\n| 37 |  7206 |\n| 38 |  7362 |\n| 39 |  9878 |\n| 40 | 10017 |\n| 41 | 10088 |\n| 42 |  6953 |\n| 43 |  6751 |\n| 44 |  7169 |\n| 45 |  9637 |\n\n",
            "text/html": [
              "<table class=\"dataframe\">\n",
              "<caption>A data.frame: 45 × 2</caption>\n",
              "<thead>\n",
              "\t<tr><th scope=col>Var1</th><th scope=col>Freq</th></tr>\n",
              "\t<tr><th scope=col>&lt;fct&gt;</th><th scope=col>&lt;int&gt;</th></tr>\n",
              "</thead>\n",
              "<tbody>\n",
              "\t<tr><td>1 </td><td>10244</td></tr>\n",
              "\t<tr><td>2 </td><td>10238</td></tr>\n",
              "\t<tr><td>3 </td><td> 9036</td></tr>\n",
              "\t<tr><td>4 </td><td>10272</td></tr>\n",
              "\t<tr><td>5 </td><td> 8999</td></tr>\n",
              "\t<tr><td>6 </td><td>10211</td></tr>\n",
              "\t<tr><td>7 </td><td> 9762</td></tr>\n",
              "\t<tr><td>8 </td><td> 9895</td></tr>\n",
              "\t<tr><td>9 </td><td> 8867</td></tr>\n",
              "\t<tr><td>10</td><td>10315</td></tr>\n",
              "\t<tr><td>11</td><td>10062</td></tr>\n",
              "\t<tr><td>12</td><td> 9705</td></tr>\n",
              "\t<tr><td>13</td><td>10474</td></tr>\n",
              "\t<tr><td>14</td><td>10040</td></tr>\n",
              "\t<tr><td>15</td><td> 9901</td></tr>\n",
              "\t<tr><td>16</td><td> 9443</td></tr>\n",
              "\t<tr><td>17</td><td> 9864</td></tr>\n",
              "\t<tr><td>18</td><td> 9859</td></tr>\n",
              "\t<tr><td>19</td><td>10148</td></tr>\n",
              "\t<tr><td>20</td><td>10214</td></tr>\n",
              "\t<tr><td>21</td><td> 9582</td></tr>\n",
              "\t<tr><td>22</td><td> 9688</td></tr>\n",
              "\t<tr><td>23</td><td>10050</td></tr>\n",
              "\t<tr><td>24</td><td>10228</td></tr>\n",
              "\t<tr><td>25</td><td> 9804</td></tr>\n",
              "\t<tr><td>26</td><td> 9854</td></tr>\n",
              "\t<tr><td>27</td><td>10225</td></tr>\n",
              "\t<tr><td>28</td><td>10113</td></tr>\n",
              "\t<tr><td>29</td><td> 9455</td></tr>\n",
              "\t<tr><td>30</td><td> 7156</td></tr>\n",
              "\t<tr><td>31</td><td>10142</td></tr>\n",
              "\t<tr><td>32</td><td>10202</td></tr>\n",
              "\t<tr><td>33</td><td> 6487</td></tr>\n",
              "\t<tr><td>34</td><td>10224</td></tr>\n",
              "\t<tr><td>35</td><td> 9528</td></tr>\n",
              "\t<tr><td>36</td><td> 6222</td></tr>\n",
              "\t<tr><td>37</td><td> 7206</td></tr>\n",
              "\t<tr><td>38</td><td> 7362</td></tr>\n",
              "\t<tr><td>39</td><td> 9878</td></tr>\n",
              "\t<tr><td>40</td><td>10017</td></tr>\n",
              "\t<tr><td>41</td><td>10088</td></tr>\n",
              "\t<tr><td>42</td><td> 6953</td></tr>\n",
              "\t<tr><td>43</td><td> 6751</td></tr>\n",
              "\t<tr><td>44</td><td> 7169</td></tr>\n",
              "\t<tr><td>45</td><td> 9637</td></tr>\n",
              "</tbody>\n",
              "</table>\n"
            ]
          },
          "metadata": {}
        }
      ]
    },
    {
      "cell_type": "code",
      "source": [
        "# Which store has the most rows ?\n"
      ],
      "metadata": {
        "id": "zjdPQP-cEPAg"
      },
      "execution_count": null,
      "outputs": []
    }
  ]
}