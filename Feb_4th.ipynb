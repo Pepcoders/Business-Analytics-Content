{
  "nbformat": 4,
  "nbformat_minor": 0,
  "metadata": {
    "colab": {
      "name": "Feb-4th.ipynb",
      "provenance": [],
      "authorship_tag": "ABX9TyOV48UAWvn6u3Ob6hsMmTdk",
      "include_colab_link": true
    },
    "kernelspec": {
      "name": "ir",
      "display_name": "R"
    },
    "language_info": {
      "name": "R"
    }
  },
  "cells": [
    {
      "cell_type": "markdown",
      "metadata": {
        "id": "view-in-github",
        "colab_type": "text"
      },
      "source": [
        "<a href=\"https://colab.research.google.com/github/Pepcoders/Business-Analytics-Content/blob/BA/Feb_4th.ipynb\" target=\"_parent\"><img src=\"https://colab.research.google.com/assets/colab-badge.svg\" alt=\"Open In Colab\"/></a>"
      ]
    },
    {
      "cell_type": "code",
      "execution_count": null,
      "metadata": {
        "colab": {
          "base_uri": "https://localhost:8080/",
          "height": 34
        },
        "id": "2_oKiG_hdDpB",
        "outputId": "76767597-3508-4519-b40c-bfea8d5081ce"
      },
      "outputs": [
        {
          "output_type": "display_data",
          "data": {
            "text/plain": [
              "[1] 2"
            ],
            "text/latex": "2",
            "text/markdown": "2",
            "text/html": [
              "2"
            ]
          },
          "metadata": {}
        }
      ],
      "source": [
        "#Addition\n",
        "1+1"
      ]
    },
    {
      "cell_type": "code",
      "source": [
        "#Subtraction\n",
        "10-5"
      ],
      "metadata": {
        "colab": {
          "base_uri": "https://localhost:8080/",
          "height": 34
        },
        "id": "VQ35XLnneZFD",
        "outputId": "88a8a2c0-1fc6-46b3-acb1-4bfff5bf0f07"
      },
      "execution_count": null,
      "outputs": [
        {
          "output_type": "display_data",
          "data": {
            "text/plain": [
              "[1] 5"
            ],
            "text/latex": "5",
            "text/markdown": "5",
            "text/html": [
              "5"
            ]
          },
          "metadata": {}
        }
      ]
    },
    {
      "cell_type": "code",
      "source": [
        "#division\n",
        "10/5"
      ],
      "metadata": {
        "colab": {
          "base_uri": "https://localhost:8080/",
          "height": 34
        },
        "id": "-FbyKAxzecxM",
        "outputId": "a278d41b-868e-4852-bb9d-f42759ad77dd"
      },
      "execution_count": null,
      "outputs": [
        {
          "output_type": "display_data",
          "data": {
            "text/plain": [
              "[1] 2"
            ],
            "text/latex": "2",
            "text/markdown": "2",
            "text/html": [
              "2"
            ]
          },
          "metadata": {}
        }
      ]
    },
    {
      "cell_type": "code",
      "source": [
        "#Multiplication\n",
        "10*5"
      ],
      "metadata": {
        "colab": {
          "base_uri": "https://localhost:8080/",
          "height": 34
        },
        "id": "56Mh4WzReuyY",
        "outputId": "3a0afcb3-09a1-42e5-c5bc-f2db9cc06dbb"
      },
      "execution_count": null,
      "outputs": [
        {
          "output_type": "display_data",
          "data": {
            "text/plain": [
              "[1] 50"
            ],
            "text/latex": "50",
            "text/markdown": "50",
            "text/html": [
              "50"
            ]
          },
          "metadata": {}
        }
      ]
    },
    {
      "cell_type": "code",
      "source": [
        "#BODMAS\n",
        "10/(5/5)"
      ],
      "metadata": {
        "colab": {
          "base_uri": "https://localhost:8080/",
          "height": 34
        },
        "id": "uzg4H061ex3w",
        "outputId": "31354f89-597c-404b-9ee4-fddce74e0f7b"
      },
      "execution_count": null,
      "outputs": [
        {
          "output_type": "display_data",
          "data": {
            "text/plain": [
              "[1] 10"
            ],
            "text/latex": "10",
            "text/markdown": "10",
            "text/html": [
              "10"
            ]
          },
          "metadata": {}
        }
      ]
    },
    {
      "cell_type": "code",
      "source": [
        "sqrt(30) #Square root"
      ],
      "metadata": {
        "colab": {
          "base_uri": "https://localhost:8080/",
          "height": 34
        },
        "id": "rR7HHTDge8tK",
        "outputId": "22b71284-0aa1-41f2-fcee-3831766ab178"
      },
      "execution_count": null,
      "outputs": [
        {
          "output_type": "display_data",
          "data": {
            "text/plain": [
              "[1] 5.477226"
            ],
            "text/latex": "5.47722557505166",
            "text/markdown": "5.47722557505166",
            "text/html": [
              "5.47722557505166"
            ]
          },
          "metadata": {}
        }
      ]
    },
    {
      "cell_type": "code",
      "source": [
        "log(10)   #Logarithm"
      ],
      "metadata": {
        "colab": {
          "base_uri": "https://localhost:8080/",
          "height": 34
        },
        "id": "CHQHqd8IfYuo",
        "outputId": "62d44ad3-599d-4ff6-a586-c6489ac93ed5"
      },
      "execution_count": null,
      "outputs": [
        {
          "output_type": "display_data",
          "data": {
            "text/plain": [
              "[1] 2.302585"
            ],
            "text/latex": "2.30258509299405",
            "text/markdown": "2.30258509299405",
            "text/html": [
              "2.30258509299405"
            ]
          },
          "metadata": {}
        }
      ]
    },
    {
      "cell_type": "code",
      "source": [
        "exp(0)   #Exponential"
      ],
      "metadata": {
        "colab": {
          "base_uri": "https://localhost:8080/",
          "height": 34
        },
        "id": "uSEsZtrCjMw8",
        "outputId": "8a0ff7a1-86c8-4e28-a5c7-e787668ba256"
      },
      "execution_count": null,
      "outputs": [
        {
          "output_type": "display_data",
          "data": {
            "text/plain": [
              "[1] 1"
            ],
            "text/latex": "1",
            "text/markdown": "1",
            "text/html": [
              "1"
            ]
          },
          "metadata": {}
        }
      ]
    },
    {
      "cell_type": "code",
      "source": [
        "print(\"Insert a number   \")\n",
        " input <- readline()\n",
        "\n",
        "\n",
        " \n"
      ],
      "metadata": {
        "colab": {
          "base_uri": "https://localhost:8080/"
        },
        "id": "DguwjUU4jPaQ",
        "outputId": "7d6b3b71-08ab-492b-bee6-dd95d67ec35c"
      },
      "execution_count": null,
      "outputs": [
        {
          "name": "stdout",
          "output_type": "stream",
          "text": [
            "[1] \"Insert a number   \"\n",
            "45\n"
          ]
        }
      ]
    },
    {
      "cell_type": "code",
      "source": [
        "inp = readline(\"type your name\")"
      ],
      "metadata": {
        "colab": {
          "base_uri": "https://localhost:8080/"
        },
        "id": "caNNuWC-qE9_",
        "outputId": "7ec0a85c-91b6-423d-bd94-aef6670c6381"
      },
      "execution_count": null,
      "outputs": [
        {
          "name": "stdout",
          "output_type": "stream",
          "text": [
            "type your nameaapp\n"
          ]
        }
      ]
    },
    {
      "cell_type": "code",
      "source": [
        "print(\"Hello World\")"
      ],
      "metadata": {
        "colab": {
          "base_uri": "https://localhost:8080/"
        },
        "id": "oNGCtGoFlRpI",
        "outputId": "46c04ec6-41d3-4206-d930-5ebcd7d56cbf"
      },
      "execution_count": null,
      "outputs": [
        {
          "output_type": "stream",
          "name": "stdout",
          "text": [
            "[1] \"Hello World\"\n"
          ]
        }
      ]
    },
    {
      "cell_type": "code",
      "source": [
        "message(\"hello world\")"
      ],
      "metadata": {
        "colab": {
          "base_uri": "https://localhost:8080/"
        },
        "id": "Qv9JMpiroDow",
        "outputId": "8bc517b6-9657-4d98-ae1d-ad45b0071a2f"
      },
      "execution_count": null,
      "outputs": [
        {
          "output_type": "stream",
          "name": "stderr",
          "text": [
            "hello world\n",
            "\n"
          ]
        }
      ]
    },
    {
      "cell_type": "code",
      "source": [
        "var=5"
      ],
      "metadata": {
        "id": "ofIuhqYMp8nA"
      },
      "execution_count": null,
      "outputs": []
    },
    {
      "cell_type": "code",
      "source": [
        "typeof(var)"
      ],
      "metadata": {
        "colab": {
          "base_uri": "https://localhost:8080/",
          "height": 34
        },
        "id": "E32UUIOwuUV7",
        "outputId": "34b6c981-4bbf-4a6e-9477-6f9d1cd409fc"
      },
      "execution_count": null,
      "outputs": [
        {
          "output_type": "display_data",
          "data": {
            "text/plain": [
              "[1] \"double\""
            ],
            "text/latex": "'double'",
            "text/markdown": "'double'",
            "text/html": [
              "'double'"
            ]
          },
          "metadata": {}
        }
      ]
    },
    {
      "cell_type": "code",
      "source": [
        "quantity<-1"
      ],
      "metadata": {
        "id": "jqG1DF9suWl8"
      },
      "execution_count": null,
      "outputs": []
    },
    {
      "cell_type": "code",
      "source": [
        "quantity"
      ],
      "metadata": {
        "colab": {
          "base_uri": "https://localhost:8080/",
          "height": 34
        },
        "id": "23mkgFBjxJAC",
        "outputId": "ce45d643-13bd-497d-c2f5-5dc646a9b508"
      },
      "execution_count": null,
      "outputs": [
        {
          "output_type": "display_data",
          "data": {
            "text/plain": [
              "[1] 1"
            ],
            "text/latex": "1",
            "text/markdown": "1",
            "text/html": [
              "1"
            ]
          },
          "metadata": {}
        }
      ]
    },
    {
      "cell_type": "code",
      "source": [
        "typeof(quantity)"
      ],
      "metadata": {
        "colab": {
          "base_uri": "https://localhost:8080/",
          "height": 34
        },
        "id": "DG8fRvyBxOkT",
        "outputId": "0d8fb212-24ea-40ef-c255-609b2bcec250"
      },
      "execution_count": null,
      "outputs": [
        {
          "output_type": "display_data",
          "data": {
            "text/plain": [
              "[1] \"double\""
            ],
            "text/latex": "'double'",
            "text/markdown": "'double'",
            "text/html": [
              "'double'"
            ]
          },
          "metadata": {}
        }
      ]
    },
    {
      "cell_type": "code",
      "source": [
        "quantity_2 <- 1L"
      ],
      "metadata": {
        "id": "v8N0qqp_xoYk"
      },
      "execution_count": null,
      "outputs": []
    },
    {
      "cell_type": "code",
      "source": [
        "quantity_2"
      ],
      "metadata": {
        "colab": {
          "base_uri": "https://localhost:8080/",
          "height": 34
        },
        "id": "5hGQ8Cd9xwFs",
        "outputId": "8977b9bc-209b-43bf-9441-19ab207e2b76"
      },
      "execution_count": null,
      "outputs": [
        {
          "output_type": "display_data",
          "data": {
            "text/plain": [
              "[1] 1"
            ],
            "text/latex": "1",
            "text/markdown": "1",
            "text/html": [
              "1"
            ]
          },
          "metadata": {}
        }
      ]
    },
    {
      "cell_type": "code",
      "source": [
        "typeof(quantity_2)"
      ],
      "metadata": {
        "colab": {
          "base_uri": "https://localhost:8080/",
          "height": 34
        },
        "id": "DQN128RYxxrl",
        "outputId": "298ae7fa-a181-4742-959e-b25b54ff1e24"
      },
      "execution_count": null,
      "outputs": [
        {
          "output_type": "display_data",
          "data": {
            "text/plain": [
              "[1] \"integer\""
            ],
            "text/latex": "'integer'",
            "text/markdown": "'integer'",
            "text/html": [
              "'integer'"
            ]
          },
          "metadata": {}
        }
      ]
    },
    {
      "cell_type": "code",
      "source": [
        "is.integer(quantity_2)"
      ],
      "metadata": {
        "colab": {
          "base_uri": "https://localhost:8080/",
          "height": 34
        },
        "id": "Anu4r8Fxx35g",
        "outputId": "7c573c4f-a4dd-4340-b81e-11beeb863ad0"
      },
      "execution_count": null,
      "outputs": [
        {
          "output_type": "display_data",
          "data": {
            "text/plain": [
              "[1] TRUE"
            ],
            "text/latex": "TRUE",
            "text/markdown": "TRUE",
            "text/html": [
              "TRUE"
            ]
          },
          "metadata": {}
        }
      ]
    },
    {
      "cell_type": "code",
      "source": [
        "is.integer(quantity)"
      ],
      "metadata": {
        "colab": {
          "base_uri": "https://localhost:8080/",
          "height": 34
        },
        "id": "9q-f172EyC-N",
        "outputId": "201e222d-4e14-4556-c960-d0f98a9fd04a"
      },
      "execution_count": null,
      "outputs": [
        {
          "output_type": "display_data",
          "data": {
            "text/plain": [
              "[1] FALSE"
            ],
            "text/latex": "FALSE",
            "text/markdown": "FALSE",
            "text/html": [
              "FALSE"
            ]
          },
          "metadata": {}
        }
      ]
    },
    {
      "cell_type": "code",
      "source": [
        "product <- 'apple'"
      ],
      "metadata": {
        "id": "aFy5CgZbyHGZ"
      },
      "execution_count": null,
      "outputs": []
    },
    {
      "cell_type": "code",
      "source": [
        "product"
      ],
      "metadata": {
        "colab": {
          "base_uri": "https://localhost:8080/",
          "height": 34
        },
        "id": "ONXiJwTRyOlq",
        "outputId": "b62331fd-8bb1-4dfd-b787-6d4b16bb8181"
      },
      "execution_count": null,
      "outputs": [
        {
          "output_type": "display_data",
          "data": {
            "text/plain": [
              "[1] \"apple\""
            ],
            "text/latex": "'apple'",
            "text/markdown": "'apple'",
            "text/html": [
              "'apple'"
            ]
          },
          "metadata": {}
        }
      ]
    },
    {
      "cell_type": "code",
      "source": [
        "is.character(product)"
      ],
      "metadata": {
        "colab": {
          "base_uri": "https://localhost:8080/",
          "height": 34
        },
        "id": "CBuLGK7KyPtz",
        "outputId": "862caf7c-1b90-4682-ec33-924d5a6b013b"
      },
      "execution_count": null,
      "outputs": [
        {
          "output_type": "display_data",
          "data": {
            "text/plain": [
              "[1] TRUE"
            ],
            "text/latex": "TRUE",
            "text/markdown": "TRUE",
            "text/html": [
              "TRUE"
            ]
          },
          "metadata": {}
        }
      ]
    },
    {
      "cell_type": "code",
      "source": [
        ""
      ],
      "metadata": {
        "id": "CfQl2PURyU91"
      },
      "execution_count": null,
      "outputs": []
    }
  ]
}