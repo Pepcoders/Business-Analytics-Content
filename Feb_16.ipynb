{
  "nbformat": 4,
  "nbformat_minor": 0,
  "metadata": {
    "colab": {
      "name": "Feb_16.ipynb",
      "provenance": [],
      "authorship_tag": "ABX9TyNMpzlE3FYnaDI1GjhLWCGf",
      "include_colab_link": true
    },
    "kernelspec": {
      "name": "ir",
      "display_name": "R"
    },
    "language_info": {
      "name": "R"
    }
  },
  "cells": [
    {
      "cell_type": "markdown",
      "metadata": {
        "id": "view-in-github",
        "colab_type": "text"
      },
      "source": [
        "<a href=\"https://colab.research.google.com/github/Pepcoders/Business-Analytics-Content/blob/BA/Feb_16.ipynb\" target=\"_parent\"><img src=\"https://colab.research.google.com/assets/colab-badge.svg\" alt=\"Open In Colab\"/></a>"
      ]
    },
    {
      "cell_type": "code",
      "execution_count": 1,
      "metadata": {
        "id": "4r6Uz1cpJriH"
      },
      "outputs": [],
      "source": [
        "#Factors\n",
        "labels=c('Asia','Oceania','Antarctica','Europe','Africa','Europe','North America','South America','Africa')"
      ]
    },
    {
      "cell_type": "code",
      "source": [
        "is.factor(labels)"
      ],
      "metadata": {
        "colab": {
          "base_uri": "https://localhost:8080/",
          "height": 35
        },
        "id": "RDvor3jNOefr",
        "outputId": "12cbda00-4f35-449e-8afc-ce59e3daa5de"
      },
      "execution_count": 2,
      "outputs": [
        {
          "output_type": "display_data",
          "data": {
            "text/plain": [
              "[1] FALSE"
            ],
            "text/latex": "FALSE",
            "text/markdown": "FALSE",
            "text/html": [
              "FALSE"
            ]
          },
          "metadata": {}
        }
      ]
    },
    {
      "cell_type": "code",
      "source": [
        "factor_labels <- factor(labels)"
      ],
      "metadata": {
        "id": "p-d0g_zZOjTn"
      },
      "execution_count": 6,
      "outputs": []
    },
    {
      "cell_type": "code",
      "source": [
        "is.factor(factor_labels)"
      ],
      "metadata": {
        "colab": {
          "base_uri": "https://localhost:8080/",
          "height": 35
        },
        "id": "H1qrrweCOmc-",
        "outputId": "cb659ed7-2f82-435e-d5fd-7d1099c99189"
      },
      "execution_count": 7,
      "outputs": [
        {
          "output_type": "display_data",
          "data": {
            "text/plain": [
              "[1] TRUE"
            ],
            "text/latex": "TRUE",
            "text/markdown": "TRUE",
            "text/html": [
              "TRUE"
            ]
          },
          "metadata": {}
        }
      ]
    },
    {
      "cell_type": "code",
      "source": [
        "typeof(factor_labels)"
      ],
      "metadata": {
        "colab": {
          "base_uri": "https://localhost:8080/",
          "height": 35
        },
        "id": "XOi4Jiy5O_8l",
        "outputId": "f70cb617-9866-4fd2-efe7-16b51e905c55"
      },
      "execution_count": 8,
      "outputs": [
        {
          "output_type": "display_data",
          "data": {
            "text/plain": [
              "[1] \"integer\""
            ],
            "text/latex": "'integer'",
            "text/markdown": "'integer'",
            "text/html": [
              "'integer'"
            ]
          },
          "metadata": {}
        }
      ]
    },
    {
      "cell_type": "code",
      "source": [
        "as.integer(factor_labels)"
      ],
      "metadata": {
        "colab": {
          "base_uri": "https://localhost:8080/",
          "height": 35
        },
        "id": "iMynuLERPLo6",
        "outputId": "48af94e0-91e6-4078-93fc-fbc96b719a07"
      },
      "execution_count": 9,
      "outputs": [
        {
          "output_type": "display_data",
          "data": {
            "text/plain": [
              "[1] 3 6 2 4 1 4 5 7 1"
            ],
            "text/latex": "\\begin{enumerate*}\n\\item 3\n\\item 6\n\\item 2\n\\item 4\n\\item 1\n\\item 4\n\\item 5\n\\item 7\n\\item 1\n\\end{enumerate*}\n",
            "text/markdown": "1. 3\n2. 6\n3. 2\n4. 4\n5. 1\n6. 4\n7. 5\n8. 7\n9. 1\n\n\n",
            "text/html": [
              "<style>\n",
              ".list-inline {list-style: none; margin:0; padding: 0}\n",
              ".list-inline>li {display: inline-block}\n",
              ".list-inline>li:not(:last-child)::after {content: \"\\00b7\"; padding: 0 .5ex}\n",
              "</style>\n",
              "<ol class=list-inline><li>3</li><li>6</li><li>2</li><li>4</li><li>1</li><li>4</li><li>5</li><li>7</li><li>1</li></ol>\n"
            ]
          },
          "metadata": {}
        }
      ]
    },
    {
      "cell_type": "code",
      "source": [
        "nlevels(factor_labels)"
      ],
      "metadata": {
        "colab": {
          "base_uri": "https://localhost:8080/",
          "height": 35
        },
        "id": "Kp58cFoxPhOq",
        "outputId": "01b15397-958d-415f-f60e-84f3c9e3cbd6"
      },
      "execution_count": 10,
      "outputs": [
        {
          "output_type": "display_data",
          "data": {
            "text/plain": [
              "[1] 7"
            ],
            "text/latex": "7",
            "text/markdown": "7",
            "text/html": [
              "7"
            ]
          },
          "metadata": {}
        }
      ]
    },
    {
      "cell_type": "code",
      "source": [
        "altitude_levels=c('High','Low',\"Medium\",\"Low\",'High','Low')"
      ],
      "metadata": {
        "id": "1mzho8BWP0nO"
      },
      "execution_count": 16,
      "outputs": []
    },
    {
      "cell_type": "code",
      "source": [
        "altitude_factors=factor(altitude_levels)"
      ],
      "metadata": {
        "id": "dD4DOAs1P-Wt"
      },
      "execution_count": 14,
      "outputs": []
    },
    {
      "cell_type": "code",
      "source": [
        "as.integer(altitude_factors)"
      ],
      "metadata": {
        "colab": {
          "base_uri": "https://localhost:8080/",
          "height": 35
        },
        "id": "iMwRnY00QCPB",
        "outputId": "b147aa81-9673-415f-a3a1-2c3880d8abbe"
      },
      "execution_count": 15,
      "outputs": [
        {
          "output_type": "display_data",
          "data": {
            "text/plain": [
              "[1] 1 2 3 2 1 2"
            ],
            "text/latex": "\\begin{enumerate*}\n\\item 1\n\\item 2\n\\item 3\n\\item 2\n\\item 1\n\\item 2\n\\end{enumerate*}\n",
            "text/markdown": "1. 1\n2. 2\n3. 3\n4. 2\n5. 1\n6. 2\n\n\n",
            "text/html": [
              "<style>\n",
              ".list-inline {list-style: none; margin:0; padding: 0}\n",
              ".list-inline>li {display: inline-block}\n",
              ".list-inline>li:not(:last-child)::after {content: \"\\00b7\"; padding: 0 .5ex}\n",
              "</style>\n",
              "<ol class=list-inline><li>1</li><li>2</li><li>3</li><li>2</li><li>1</li><li>2</li></ol>\n"
            ]
          },
          "metadata": {}
        }
      ]
    },
    {
      "cell_type": "code",
      "source": [
        "altitude_factors=factor(altitude_levels,order=TRUE,levels=c('Low','Medium','High'))"
      ],
      "metadata": {
        "id": "GoedjA69QPFX"
      },
      "execution_count": 17,
      "outputs": []
    },
    {
      "cell_type": "code",
      "source": [
        "altitude_factors"
      ],
      "metadata": {
        "colab": {
          "base_uri": "https://localhost:8080/",
          "height": 69
        },
        "id": "1XhflbX1Qvd8",
        "outputId": "a5a16447-ffba-432e-bbfe-6f5035aa77e9"
      },
      "execution_count": 18,
      "outputs": [
        {
          "output_type": "display_data",
          "data": {
            "text/plain": [
              "[1] High   Low    Medium Low    High   Low   \n",
              "Levels: Low < Medium < High"
            ],
            "text/latex": "\\begin{enumerate*}\n\\item High\n\\item Low\n\\item Medium\n\\item Low\n\\item High\n\\item Low\n\\end{enumerate*}\n\n\\emph{Levels}: \\begin{enumerate*}\n\\item 'Low'\n\\item 'Medium'\n\\item 'High'\n\\end{enumerate*}\n",
            "text/markdown": "1. High\n2. Low\n3. Medium\n4. Low\n5. High\n6. Low\n\n\n\n**Levels**: 1. 'Low'\n2. 'Medium'\n3. 'High'\n\n\n",
            "text/html": [
              "<style>\n",
              ".list-inline {list-style: none; margin:0; padding: 0}\n",
              ".list-inline>li {display: inline-block}\n",
              ".list-inline>li:not(:last-child)::after {content: \"\\00b7\"; padding: 0 .5ex}\n",
              "</style>\n",
              "<ol class=list-inline><li>High</li><li>Low</li><li>Medium</li><li>Low</li><li>High</li><li>Low</li></ol>\n",
              "\n",
              "<details>\n",
              "\t<summary style=display:list-item;cursor:pointer>\n",
              "\t\t<strong>Levels</strong>:\n",
              "\t</summary>\n",
              "\t<style>\n",
              "\t.list-inline {list-style: none; margin:0; padding: 0}\n",
              "\t.list-inline>li {display: inline-block}\n",
              "\t.list-inline>li:not(:last-child)::after {content: \"\\00b7\"; padding: 0 .5ex}\n",
              "\t</style>\n",
              "\t<ol class=list-inline><li>'Low'</li><li>'Medium'</li><li>'High'</li></ol>\n",
              "</details>"
            ]
          },
          "metadata": {}
        }
      ]
    },
    {
      "cell_type": "code",
      "source": [
        "as.integer(altitude_factors)"
      ],
      "metadata": {
        "colab": {
          "base_uri": "https://localhost:8080/",
          "height": 35
        },
        "id": "vAKxSa2tQyac",
        "outputId": "43e3500a-a4d2-439d-f9a3-4b9cc530d7bd"
      },
      "execution_count": 19,
      "outputs": [
        {
          "output_type": "display_data",
          "data": {
            "text/plain": [
              "[1] 3 1 2 1 3 1"
            ],
            "text/latex": "\\begin{enumerate*}\n\\item 3\n\\item 1\n\\item 2\n\\item 1\n\\item 3\n\\item 1\n\\end{enumerate*}\n",
            "text/markdown": "1. 3\n2. 1\n3. 2\n4. 1\n5. 3\n6. 1\n\n\n",
            "text/html": [
              "<style>\n",
              ".list-inline {list-style: none; margin:0; padding: 0}\n",
              ".list-inline>li {display: inline-block}\n",
              ".list-inline>li:not(:last-child)::after {content: \"\\00b7\"; padding: 0 .5ex}\n",
              "</style>\n",
              "<ol class=list-inline><li>3</li><li>1</li><li>2</li><li>1</li><li>3</li><li>1</li></ol>\n"
            ]
          },
          "metadata": {}
        }
      ]
    },
    {
      "cell_type": "code",
      "source": [
        ""
      ],
      "metadata": {
        "id": "Yike9y84Q2fC"
      },
      "execution_count": null,
      "outputs": []
    }
  ]
}