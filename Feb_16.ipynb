{
  "nbformat": 4,
  "nbformat_minor": 0,
  "metadata": {
    "colab": {
      "name": "Feb_16.ipynb",
      "provenance": [],
      "authorship_tag": "ABX9TyPoUuJA/8izIH3wdPd4f/BV",
      "include_colab_link": true
    },
    "kernelspec": {
      "name": "ir",
      "display_name": "R"
    },
    "language_info": {
      "name": "R"
    }
  },
  "cells": [
    {
      "cell_type": "markdown",
      "metadata": {
        "id": "view-in-github",
        "colab_type": "text"
      },
      "source": [
        "<a href=\"https://colab.research.google.com/github/Pepcoders/Business-Analytics-Content/blob/BA/Feb_16.ipynb\" target=\"_parent\"><img src=\"https://colab.research.google.com/assets/colab-badge.svg\" alt=\"Open In Colab\"/></a>"
      ]
    },
    {
      "cell_type": "code",
      "execution_count": 1,
      "metadata": {
        "id": "4r6Uz1cpJriH"
      },
      "outputs": [],
      "source": [
        "#Factors\n",
        "labels=c('Asia','Oceania','Antarctica','Europe','Africa','Europe','North America','South America','Africa')"
      ]
    },
    {
      "cell_type": "code",
      "source": [
        "is.factor(labels)"
      ],
      "metadata": {
        "colab": {
          "base_uri": "https://localhost:8080/",
          "height": 34
        },
        "id": "RDvor3jNOefr",
        "outputId": "12cbda00-4f35-449e-8afc-ce59e3daa5de"
      },
      "execution_count": 2,
      "outputs": [
        {
          "output_type": "display_data",
          "data": {
            "text/plain": [
              "[1] FALSE"
            ],
            "text/latex": "FALSE",
            "text/markdown": "FALSE",
            "text/html": [
              "FALSE"
            ]
          },
          "metadata": {}
        }
      ]
    },
    {
      "cell_type": "code",
      "source": [
        "factor_labels <- factor(labels)"
      ],
      "metadata": {
        "id": "p-d0g_zZOjTn"
      },
      "execution_count": 6,
      "outputs": []
    },
    {
      "cell_type": "code",
      "source": [
        "is.factor(factor_labels)"
      ],
      "metadata": {
        "colab": {
          "base_uri": "https://localhost:8080/",
          "height": 34
        },
        "id": "H1qrrweCOmc-",
        "outputId": "cb659ed7-2f82-435e-d5fd-7d1099c99189"
      },
      "execution_count": 7,
      "outputs": [
        {
          "output_type": "display_data",
          "data": {
            "text/plain": [
              "[1] TRUE"
            ],
            "text/latex": "TRUE",
            "text/markdown": "TRUE",
            "text/html": [
              "TRUE"
            ]
          },
          "metadata": {}
        }
      ]
    },
    {
      "cell_type": "code",
      "source": [
        "typeof(factor_labels)"
      ],
      "metadata": {
        "colab": {
          "base_uri": "https://localhost:8080/",
          "height": 34
        },
        "id": "XOi4Jiy5O_8l",
        "outputId": "f70cb617-9866-4fd2-efe7-16b51e905c55"
      },
      "execution_count": 8,
      "outputs": [
        {
          "output_type": "display_data",
          "data": {
            "text/plain": [
              "[1] \"integer\""
            ],
            "text/latex": "'integer'",
            "text/markdown": "'integer'",
            "text/html": [
              "'integer'"
            ]
          },
          "metadata": {}
        }
      ]
    },
    {
      "cell_type": "code",
      "source": [
        "as.integer(factor_labels)"
      ],
      "metadata": {
        "colab": {
          "base_uri": "https://localhost:8080/",
          "height": 34
        },
        "id": "iMynuLERPLo6",
        "outputId": "48af94e0-91e6-4078-93fc-fbc96b719a07"
      },
      "execution_count": 9,
      "outputs": [
        {
          "output_type": "display_data",
          "data": {
            "text/plain": [
              "[1] 3 6 2 4 1 4 5 7 1"
            ],
            "text/latex": "\\begin{enumerate*}\n\\item 3\n\\item 6\n\\item 2\n\\item 4\n\\item 1\n\\item 4\n\\item 5\n\\item 7\n\\item 1\n\\end{enumerate*}\n",
            "text/markdown": "1. 3\n2. 6\n3. 2\n4. 4\n5. 1\n6. 4\n7. 5\n8. 7\n9. 1\n\n\n",
            "text/html": [
              "<style>\n",
              ".list-inline {list-style: none; margin:0; padding: 0}\n",
              ".list-inline>li {display: inline-block}\n",
              ".list-inline>li:not(:last-child)::after {content: \"\\00b7\"; padding: 0 .5ex}\n",
              "</style>\n",
              "<ol class=list-inline><li>3</li><li>6</li><li>2</li><li>4</li><li>1</li><li>4</li><li>5</li><li>7</li><li>1</li></ol>\n"
            ]
          },
          "metadata": {}
        }
      ]
    },
    {
      "cell_type": "code",
      "source": [
        "nlevels(factor_labels)"
      ],
      "metadata": {
        "colab": {
          "base_uri": "https://localhost:8080/",
          "height": 34
        },
        "id": "Kp58cFoxPhOq",
        "outputId": "01b15397-958d-415f-f60e-84f3c9e3cbd6"
      },
      "execution_count": 10,
      "outputs": [
        {
          "output_type": "display_data",
          "data": {
            "text/plain": [
              "[1] 7"
            ],
            "text/latex": "7",
            "text/markdown": "7",
            "text/html": [
              "7"
            ]
          },
          "metadata": {}
        }
      ]
    },
    {
      "cell_type": "code",
      "source": [
        "altitude_levels=c('High','Low',\"Medium\",\"Low\",'High','Low')"
      ],
      "metadata": {
        "id": "1mzho8BWP0nO"
      },
      "execution_count": 16,
      "outputs": []
    },
    {
      "cell_type": "code",
      "source": [
        "altitude_factors=factor(altitude_levels)"
      ],
      "metadata": {
        "id": "dD4DOAs1P-Wt"
      },
      "execution_count": 14,
      "outputs": []
    },
    {
      "cell_type": "code",
      "source": [
        "as.integer(altitude_factors)"
      ],
      "metadata": {
        "colab": {
          "base_uri": "https://localhost:8080/",
          "height": 34
        },
        "id": "iMwRnY00QCPB",
        "outputId": "b147aa81-9673-415f-a3a1-2c3880d8abbe"
      },
      "execution_count": 15,
      "outputs": [
        {
          "output_type": "display_data",
          "data": {
            "text/plain": [
              "[1] 1 2 3 2 1 2"
            ],
            "text/latex": "\\begin{enumerate*}\n\\item 1\n\\item 2\n\\item 3\n\\item 2\n\\item 1\n\\item 2\n\\end{enumerate*}\n",
            "text/markdown": "1. 1\n2. 2\n3. 3\n4. 2\n5. 1\n6. 2\n\n\n",
            "text/html": [
              "<style>\n",
              ".list-inline {list-style: none; margin:0; padding: 0}\n",
              ".list-inline>li {display: inline-block}\n",
              ".list-inline>li:not(:last-child)::after {content: \"\\00b7\"; padding: 0 .5ex}\n",
              "</style>\n",
              "<ol class=list-inline><li>1</li><li>2</li><li>3</li><li>2</li><li>1</li><li>2</li></ol>\n"
            ]
          },
          "metadata": {}
        }
      ]
    },
    {
      "cell_type": "code",
      "source": [
        "altitude_factors=factor(altitude_levels,order=TRUE,levels=c('Low','Medium','High'))"
      ],
      "metadata": {
        "id": "GoedjA69QPFX"
      },
      "execution_count": 17,
      "outputs": []
    },
    {
      "cell_type": "code",
      "source": [
        "altitude_factors"
      ],
      "metadata": {
        "id": "1XhflbX1Qvd8"
      },
      "execution_count": null,
      "outputs": []
    },
    {
      "cell_type": "code",
      "source": [
        "as.integer(altitude_factors)"
      ],
      "metadata": {
        "colab": {
          "base_uri": "https://localhost:8080/",
          "height": 34
        },
        "id": "vAKxSa2tQyac",
        "outputId": "43e3500a-a4d2-439d-f9a3-4b9cc530d7bd"
      },
      "execution_count": 19,
      "outputs": [
        {
          "output_type": "display_data",
          "data": {
            "text/plain": [
              "[1] 3 1 2 1 3 1"
            ],
            "text/latex": "\\begin{enumerate*}\n\\item 3\n\\item 1\n\\item 2\n\\item 1\n\\item 3\n\\item 1\n\\end{enumerate*}\n",
            "text/markdown": "1. 3\n2. 1\n3. 2\n4. 1\n5. 3\n6. 1\n\n\n",
            "text/html": [
              "<style>\n",
              ".list-inline {list-style: none; margin:0; padding: 0}\n",
              ".list-inline>li {display: inline-block}\n",
              ".list-inline>li:not(:last-child)::after {content: \"\\00b7\"; padding: 0 .5ex}\n",
              "</style>\n",
              "<ol class=list-inline><li>3</li><li>1</li><li>2</li><li>1</li><li>3</li><li>1</li></ol>\n"
            ]
          },
          "metadata": {}
        }
      ]
    },
    {
      "cell_type": "code",
      "source": [
        "#Creating Dataframes\n",
        "\n",
        "countries_data<-data.frame(country=c('Portugal','France','UK'),\n",
        "        population=c(10280000,66990000,66650000),\n",
        "        EU=c(TRUE,TRUE,FALSE)\n",
        ")"
      ],
      "metadata": {
        "id": "Yike9y84Q2fC"
      },
      "execution_count": 20,
      "outputs": []
    },
    {
      "cell_type": "code",
      "source": [
        "print(countries_data)"
      ],
      "metadata": {
        "colab": {
          "base_uri": "https://localhost:8080/"
        },
        "id": "2MQE1uriafWW",
        "outputId": "dcf6a640-db89-4733-9818-9d8d9311926a"
      },
      "execution_count": 21,
      "outputs": [
        {
          "output_type": "stream",
          "name": "stdout",
          "text": [
            "   country population    EU\n",
            "1 Portugal   10280000  TRUE\n",
            "2   France   66990000  TRUE\n",
            "3       UK   66650000 FALSE\n"
          ]
        }
      ]
    },
    {
      "cell_type": "code",
      "source": [
        "str(countries_data)"
      ],
      "metadata": {
        "colab": {
          "base_uri": "https://localhost:8080/"
        },
        "id": "mLE-5iQqaiNY",
        "outputId": "52a6af38-d7e0-4ef2-c069-3719a6ba60e6"
      },
      "execution_count": 22,
      "outputs": [
        {
          "output_type": "stream",
          "name": "stdout",
          "text": [
            "'data.frame':\t3 obs. of  3 variables:\n",
            " $ country   : chr  \"Portugal\" \"France\" \"UK\"\n",
            " $ population: num  10280000 66990000 66650000\n",
            " $ EU        : logi  TRUE TRUE FALSE\n"
          ]
        }
      ]
    },
    {
      "cell_type": "code",
      "source": [
        "countries_data<-data.frame(row.names=c('Portugal','France','UK'),   #Naming the rows\n",
        "        population=c(10280000,66990000,66650000),\n",
        "        EU=c(TRUE,TRUE,FALSE)\n",
        ")"
      ],
      "metadata": {
        "id": "fzdqDO8Raow7"
      },
      "execution_count": 23,
      "outputs": []
    },
    {
      "cell_type": "code",
      "source": [
        "print(countries_data)"
      ],
      "metadata": {
        "colab": {
          "base_uri": "https://localhost:8080/"
        },
        "id": "qTR4tq7ca41b",
        "outputId": "8a58870b-6584-4a76-f455-71c975e02cd4"
      },
      "execution_count": 24,
      "outputs": [
        {
          "output_type": "stream",
          "name": "stdout",
          "text": [
            "         population    EU\n",
            "Portugal   10280000  TRUE\n",
            "France     66990000  TRUE\n",
            "UK         66650000 FALSE\n"
          ]
        }
      ]
    },
    {
      "cell_type": "code",
      "source": [
        "#Indexing and modifying DF\n",
        "countries_data[1,1]"
      ],
      "metadata": {
        "colab": {
          "base_uri": "https://localhost:8080/",
          "height": 34
        },
        "id": "4qyt4x_Qa6rb",
        "outputId": "050badab-51c0-4fcf-f4ff-caffe6919d9e"
      },
      "execution_count": 25,
      "outputs": [
        {
          "output_type": "display_data",
          "data": {
            "text/plain": [
              "[1] 10280000"
            ],
            "text/latex": "10280000",
            "text/markdown": "10280000",
            "text/html": [
              "10280000"
            ]
          },
          "metadata": {}
        }
      ]
    },
    {
      "cell_type": "code",
      "source": [
        "countries_data[1,]"
      ],
      "metadata": {
        "colab": {
          "base_uri": "https://localhost:8080/",
          "height": 130
        },
        "id": "73AWg_x8bQX8",
        "outputId": "a7bcc77d-4978-465d-e7a6-b3c86d5d0f5e"
      },
      "execution_count": 26,
      "outputs": [
        {
          "output_type": "display_data",
          "data": {
            "text/plain": [
              "         population EU  \n",
              "Portugal 10280000   TRUE"
            ],
            "text/latex": "A data.frame: 1 × 2\n\\begin{tabular}{r|ll}\n  & population & EU\\\\\n  & <dbl> & <lgl>\\\\\n\\hline\n\tPortugal & 10280000 & TRUE\\\\\n\\end{tabular}\n",
            "text/markdown": "\nA data.frame: 1 × 2\n\n| <!--/--> | population &lt;dbl&gt; | EU &lt;lgl&gt; |\n|---|---|---|\n| Portugal | 10280000 | TRUE |\n\n",
            "text/html": [
              "<table class=\"dataframe\">\n",
              "<caption>A data.frame: 1 × 2</caption>\n",
              "<thead>\n",
              "\t<tr><th></th><th scope=col>population</th><th scope=col>EU</th></tr>\n",
              "\t<tr><th></th><th scope=col>&lt;dbl&gt;</th><th scope=col>&lt;lgl&gt;</th></tr>\n",
              "</thead>\n",
              "<tbody>\n",
              "\t<tr><th scope=row>Portugal</th><td>10280000</td><td>TRUE</td></tr>\n",
              "</tbody>\n",
              "</table>\n"
            ]
          },
          "metadata": {}
        }
      ]
    },
    {
      "cell_type": "code",
      "source": [
        "countries_data[c('Portugal','France'),]"
      ],
      "metadata": {
        "colab": {
          "base_uri": "https://localhost:8080/",
          "height": 161
        },
        "id": "-u8ahdBSbVDe",
        "outputId": "58f99d79-7f37-4364-ef66-9f8066b8e617"
      },
      "execution_count": 27,
      "outputs": [
        {
          "output_type": "display_data",
          "data": {
            "text/plain": [
              "         population EU  \n",
              "Portugal 10280000   TRUE\n",
              "France   66990000   TRUE"
            ],
            "text/latex": "A data.frame: 2 × 2\n\\begin{tabular}{r|ll}\n  & population & EU\\\\\n  & <dbl> & <lgl>\\\\\n\\hline\n\tPortugal & 10280000 & TRUE\\\\\n\tFrance & 66990000 & TRUE\\\\\n\\end{tabular}\n",
            "text/markdown": "\nA data.frame: 2 × 2\n\n| <!--/--> | population &lt;dbl&gt; | EU &lt;lgl&gt; |\n|---|---|---|\n| Portugal | 10280000 | TRUE |\n| France | 66990000 | TRUE |\n\n",
            "text/html": [
              "<table class=\"dataframe\">\n",
              "<caption>A data.frame: 2 × 2</caption>\n",
              "<thead>\n",
              "\t<tr><th></th><th scope=col>population</th><th scope=col>EU</th></tr>\n",
              "\t<tr><th></th><th scope=col>&lt;dbl&gt;</th><th scope=col>&lt;lgl&gt;</th></tr>\n",
              "</thead>\n",
              "<tbody>\n",
              "\t<tr><th scope=row>Portugal</th><td>10280000</td><td>TRUE</td></tr>\n",
              "\t<tr><th scope=row>France</th><td>66990000</td><td>TRUE</td></tr>\n",
              "</tbody>\n",
              "</table>\n"
            ]
          },
          "metadata": {}
        }
      ]
    },
    {
      "cell_type": "code",
      "source": [
        "countries_data['Portugal','population'] <- 45450000 # Modify DF elements"
      ],
      "metadata": {
        "id": "XT7ZQVBxbcyZ"
      },
      "execution_count": 30,
      "outputs": []
    },
    {
      "cell_type": "code",
      "source": [
        "print(countries_data)"
      ],
      "metadata": {
        "colab": {
          "base_uri": "https://localhost:8080/"
        },
        "id": "Kct19EltbqDR",
        "outputId": "0b26fc70-346e-42cb-9a6f-0d0835734322"
      },
      "execution_count": 31,
      "outputs": [
        {
          "output_type": "stream",
          "name": "stdout",
          "text": [
            "         population    EU\n",
            "Portugal   45450000  TRUE\n",
            "France     66990000  TRUE\n",
            "UK         66650000 FALSE\n"
          ]
        }
      ]
    },
    {
      "cell_type": "code",
      "source": [
        "#rbind # cbind #Adding elements\n",
        "\n",
        "countries_data<-data.frame(country=c('Portugal','France','UK'),\n",
        "        population=c(10280000,66990000,66650000),\n",
        "        EU=c(TRUE,TRUE,FALSE)\n",
        ")"
      ],
      "metadata": {
        "id": "RSu9L7ptbysP"
      },
      "execution_count": 32,
      "outputs": []
    },
    {
      "cell_type": "code",
      "source": [
        "print(countries_data)"
      ],
      "metadata": {
        "colab": {
          "base_uri": "https://localhost:8080/"
        },
        "id": "mehMcn0ncBma",
        "outputId": "ada3bc68-ff4a-4819-ba04-0e8dbb4dd49d"
      },
      "execution_count": 33,
      "outputs": [
        {
          "output_type": "stream",
          "name": "stdout",
          "text": [
            "   country population    EU\n",
            "1 Portugal   10280000  TRUE\n",
            "2   France   66990000  TRUE\n",
            "3       UK   66650000 FALSE\n"
          ]
        }
      ]
    },
    {
      "cell_type": "code",
      "source": [
        "spain_data<-data.frame(country=c('Spain'),\n",
        "        population=c(1464561231),\n",
        "        EU=c(TRUE)\n",
        ")"
      ],
      "metadata": {
        "id": "4-5Byf5gcDKM"
      },
      "execution_count": 34,
      "outputs": []
    },
    {
      "cell_type": "code",
      "source": [
        "print(spain_data)"
      ],
      "metadata": {
        "colab": {
          "base_uri": "https://localhost:8080/"
        },
        "id": "DhHYuO7BcPmD",
        "outputId": "bf2978cd-63d2-4bdc-b84f-bf8240241c71"
      },
      "execution_count": 35,
      "outputs": [
        {
          "output_type": "stream",
          "name": "stdout",
          "text": [
            "  country population   EU\n",
            "1   Spain 1464561231 TRUE\n"
          ]
        }
      ]
    },
    {
      "cell_type": "code",
      "source": [
        "countries_data<-rbind(countries_data,spain_data)"
      ],
      "metadata": {
        "id": "MDm0bRd6cR5i"
      },
      "execution_count": 37,
      "outputs": []
    },
    {
      "cell_type": "code",
      "source": [
        "print(countries_data)"
      ],
      "metadata": {
        "colab": {
          "base_uri": "https://localhost:8080/"
        },
        "id": "icuqtYBncmQT",
        "outputId": "41d04744-1bdb-4133-f9e2-221b7b80163d"
      },
      "execution_count": 38,
      "outputs": [
        {
          "output_type": "stream",
          "name": "stdout",
          "text": [
            "   country population    EU\n",
            "1 Portugal   10280000  TRUE\n",
            "2   France   66990000  TRUE\n",
            "3       UK   66650000 FALSE\n",
            "4    Spain 1464561231  TRUE\n"
          ]
        }
      ]
    },
    {
      "cell_type": "code",
      "source": [
        "capitals<-c(\"Lisbon\",'Paris','London','Madrid')"
      ],
      "metadata": {
        "id": "rLVCevc_dcrl"
      },
      "execution_count": 39,
      "outputs": []
    },
    {
      "cell_type": "code",
      "source": [
        "countries_data <-cbind(countries_data,capitals)"
      ],
      "metadata": {
        "id": "9CngzL9ZdpIv"
      },
      "execution_count": 40,
      "outputs": []
    },
    {
      "cell_type": "code",
      "source": [
        "print(countries_data)"
      ],
      "metadata": {
        "colab": {
          "base_uri": "https://localhost:8080/"
        },
        "id": "V0b4lBBMdzO5",
        "outputId": "053a680e-a187-4ae4-88f6-bed2404980f1"
      },
      "execution_count": 41,
      "outputs": [
        {
          "output_type": "stream",
          "name": "stdout",
          "text": [
            "   country population    EU capitals\n",
            "1 Portugal   10280000  TRUE   Lisbon\n",
            "2   France   66990000  TRUE    Paris\n",
            "3       UK   66650000 FALSE   London\n",
            "4    Spain 1464561231  TRUE   Madrid\n"
          ]
        }
      ]
    },
    {
      "cell_type": "code",
      "source": [
        "str(countries_data)"
      ],
      "metadata": {
        "colab": {
          "base_uri": "https://localhost:8080/"
        },
        "id": "Ik5P58yNd1Vu",
        "outputId": "caa81d83-33cb-4147-d30c-be6724906ea8"
      },
      "execution_count": 42,
      "outputs": [
        {
          "output_type": "stream",
          "name": "stdout",
          "text": [
            "'data.frame':\t4 obs. of  4 variables:\n",
            " $ country   : chr  \"Portugal\" \"France\" \"UK\" \"Spain\"\n",
            " $ population: num  1.03e+07 6.70e+07 6.66e+07 1.46e+09\n",
            " $ EU        : logi  TRUE TRUE FALSE TRUE\n",
            " $ capitals  : chr  \"Lisbon\" \"Paris\" \"London\" \"Madrid\"\n"
          ]
        }
      ]
    },
    {
      "cell_type": "code",
      "source": [
        "#Removing elements from DF\n",
        "countries_data<-countries_data[-4,] #remove rows"
      ],
      "metadata": {
        "id": "Hk6ZqQMteNaX"
      },
      "execution_count": 45,
      "outputs": []
    },
    {
      "cell_type": "code",
      "source": [
        "print(countries_data)"
      ],
      "metadata": {
        "colab": {
          "base_uri": "https://localhost:8080/"
        },
        "id": "khT2D_Fqez4A",
        "outputId": "03409f3b-e85d-4fa4-f385-9fa2bcca7708"
      },
      "execution_count": 46,
      "outputs": [
        {
          "output_type": "stream",
          "name": "stdout",
          "text": [
            "   country population    EU capitals\n",
            "1 Portugal   10280000  TRUE   Lisbon\n",
            "2   France   66990000  TRUE    Paris\n",
            "3       UK   66650000 FALSE   London\n"
          ]
        }
      ]
    },
    {
      "cell_type": "code",
      "source": [
        "countries_data[,'EU']<-NULL #Remove columns"
      ],
      "metadata": {
        "id": "94Ec1F2Le-VJ"
      },
      "execution_count": 48,
      "outputs": []
    },
    {
      "cell_type": "code",
      "source": [
        "print(countries_data)"
      ],
      "metadata": {
        "colab": {
          "base_uri": "https://localhost:8080/"
        },
        "id": "iK4g8-ynfGpl",
        "outputId": "678c16bf-4640-4d62-dd32-eb25d14cf0b5"
      },
      "execution_count": 49,
      "outputs": [
        {
          "output_type": "stream",
          "name": "stdout",
          "text": [
            "   country population capitals\n",
            "1 Portugal   10280000   Lisbon\n",
            "2   France   66990000    Paris\n",
            "3       UK   66650000   London\n"
          ]
        }
      ]
    },
    {
      "cell_type": "code",
      "source": [
        ""
      ],
      "metadata": {
        "id": "n2JHudlbfMmQ"
      },
      "execution_count": null,
      "outputs": []
    }
  ]
}